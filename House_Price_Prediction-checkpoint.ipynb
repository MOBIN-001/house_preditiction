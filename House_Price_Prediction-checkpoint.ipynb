{
 "cells": [
  {
   "cell_type": "markdown",
   "id": "31e53564",
   "metadata": {},
   "source": [
    "## Import all Req libraries"
   ]
  },
  {
   "cell_type": "code",
   "execution_count": 1,
   "id": "d33fa233",
   "metadata": {},
   "outputs": [],
   "source": [
    "import pandas as pd\n",
    "import numpy as np\n",
    "import seaborn as sns\n",
    "import matplotlib.pyplot as plt\n",
    "from sklearn.preprocessing import StandardScaler \n",
    "import calendar\n",
    "from pandas.api.types import CategoricalDtype"
   ]
  },
  {
   "cell_type": "markdown",
   "id": "bf6dbc7a",
   "metadata": {},
   "source": [
    "## Load Dataset"
   ]
  },
  {
   "cell_type": "code",
   "execution_count": 2,
   "id": "d408556c",
   "metadata": {},
   "outputs": [
    {
     "name": "stdout",
     "output_type": "stream",
     "text": [
      "shape of df_test: (1459, 80)\n",
      "shape of df_train: (1460, 81)\n"
     ]
    }
   ],
   "source": [
    "test_path=r\"C:\\Users\\mobin\\Desktop\\house_price_prediction\\test.csv\"\n",
    "train_path=r\"C:\\Users\\mobin\\Desktop\\house_price_prediction\\train.csv\"\n",
    "\n",
    "df_test=pd.read_csv(test_path)\n",
    "df_train=pd.read_csv(train_path)\n",
    "\n",
    "print(\"shape of df_test:\", df_test.shape)\n",
    "print(\"shape of df_train:\", df_train.shape)\n"
   ]
  },
  {
   "cell_type": "code",
   "execution_count": 3,
   "id": "b83a3172",
   "metadata": {},
   "outputs": [
    {
     "data": {
      "text/html": [
       "<div>\n",
       "<style scoped>\n",
       "    .dataframe tbody tr th:only-of-type {\n",
       "        vertical-align: middle;\n",
       "    }\n",
       "\n",
       "    .dataframe tbody tr th {\n",
       "        vertical-align: top;\n",
       "    }\n",
       "\n",
       "    .dataframe thead th {\n",
       "        text-align: right;\n",
       "    }\n",
       "</style>\n",
       "<table border=\"1\" class=\"dataframe\">\n",
       "  <thead>\n",
       "    <tr style=\"text-align: right;\">\n",
       "      <th></th>\n",
       "      <th>Id</th>\n",
       "      <th>MSSubClass</th>\n",
       "      <th>MSZoning</th>\n",
       "      <th>LotFrontage</th>\n",
       "      <th>LotArea</th>\n",
       "      <th>Street</th>\n",
       "      <th>Alley</th>\n",
       "      <th>LotShape</th>\n",
       "      <th>LandContour</th>\n",
       "      <th>Utilities</th>\n",
       "      <th>...</th>\n",
       "      <th>ScreenPorch</th>\n",
       "      <th>PoolArea</th>\n",
       "      <th>PoolQC</th>\n",
       "      <th>Fence</th>\n",
       "      <th>MiscFeature</th>\n",
       "      <th>MiscVal</th>\n",
       "      <th>MoSold</th>\n",
       "      <th>YrSold</th>\n",
       "      <th>SaleType</th>\n",
       "      <th>SaleCondition</th>\n",
       "    </tr>\n",
       "  </thead>\n",
       "  <tbody>\n",
       "    <tr>\n",
       "      <th>0</th>\n",
       "      <td>1461</td>\n",
       "      <td>20</td>\n",
       "      <td>RH</td>\n",
       "      <td>80.0</td>\n",
       "      <td>11622</td>\n",
       "      <td>Pave</td>\n",
       "      <td>NaN</td>\n",
       "      <td>Reg</td>\n",
       "      <td>Lvl</td>\n",
       "      <td>AllPub</td>\n",
       "      <td>...</td>\n",
       "      <td>120</td>\n",
       "      <td>0</td>\n",
       "      <td>NaN</td>\n",
       "      <td>MnPrv</td>\n",
       "      <td>NaN</td>\n",
       "      <td>0</td>\n",
       "      <td>6</td>\n",
       "      <td>2010</td>\n",
       "      <td>WD</td>\n",
       "      <td>Normal</td>\n",
       "    </tr>\n",
       "    <tr>\n",
       "      <th>1</th>\n",
       "      <td>1462</td>\n",
       "      <td>20</td>\n",
       "      <td>RL</td>\n",
       "      <td>81.0</td>\n",
       "      <td>14267</td>\n",
       "      <td>Pave</td>\n",
       "      <td>NaN</td>\n",
       "      <td>IR1</td>\n",
       "      <td>Lvl</td>\n",
       "      <td>AllPub</td>\n",
       "      <td>...</td>\n",
       "      <td>0</td>\n",
       "      <td>0</td>\n",
       "      <td>NaN</td>\n",
       "      <td>NaN</td>\n",
       "      <td>Gar2</td>\n",
       "      <td>12500</td>\n",
       "      <td>6</td>\n",
       "      <td>2010</td>\n",
       "      <td>WD</td>\n",
       "      <td>Normal</td>\n",
       "    </tr>\n",
       "    <tr>\n",
       "      <th>2</th>\n",
       "      <td>1463</td>\n",
       "      <td>60</td>\n",
       "      <td>RL</td>\n",
       "      <td>74.0</td>\n",
       "      <td>13830</td>\n",
       "      <td>Pave</td>\n",
       "      <td>NaN</td>\n",
       "      <td>IR1</td>\n",
       "      <td>Lvl</td>\n",
       "      <td>AllPub</td>\n",
       "      <td>...</td>\n",
       "      <td>0</td>\n",
       "      <td>0</td>\n",
       "      <td>NaN</td>\n",
       "      <td>MnPrv</td>\n",
       "      <td>NaN</td>\n",
       "      <td>0</td>\n",
       "      <td>3</td>\n",
       "      <td>2010</td>\n",
       "      <td>WD</td>\n",
       "      <td>Normal</td>\n",
       "    </tr>\n",
       "    <tr>\n",
       "      <th>3</th>\n",
       "      <td>1464</td>\n",
       "      <td>60</td>\n",
       "      <td>RL</td>\n",
       "      <td>78.0</td>\n",
       "      <td>9978</td>\n",
       "      <td>Pave</td>\n",
       "      <td>NaN</td>\n",
       "      <td>IR1</td>\n",
       "      <td>Lvl</td>\n",
       "      <td>AllPub</td>\n",
       "      <td>...</td>\n",
       "      <td>0</td>\n",
       "      <td>0</td>\n",
       "      <td>NaN</td>\n",
       "      <td>NaN</td>\n",
       "      <td>NaN</td>\n",
       "      <td>0</td>\n",
       "      <td>6</td>\n",
       "      <td>2010</td>\n",
       "      <td>WD</td>\n",
       "      <td>Normal</td>\n",
       "    </tr>\n",
       "    <tr>\n",
       "      <th>4</th>\n",
       "      <td>1465</td>\n",
       "      <td>120</td>\n",
       "      <td>RL</td>\n",
       "      <td>43.0</td>\n",
       "      <td>5005</td>\n",
       "      <td>Pave</td>\n",
       "      <td>NaN</td>\n",
       "      <td>IR1</td>\n",
       "      <td>HLS</td>\n",
       "      <td>AllPub</td>\n",
       "      <td>...</td>\n",
       "      <td>144</td>\n",
       "      <td>0</td>\n",
       "      <td>NaN</td>\n",
       "      <td>NaN</td>\n",
       "      <td>NaN</td>\n",
       "      <td>0</td>\n",
       "      <td>1</td>\n",
       "      <td>2010</td>\n",
       "      <td>WD</td>\n",
       "      <td>Normal</td>\n",
       "    </tr>\n",
       "    <tr>\n",
       "      <th>5</th>\n",
       "      <td>1466</td>\n",
       "      <td>60</td>\n",
       "      <td>RL</td>\n",
       "      <td>75.0</td>\n",
       "      <td>10000</td>\n",
       "      <td>Pave</td>\n",
       "      <td>NaN</td>\n",
       "      <td>IR1</td>\n",
       "      <td>Lvl</td>\n",
       "      <td>AllPub</td>\n",
       "      <td>...</td>\n",
       "      <td>0</td>\n",
       "      <td>0</td>\n",
       "      <td>NaN</td>\n",
       "      <td>NaN</td>\n",
       "      <td>NaN</td>\n",
       "      <td>0</td>\n",
       "      <td>4</td>\n",
       "      <td>2010</td>\n",
       "      <td>WD</td>\n",
       "      <td>Normal</td>\n",
       "    </tr>\n",
       "    <tr>\n",
       "      <th>6</th>\n",
       "      <td>1467</td>\n",
       "      <td>20</td>\n",
       "      <td>RL</td>\n",
       "      <td>NaN</td>\n",
       "      <td>7980</td>\n",
       "      <td>Pave</td>\n",
       "      <td>NaN</td>\n",
       "      <td>IR1</td>\n",
       "      <td>Lvl</td>\n",
       "      <td>AllPub</td>\n",
       "      <td>...</td>\n",
       "      <td>0</td>\n",
       "      <td>0</td>\n",
       "      <td>NaN</td>\n",
       "      <td>GdPrv</td>\n",
       "      <td>Shed</td>\n",
       "      <td>500</td>\n",
       "      <td>3</td>\n",
       "      <td>2010</td>\n",
       "      <td>WD</td>\n",
       "      <td>Normal</td>\n",
       "    </tr>\n",
       "    <tr>\n",
       "      <th>7</th>\n",
       "      <td>1468</td>\n",
       "      <td>60</td>\n",
       "      <td>RL</td>\n",
       "      <td>63.0</td>\n",
       "      <td>8402</td>\n",
       "      <td>Pave</td>\n",
       "      <td>NaN</td>\n",
       "      <td>IR1</td>\n",
       "      <td>Lvl</td>\n",
       "      <td>AllPub</td>\n",
       "      <td>...</td>\n",
       "      <td>0</td>\n",
       "      <td>0</td>\n",
       "      <td>NaN</td>\n",
       "      <td>NaN</td>\n",
       "      <td>NaN</td>\n",
       "      <td>0</td>\n",
       "      <td>5</td>\n",
       "      <td>2010</td>\n",
       "      <td>WD</td>\n",
       "      <td>Normal</td>\n",
       "    </tr>\n",
       "    <tr>\n",
       "      <th>8</th>\n",
       "      <td>1469</td>\n",
       "      <td>20</td>\n",
       "      <td>RL</td>\n",
       "      <td>85.0</td>\n",
       "      <td>10176</td>\n",
       "      <td>Pave</td>\n",
       "      <td>NaN</td>\n",
       "      <td>Reg</td>\n",
       "      <td>Lvl</td>\n",
       "      <td>AllPub</td>\n",
       "      <td>...</td>\n",
       "      <td>0</td>\n",
       "      <td>0</td>\n",
       "      <td>NaN</td>\n",
       "      <td>NaN</td>\n",
       "      <td>NaN</td>\n",
       "      <td>0</td>\n",
       "      <td>2</td>\n",
       "      <td>2010</td>\n",
       "      <td>WD</td>\n",
       "      <td>Normal</td>\n",
       "    </tr>\n",
       "    <tr>\n",
       "      <th>9</th>\n",
       "      <td>1470</td>\n",
       "      <td>20</td>\n",
       "      <td>RL</td>\n",
       "      <td>70.0</td>\n",
       "      <td>8400</td>\n",
       "      <td>Pave</td>\n",
       "      <td>NaN</td>\n",
       "      <td>Reg</td>\n",
       "      <td>Lvl</td>\n",
       "      <td>AllPub</td>\n",
       "      <td>...</td>\n",
       "      <td>0</td>\n",
       "      <td>0</td>\n",
       "      <td>NaN</td>\n",
       "      <td>MnPrv</td>\n",
       "      <td>NaN</td>\n",
       "      <td>0</td>\n",
       "      <td>4</td>\n",
       "      <td>2010</td>\n",
       "      <td>WD</td>\n",
       "      <td>Normal</td>\n",
       "    </tr>\n",
       "  </tbody>\n",
       "</table>\n",
       "<p>10 rows × 80 columns</p>\n",
       "</div>"
      ],
      "text/plain": [
       "     Id  MSSubClass MSZoning  LotFrontage  LotArea Street Alley LotShape  \\\n",
       "0  1461          20       RH         80.0    11622   Pave   NaN      Reg   \n",
       "1  1462          20       RL         81.0    14267   Pave   NaN      IR1   \n",
       "2  1463          60       RL         74.0    13830   Pave   NaN      IR1   \n",
       "3  1464          60       RL         78.0     9978   Pave   NaN      IR1   \n",
       "4  1465         120       RL         43.0     5005   Pave   NaN      IR1   \n",
       "5  1466          60       RL         75.0    10000   Pave   NaN      IR1   \n",
       "6  1467          20       RL          NaN     7980   Pave   NaN      IR1   \n",
       "7  1468          60       RL         63.0     8402   Pave   NaN      IR1   \n",
       "8  1469          20       RL         85.0    10176   Pave   NaN      Reg   \n",
       "9  1470          20       RL         70.0     8400   Pave   NaN      Reg   \n",
       "\n",
       "  LandContour Utilities  ... ScreenPorch PoolArea PoolQC  Fence MiscFeature  \\\n",
       "0         Lvl    AllPub  ...         120        0    NaN  MnPrv         NaN   \n",
       "1         Lvl    AllPub  ...           0        0    NaN    NaN        Gar2   \n",
       "2         Lvl    AllPub  ...           0        0    NaN  MnPrv         NaN   \n",
       "3         Lvl    AllPub  ...           0        0    NaN    NaN         NaN   \n",
       "4         HLS    AllPub  ...         144        0    NaN    NaN         NaN   \n",
       "5         Lvl    AllPub  ...           0        0    NaN    NaN         NaN   \n",
       "6         Lvl    AllPub  ...           0        0    NaN  GdPrv        Shed   \n",
       "7         Lvl    AllPub  ...           0        0    NaN    NaN         NaN   \n",
       "8         Lvl    AllPub  ...           0        0    NaN    NaN         NaN   \n",
       "9         Lvl    AllPub  ...           0        0    NaN  MnPrv         NaN   \n",
       "\n",
       "  MiscVal MoSold  YrSold  SaleType  SaleCondition  \n",
       "0       0      6    2010        WD         Normal  \n",
       "1   12500      6    2010        WD         Normal  \n",
       "2       0      3    2010        WD         Normal  \n",
       "3       0      6    2010        WD         Normal  \n",
       "4       0      1    2010        WD         Normal  \n",
       "5       0      4    2010        WD         Normal  \n",
       "6     500      3    2010        WD         Normal  \n",
       "7       0      5    2010        WD         Normal  \n",
       "8       0      2    2010        WD         Normal  \n",
       "9       0      4    2010        WD         Normal  \n",
       "\n",
       "[10 rows x 80 columns]"
      ]
     },
     "execution_count": 3,
     "metadata": {},
     "output_type": "execute_result"
    }
   ],
   "source": [
    "df_test.head(10)"
   ]
  },
  {
   "cell_type": "code",
   "execution_count": 4,
   "id": "e738880e",
   "metadata": {},
   "outputs": [
    {
     "data": {
      "text/html": [
       "<div>\n",
       "<style scoped>\n",
       "    .dataframe tbody tr th:only-of-type {\n",
       "        vertical-align: middle;\n",
       "    }\n",
       "\n",
       "    .dataframe tbody tr th {\n",
       "        vertical-align: top;\n",
       "    }\n",
       "\n",
       "    .dataframe thead th {\n",
       "        text-align: right;\n",
       "    }\n",
       "</style>\n",
       "<table border=\"1\" class=\"dataframe\">\n",
       "  <thead>\n",
       "    <tr style=\"text-align: right;\">\n",
       "      <th></th>\n",
       "      <th>Id</th>\n",
       "      <th>MSSubClass</th>\n",
       "      <th>MSZoning</th>\n",
       "      <th>LotFrontage</th>\n",
       "      <th>LotArea</th>\n",
       "      <th>Street</th>\n",
       "      <th>Alley</th>\n",
       "      <th>LotShape</th>\n",
       "      <th>LandContour</th>\n",
       "      <th>Utilities</th>\n",
       "      <th>...</th>\n",
       "      <th>PoolArea</th>\n",
       "      <th>PoolQC</th>\n",
       "      <th>Fence</th>\n",
       "      <th>MiscFeature</th>\n",
       "      <th>MiscVal</th>\n",
       "      <th>MoSold</th>\n",
       "      <th>YrSold</th>\n",
       "      <th>SaleType</th>\n",
       "      <th>SaleCondition</th>\n",
       "      <th>SalePrice</th>\n",
       "    </tr>\n",
       "  </thead>\n",
       "  <tbody>\n",
       "    <tr>\n",
       "      <th>0</th>\n",
       "      <td>1</td>\n",
       "      <td>60</td>\n",
       "      <td>RL</td>\n",
       "      <td>65.0</td>\n",
       "      <td>8450</td>\n",
       "      <td>Pave</td>\n",
       "      <td>NaN</td>\n",
       "      <td>Reg</td>\n",
       "      <td>Lvl</td>\n",
       "      <td>AllPub</td>\n",
       "      <td>...</td>\n",
       "      <td>0</td>\n",
       "      <td>NaN</td>\n",
       "      <td>NaN</td>\n",
       "      <td>NaN</td>\n",
       "      <td>0</td>\n",
       "      <td>2</td>\n",
       "      <td>2008</td>\n",
       "      <td>WD</td>\n",
       "      <td>Normal</td>\n",
       "      <td>208500</td>\n",
       "    </tr>\n",
       "    <tr>\n",
       "      <th>1</th>\n",
       "      <td>2</td>\n",
       "      <td>20</td>\n",
       "      <td>RL</td>\n",
       "      <td>80.0</td>\n",
       "      <td>9600</td>\n",
       "      <td>Pave</td>\n",
       "      <td>NaN</td>\n",
       "      <td>Reg</td>\n",
       "      <td>Lvl</td>\n",
       "      <td>AllPub</td>\n",
       "      <td>...</td>\n",
       "      <td>0</td>\n",
       "      <td>NaN</td>\n",
       "      <td>NaN</td>\n",
       "      <td>NaN</td>\n",
       "      <td>0</td>\n",
       "      <td>5</td>\n",
       "      <td>2007</td>\n",
       "      <td>WD</td>\n",
       "      <td>Normal</td>\n",
       "      <td>181500</td>\n",
       "    </tr>\n",
       "    <tr>\n",
       "      <th>2</th>\n",
       "      <td>3</td>\n",
       "      <td>60</td>\n",
       "      <td>RL</td>\n",
       "      <td>68.0</td>\n",
       "      <td>11250</td>\n",
       "      <td>Pave</td>\n",
       "      <td>NaN</td>\n",
       "      <td>IR1</td>\n",
       "      <td>Lvl</td>\n",
       "      <td>AllPub</td>\n",
       "      <td>...</td>\n",
       "      <td>0</td>\n",
       "      <td>NaN</td>\n",
       "      <td>NaN</td>\n",
       "      <td>NaN</td>\n",
       "      <td>0</td>\n",
       "      <td>9</td>\n",
       "      <td>2008</td>\n",
       "      <td>WD</td>\n",
       "      <td>Normal</td>\n",
       "      <td>223500</td>\n",
       "    </tr>\n",
       "    <tr>\n",
       "      <th>3</th>\n",
       "      <td>4</td>\n",
       "      <td>70</td>\n",
       "      <td>RL</td>\n",
       "      <td>60.0</td>\n",
       "      <td>9550</td>\n",
       "      <td>Pave</td>\n",
       "      <td>NaN</td>\n",
       "      <td>IR1</td>\n",
       "      <td>Lvl</td>\n",
       "      <td>AllPub</td>\n",
       "      <td>...</td>\n",
       "      <td>0</td>\n",
       "      <td>NaN</td>\n",
       "      <td>NaN</td>\n",
       "      <td>NaN</td>\n",
       "      <td>0</td>\n",
       "      <td>2</td>\n",
       "      <td>2006</td>\n",
       "      <td>WD</td>\n",
       "      <td>Abnorml</td>\n",
       "      <td>140000</td>\n",
       "    </tr>\n",
       "    <tr>\n",
       "      <th>4</th>\n",
       "      <td>5</td>\n",
       "      <td>60</td>\n",
       "      <td>RL</td>\n",
       "      <td>84.0</td>\n",
       "      <td>14260</td>\n",
       "      <td>Pave</td>\n",
       "      <td>NaN</td>\n",
       "      <td>IR1</td>\n",
       "      <td>Lvl</td>\n",
       "      <td>AllPub</td>\n",
       "      <td>...</td>\n",
       "      <td>0</td>\n",
       "      <td>NaN</td>\n",
       "      <td>NaN</td>\n",
       "      <td>NaN</td>\n",
       "      <td>0</td>\n",
       "      <td>12</td>\n",
       "      <td>2008</td>\n",
       "      <td>WD</td>\n",
       "      <td>Normal</td>\n",
       "      <td>250000</td>\n",
       "    </tr>\n",
       "    <tr>\n",
       "      <th>5</th>\n",
       "      <td>6</td>\n",
       "      <td>50</td>\n",
       "      <td>RL</td>\n",
       "      <td>85.0</td>\n",
       "      <td>14115</td>\n",
       "      <td>Pave</td>\n",
       "      <td>NaN</td>\n",
       "      <td>IR1</td>\n",
       "      <td>Lvl</td>\n",
       "      <td>AllPub</td>\n",
       "      <td>...</td>\n",
       "      <td>0</td>\n",
       "      <td>NaN</td>\n",
       "      <td>MnPrv</td>\n",
       "      <td>Shed</td>\n",
       "      <td>700</td>\n",
       "      <td>10</td>\n",
       "      <td>2009</td>\n",
       "      <td>WD</td>\n",
       "      <td>Normal</td>\n",
       "      <td>143000</td>\n",
       "    </tr>\n",
       "    <tr>\n",
       "      <th>6</th>\n",
       "      <td>7</td>\n",
       "      <td>20</td>\n",
       "      <td>RL</td>\n",
       "      <td>75.0</td>\n",
       "      <td>10084</td>\n",
       "      <td>Pave</td>\n",
       "      <td>NaN</td>\n",
       "      <td>Reg</td>\n",
       "      <td>Lvl</td>\n",
       "      <td>AllPub</td>\n",
       "      <td>...</td>\n",
       "      <td>0</td>\n",
       "      <td>NaN</td>\n",
       "      <td>NaN</td>\n",
       "      <td>NaN</td>\n",
       "      <td>0</td>\n",
       "      <td>8</td>\n",
       "      <td>2007</td>\n",
       "      <td>WD</td>\n",
       "      <td>Normal</td>\n",
       "      <td>307000</td>\n",
       "    </tr>\n",
       "    <tr>\n",
       "      <th>7</th>\n",
       "      <td>8</td>\n",
       "      <td>60</td>\n",
       "      <td>RL</td>\n",
       "      <td>NaN</td>\n",
       "      <td>10382</td>\n",
       "      <td>Pave</td>\n",
       "      <td>NaN</td>\n",
       "      <td>IR1</td>\n",
       "      <td>Lvl</td>\n",
       "      <td>AllPub</td>\n",
       "      <td>...</td>\n",
       "      <td>0</td>\n",
       "      <td>NaN</td>\n",
       "      <td>NaN</td>\n",
       "      <td>Shed</td>\n",
       "      <td>350</td>\n",
       "      <td>11</td>\n",
       "      <td>2009</td>\n",
       "      <td>WD</td>\n",
       "      <td>Normal</td>\n",
       "      <td>200000</td>\n",
       "    </tr>\n",
       "    <tr>\n",
       "      <th>8</th>\n",
       "      <td>9</td>\n",
       "      <td>50</td>\n",
       "      <td>RM</td>\n",
       "      <td>51.0</td>\n",
       "      <td>6120</td>\n",
       "      <td>Pave</td>\n",
       "      <td>NaN</td>\n",
       "      <td>Reg</td>\n",
       "      <td>Lvl</td>\n",
       "      <td>AllPub</td>\n",
       "      <td>...</td>\n",
       "      <td>0</td>\n",
       "      <td>NaN</td>\n",
       "      <td>NaN</td>\n",
       "      <td>NaN</td>\n",
       "      <td>0</td>\n",
       "      <td>4</td>\n",
       "      <td>2008</td>\n",
       "      <td>WD</td>\n",
       "      <td>Abnorml</td>\n",
       "      <td>129900</td>\n",
       "    </tr>\n",
       "    <tr>\n",
       "      <th>9</th>\n",
       "      <td>10</td>\n",
       "      <td>190</td>\n",
       "      <td>RL</td>\n",
       "      <td>50.0</td>\n",
       "      <td>7420</td>\n",
       "      <td>Pave</td>\n",
       "      <td>NaN</td>\n",
       "      <td>Reg</td>\n",
       "      <td>Lvl</td>\n",
       "      <td>AllPub</td>\n",
       "      <td>...</td>\n",
       "      <td>0</td>\n",
       "      <td>NaN</td>\n",
       "      <td>NaN</td>\n",
       "      <td>NaN</td>\n",
       "      <td>0</td>\n",
       "      <td>1</td>\n",
       "      <td>2008</td>\n",
       "      <td>WD</td>\n",
       "      <td>Normal</td>\n",
       "      <td>118000</td>\n",
       "    </tr>\n",
       "  </tbody>\n",
       "</table>\n",
       "<p>10 rows × 81 columns</p>\n",
       "</div>"
      ],
      "text/plain": [
       "   Id  MSSubClass MSZoning  LotFrontage  LotArea Street Alley LotShape  \\\n",
       "0   1          60       RL         65.0     8450   Pave   NaN      Reg   \n",
       "1   2          20       RL         80.0     9600   Pave   NaN      Reg   \n",
       "2   3          60       RL         68.0    11250   Pave   NaN      IR1   \n",
       "3   4          70       RL         60.0     9550   Pave   NaN      IR1   \n",
       "4   5          60       RL         84.0    14260   Pave   NaN      IR1   \n",
       "5   6          50       RL         85.0    14115   Pave   NaN      IR1   \n",
       "6   7          20       RL         75.0    10084   Pave   NaN      Reg   \n",
       "7   8          60       RL          NaN    10382   Pave   NaN      IR1   \n",
       "8   9          50       RM         51.0     6120   Pave   NaN      Reg   \n",
       "9  10         190       RL         50.0     7420   Pave   NaN      Reg   \n",
       "\n",
       "  LandContour Utilities  ... PoolArea PoolQC  Fence MiscFeature MiscVal  \\\n",
       "0         Lvl    AllPub  ...        0    NaN    NaN         NaN       0   \n",
       "1         Lvl    AllPub  ...        0    NaN    NaN         NaN       0   \n",
       "2         Lvl    AllPub  ...        0    NaN    NaN         NaN       0   \n",
       "3         Lvl    AllPub  ...        0    NaN    NaN         NaN       0   \n",
       "4         Lvl    AllPub  ...        0    NaN    NaN         NaN       0   \n",
       "5         Lvl    AllPub  ...        0    NaN  MnPrv        Shed     700   \n",
       "6         Lvl    AllPub  ...        0    NaN    NaN         NaN       0   \n",
       "7         Lvl    AllPub  ...        0    NaN    NaN        Shed     350   \n",
       "8         Lvl    AllPub  ...        0    NaN    NaN         NaN       0   \n",
       "9         Lvl    AllPub  ...        0    NaN    NaN         NaN       0   \n",
       "\n",
       "  MoSold YrSold  SaleType  SaleCondition  SalePrice  \n",
       "0      2   2008        WD         Normal     208500  \n",
       "1      5   2007        WD         Normal     181500  \n",
       "2      9   2008        WD         Normal     223500  \n",
       "3      2   2006        WD        Abnorml     140000  \n",
       "4     12   2008        WD         Normal     250000  \n",
       "5     10   2009        WD         Normal     143000  \n",
       "6      8   2007        WD         Normal     307000  \n",
       "7     11   2009        WD         Normal     200000  \n",
       "8      4   2008        WD        Abnorml     129900  \n",
       "9      1   2008        WD         Normal     118000  \n",
       "\n",
       "[10 rows x 81 columns]"
      ]
     },
     "execution_count": 4,
     "metadata": {},
     "output_type": "execute_result"
    }
   ],
   "source": [
    "df_train.head(10)"
   ]
  },
  {
   "cell_type": "markdown",
   "id": "829a1da6",
   "metadata": {},
   "source": [
    "## data concatination /  data integration"
   ]
  },
  {
   "cell_type": "code",
   "execution_count": 5,
   "id": "2f1d72c4",
   "metadata": {},
   "outputs": [
    {
     "data": {
      "text/plain": [
       "(2919, 81)"
      ]
     },
     "execution_count": 5,
     "metadata": {},
     "output_type": "execute_result"
    }
   ],
   "source": [
    "df=pd.concat([df_test, df_train])\n",
    "df.shape"
   ]
  },
  {
   "cell_type": "code",
   "execution_count": 6,
   "id": "0d68ff2d",
   "metadata": {},
   "outputs": [
    {
     "name": "stdout",
     "output_type": "stream",
     "text": [
      "<class 'pandas.core.frame.DataFrame'>\n",
      "Int64Index: 2919 entries, 0 to 1459\n",
      "Data columns (total 81 columns):\n",
      " #   Column         Non-Null Count  Dtype  \n",
      "---  ------         --------------  -----  \n",
      " 0   Id             2919 non-null   int64  \n",
      " 1   MSSubClass     2919 non-null   int64  \n",
      " 2   MSZoning       2915 non-null   object \n",
      " 3   LotFrontage    2433 non-null   float64\n",
      " 4   LotArea        2919 non-null   int64  \n",
      " 5   Street         2919 non-null   object \n",
      " 6   Alley          198 non-null    object \n",
      " 7   LotShape       2919 non-null   object \n",
      " 8   LandContour    2919 non-null   object \n",
      " 9   Utilities      2917 non-null   object \n",
      " 10  LotConfig      2919 non-null   object \n",
      " 11  LandSlope      2919 non-null   object \n",
      " 12  Neighborhood   2919 non-null   object \n",
      " 13  Condition1     2919 non-null   object \n",
      " 14  Condition2     2919 non-null   object \n",
      " 15  BldgType       2919 non-null   object \n",
      " 16  HouseStyle     2919 non-null   object \n",
      " 17  OverallQual    2919 non-null   int64  \n",
      " 18  OverallCond    2919 non-null   int64  \n",
      " 19  YearBuilt      2919 non-null   int64  \n",
      " 20  YearRemodAdd   2919 non-null   int64  \n",
      " 21  RoofStyle      2919 non-null   object \n",
      " 22  RoofMatl       2919 non-null   object \n",
      " 23  Exterior1st    2918 non-null   object \n",
      " 24  Exterior2nd    2918 non-null   object \n",
      " 25  MasVnrType     2895 non-null   object \n",
      " 26  MasVnrArea     2896 non-null   float64\n",
      " 27  ExterQual      2919 non-null   object \n",
      " 28  ExterCond      2919 non-null   object \n",
      " 29  Foundation     2919 non-null   object \n",
      " 30  BsmtQual       2838 non-null   object \n",
      " 31  BsmtCond       2837 non-null   object \n",
      " 32  BsmtExposure   2837 non-null   object \n",
      " 33  BsmtFinType1   2840 non-null   object \n",
      " 34  BsmtFinSF1     2918 non-null   float64\n",
      " 35  BsmtFinType2   2839 non-null   object \n",
      " 36  BsmtFinSF2     2918 non-null   float64\n",
      " 37  BsmtUnfSF      2918 non-null   float64\n",
      " 38  TotalBsmtSF    2918 non-null   float64\n",
      " 39  Heating        2919 non-null   object \n",
      " 40  HeatingQC      2919 non-null   object \n",
      " 41  CentralAir     2919 non-null   object \n",
      " 42  Electrical     2918 non-null   object \n",
      " 43  1stFlrSF       2919 non-null   int64  \n",
      " 44  2ndFlrSF       2919 non-null   int64  \n",
      " 45  LowQualFinSF   2919 non-null   int64  \n",
      " 46  GrLivArea      2919 non-null   int64  \n",
      " 47  BsmtFullBath   2917 non-null   float64\n",
      " 48  BsmtHalfBath   2917 non-null   float64\n",
      " 49  FullBath       2919 non-null   int64  \n",
      " 50  HalfBath       2919 non-null   int64  \n",
      " 51  BedroomAbvGr   2919 non-null   int64  \n",
      " 52  KitchenAbvGr   2919 non-null   int64  \n",
      " 53  KitchenQual    2918 non-null   object \n",
      " 54  TotRmsAbvGrd   2919 non-null   int64  \n",
      " 55  Functional     2917 non-null   object \n",
      " 56  Fireplaces     2919 non-null   int64  \n",
      " 57  FireplaceQu    1499 non-null   object \n",
      " 58  GarageType     2762 non-null   object \n",
      " 59  GarageYrBlt    2760 non-null   float64\n",
      " 60  GarageFinish   2760 non-null   object \n",
      " 61  GarageCars     2918 non-null   float64\n",
      " 62  GarageArea     2918 non-null   float64\n",
      " 63  GarageQual     2760 non-null   object \n",
      " 64  GarageCond     2760 non-null   object \n",
      " 65  PavedDrive     2919 non-null   object \n",
      " 66  WoodDeckSF     2919 non-null   int64  \n",
      " 67  OpenPorchSF    2919 non-null   int64  \n",
      " 68  EnclosedPorch  2919 non-null   int64  \n",
      " 69  3SsnPorch      2919 non-null   int64  \n",
      " 70  ScreenPorch    2919 non-null   int64  \n",
      " 71  PoolArea       2919 non-null   int64  \n",
      " 72  PoolQC         10 non-null     object \n",
      " 73  Fence          571 non-null    object \n",
      " 74  MiscFeature    105 non-null    object \n",
      " 75  MiscVal        2919 non-null   int64  \n",
      " 76  MoSold         2919 non-null   int64  \n",
      " 77  YrSold         2919 non-null   int64  \n",
      " 78  SaleType       2918 non-null   object \n",
      " 79  SaleCondition  2919 non-null   object \n",
      " 80  SalePrice      1460 non-null   float64\n",
      "dtypes: float64(12), int64(26), object(43)\n",
      "memory usage: 1.8+ MB\n"
     ]
    }
   ],
   "source": [
    "df.info()"
   ]
  },
  {
   "cell_type": "raw",
   "id": "ee01c3ca",
   "metadata": {},
   "source": [
    "## these columns should be drop.because its most null value\n",
    "Alley\n",
    "MasVnrType\n",
    "FireplaceQu\n",
    "PoolQC\n",
    "Fence\n",
    "MiscFeature"
   ]
  },
  {
   "cell_type": "code",
   "execution_count": 7,
   "id": "64af9734",
   "metadata": {},
   "outputs": [
    {
     "data": {
      "text/plain": [
       "Index(['Id', 'MSSubClass', 'MSZoning', 'LotFrontage', 'LotArea', 'Street',\n",
       "       'Alley', 'LotShape', 'LandContour', 'Utilities', 'LotConfig',\n",
       "       'LandSlope', 'Neighborhood', 'Condition1', 'Condition2', 'BldgType',\n",
       "       'HouseStyle', 'OverallQual', 'OverallCond', 'YearBuilt', 'YearRemodAdd',\n",
       "       'RoofStyle', 'RoofMatl', 'Exterior1st', 'Exterior2nd', 'MasVnrType',\n",
       "       'MasVnrArea', 'ExterQual', 'ExterCond', 'Foundation', 'BsmtQual',\n",
       "       'BsmtCond', 'BsmtExposure', 'BsmtFinType1', 'BsmtFinSF1',\n",
       "       'BsmtFinType2', 'BsmtFinSF2', 'BsmtUnfSF', 'TotalBsmtSF', 'Heating',\n",
       "       'HeatingQC', 'CentralAir', 'Electrical', '1stFlrSF', '2ndFlrSF',\n",
       "       'LowQualFinSF', 'GrLivArea', 'BsmtFullBath', 'BsmtHalfBath', 'FullBath',\n",
       "       'HalfBath', 'BedroomAbvGr', 'KitchenAbvGr', 'KitchenQual',\n",
       "       'TotRmsAbvGrd', 'Functional', 'Fireplaces', 'FireplaceQu', 'GarageType',\n",
       "       'GarageYrBlt', 'GarageFinish', 'GarageCars', 'GarageArea', 'GarageQual',\n",
       "       'GarageCond', 'PavedDrive', 'WoodDeckSF', 'OpenPorchSF',\n",
       "       'EnclosedPorch', '3SsnPorch', 'ScreenPorch', 'PoolArea', 'PoolQC',\n",
       "       'Fence', 'MiscFeature', 'MiscVal', 'MoSold', 'YrSold', 'SaleType',\n",
       "       'SaleCondition', 'SalePrice'],\n",
       "      dtype='object')"
      ]
     },
     "execution_count": 7,
     "metadata": {},
     "output_type": "execute_result"
    }
   ],
   "source": [
    "df.columns"
   ]
  },
  {
   "cell_type": "code",
   "execution_count": 8,
   "id": "ccac4c37",
   "metadata": {},
   "outputs": [],
   "source": [
    "df=df.set_index('Id')"
   ]
  },
  {
   "cell_type": "code",
   "execution_count": 9,
   "id": "8a3b9107",
   "metadata": {},
   "outputs": [
    {
     "data": {
      "text/plain": [
       "MSSubClass          0\n",
       "MSZoning            4\n",
       "LotFrontage       486\n",
       "LotArea             0\n",
       "Street              0\n",
       "                 ... \n",
       "MoSold              0\n",
       "YrSold              0\n",
       "SaleType            1\n",
       "SaleCondition       0\n",
       "SalePrice        1459\n",
       "Length: 80, dtype: int64"
      ]
     },
     "execution_count": 9,
     "metadata": {},
     "output_type": "execute_result"
    }
   ],
   "source": [
    "df.isnull().sum()"
   ]
  },
  {
   "cell_type": "code",
   "execution_count": 10,
   "id": "dd67a8f2",
   "metadata": {},
   "outputs": [
    {
     "data": {
      "text/html": [
       "<div>\n",
       "<style scoped>\n",
       "    .dataframe tbody tr th:only-of-type {\n",
       "        vertical-align: middle;\n",
       "    }\n",
       "\n",
       "    .dataframe tbody tr th {\n",
       "        vertical-align: top;\n",
       "    }\n",
       "\n",
       "    .dataframe thead th {\n",
       "        text-align: right;\n",
       "    }\n",
       "</style>\n",
       "<table border=\"1\" class=\"dataframe\">\n",
       "  <thead>\n",
       "    <tr style=\"text-align: right;\">\n",
       "      <th></th>\n",
       "      <th>MSSubClass</th>\n",
       "      <th>LotFrontage</th>\n",
       "      <th>LotArea</th>\n",
       "      <th>OverallQual</th>\n",
       "      <th>OverallCond</th>\n",
       "      <th>YearBuilt</th>\n",
       "      <th>YearRemodAdd</th>\n",
       "      <th>MasVnrArea</th>\n",
       "      <th>BsmtFinSF1</th>\n",
       "      <th>BsmtFinSF2</th>\n",
       "      <th>...</th>\n",
       "      <th>WoodDeckSF</th>\n",
       "      <th>OpenPorchSF</th>\n",
       "      <th>EnclosedPorch</th>\n",
       "      <th>3SsnPorch</th>\n",
       "      <th>ScreenPorch</th>\n",
       "      <th>PoolArea</th>\n",
       "      <th>MiscVal</th>\n",
       "      <th>MoSold</th>\n",
       "      <th>YrSold</th>\n",
       "      <th>SalePrice</th>\n",
       "    </tr>\n",
       "  </thead>\n",
       "  <tbody>\n",
       "    <tr>\n",
       "      <th>count</th>\n",
       "      <td>2919.000000</td>\n",
       "      <td>2433.000000</td>\n",
       "      <td>2919.000000</td>\n",
       "      <td>2919.000000</td>\n",
       "      <td>2919.000000</td>\n",
       "      <td>2919.000000</td>\n",
       "      <td>2919.000000</td>\n",
       "      <td>2896.000000</td>\n",
       "      <td>2918.000000</td>\n",
       "      <td>2918.000000</td>\n",
       "      <td>...</td>\n",
       "      <td>2919.000000</td>\n",
       "      <td>2919.000000</td>\n",
       "      <td>2919.000000</td>\n",
       "      <td>2919.000000</td>\n",
       "      <td>2919.000000</td>\n",
       "      <td>2919.000000</td>\n",
       "      <td>2919.000000</td>\n",
       "      <td>2919.000000</td>\n",
       "      <td>2919.000000</td>\n",
       "      <td>1460.000000</td>\n",
       "    </tr>\n",
       "    <tr>\n",
       "      <th>mean</th>\n",
       "      <td>57.137718</td>\n",
       "      <td>69.305795</td>\n",
       "      <td>10168.114080</td>\n",
       "      <td>6.089072</td>\n",
       "      <td>5.564577</td>\n",
       "      <td>1971.312778</td>\n",
       "      <td>1984.264474</td>\n",
       "      <td>102.201312</td>\n",
       "      <td>441.423235</td>\n",
       "      <td>49.582248</td>\n",
       "      <td>...</td>\n",
       "      <td>93.709832</td>\n",
       "      <td>47.486811</td>\n",
       "      <td>23.098321</td>\n",
       "      <td>2.602261</td>\n",
       "      <td>16.062350</td>\n",
       "      <td>2.251799</td>\n",
       "      <td>50.825968</td>\n",
       "      <td>6.213087</td>\n",
       "      <td>2007.792737</td>\n",
       "      <td>180921.195890</td>\n",
       "    </tr>\n",
       "    <tr>\n",
       "      <th>std</th>\n",
       "      <td>42.517628</td>\n",
       "      <td>23.344905</td>\n",
       "      <td>7886.996359</td>\n",
       "      <td>1.409947</td>\n",
       "      <td>1.113131</td>\n",
       "      <td>30.291442</td>\n",
       "      <td>20.894344</td>\n",
       "      <td>179.334253</td>\n",
       "      <td>455.610826</td>\n",
       "      <td>169.205611</td>\n",
       "      <td>...</td>\n",
       "      <td>126.526589</td>\n",
       "      <td>67.575493</td>\n",
       "      <td>64.244246</td>\n",
       "      <td>25.188169</td>\n",
       "      <td>56.184365</td>\n",
       "      <td>35.663946</td>\n",
       "      <td>567.402211</td>\n",
       "      <td>2.714762</td>\n",
       "      <td>1.314964</td>\n",
       "      <td>79442.502883</td>\n",
       "    </tr>\n",
       "    <tr>\n",
       "      <th>min</th>\n",
       "      <td>20.000000</td>\n",
       "      <td>21.000000</td>\n",
       "      <td>1300.000000</td>\n",
       "      <td>1.000000</td>\n",
       "      <td>1.000000</td>\n",
       "      <td>1872.000000</td>\n",
       "      <td>1950.000000</td>\n",
       "      <td>0.000000</td>\n",
       "      <td>0.000000</td>\n",
       "      <td>0.000000</td>\n",
       "      <td>...</td>\n",
       "      <td>0.000000</td>\n",
       "      <td>0.000000</td>\n",
       "      <td>0.000000</td>\n",
       "      <td>0.000000</td>\n",
       "      <td>0.000000</td>\n",
       "      <td>0.000000</td>\n",
       "      <td>0.000000</td>\n",
       "      <td>1.000000</td>\n",
       "      <td>2006.000000</td>\n",
       "      <td>34900.000000</td>\n",
       "    </tr>\n",
       "    <tr>\n",
       "      <th>25%</th>\n",
       "      <td>20.000000</td>\n",
       "      <td>59.000000</td>\n",
       "      <td>7478.000000</td>\n",
       "      <td>5.000000</td>\n",
       "      <td>5.000000</td>\n",
       "      <td>1953.500000</td>\n",
       "      <td>1965.000000</td>\n",
       "      <td>0.000000</td>\n",
       "      <td>0.000000</td>\n",
       "      <td>0.000000</td>\n",
       "      <td>...</td>\n",
       "      <td>0.000000</td>\n",
       "      <td>0.000000</td>\n",
       "      <td>0.000000</td>\n",
       "      <td>0.000000</td>\n",
       "      <td>0.000000</td>\n",
       "      <td>0.000000</td>\n",
       "      <td>0.000000</td>\n",
       "      <td>4.000000</td>\n",
       "      <td>2007.000000</td>\n",
       "      <td>129975.000000</td>\n",
       "    </tr>\n",
       "    <tr>\n",
       "      <th>50%</th>\n",
       "      <td>50.000000</td>\n",
       "      <td>68.000000</td>\n",
       "      <td>9453.000000</td>\n",
       "      <td>6.000000</td>\n",
       "      <td>5.000000</td>\n",
       "      <td>1973.000000</td>\n",
       "      <td>1993.000000</td>\n",
       "      <td>0.000000</td>\n",
       "      <td>368.500000</td>\n",
       "      <td>0.000000</td>\n",
       "      <td>...</td>\n",
       "      <td>0.000000</td>\n",
       "      <td>26.000000</td>\n",
       "      <td>0.000000</td>\n",
       "      <td>0.000000</td>\n",
       "      <td>0.000000</td>\n",
       "      <td>0.000000</td>\n",
       "      <td>0.000000</td>\n",
       "      <td>6.000000</td>\n",
       "      <td>2008.000000</td>\n",
       "      <td>163000.000000</td>\n",
       "    </tr>\n",
       "    <tr>\n",
       "      <th>75%</th>\n",
       "      <td>70.000000</td>\n",
       "      <td>80.000000</td>\n",
       "      <td>11570.000000</td>\n",
       "      <td>7.000000</td>\n",
       "      <td>6.000000</td>\n",
       "      <td>2001.000000</td>\n",
       "      <td>2004.000000</td>\n",
       "      <td>164.000000</td>\n",
       "      <td>733.000000</td>\n",
       "      <td>0.000000</td>\n",
       "      <td>...</td>\n",
       "      <td>168.000000</td>\n",
       "      <td>70.000000</td>\n",
       "      <td>0.000000</td>\n",
       "      <td>0.000000</td>\n",
       "      <td>0.000000</td>\n",
       "      <td>0.000000</td>\n",
       "      <td>0.000000</td>\n",
       "      <td>8.000000</td>\n",
       "      <td>2009.000000</td>\n",
       "      <td>214000.000000</td>\n",
       "    </tr>\n",
       "    <tr>\n",
       "      <th>max</th>\n",
       "      <td>190.000000</td>\n",
       "      <td>313.000000</td>\n",
       "      <td>215245.000000</td>\n",
       "      <td>10.000000</td>\n",
       "      <td>9.000000</td>\n",
       "      <td>2010.000000</td>\n",
       "      <td>2010.000000</td>\n",
       "      <td>1600.000000</td>\n",
       "      <td>5644.000000</td>\n",
       "      <td>1526.000000</td>\n",
       "      <td>...</td>\n",
       "      <td>1424.000000</td>\n",
       "      <td>742.000000</td>\n",
       "      <td>1012.000000</td>\n",
       "      <td>508.000000</td>\n",
       "      <td>576.000000</td>\n",
       "      <td>800.000000</td>\n",
       "      <td>17000.000000</td>\n",
       "      <td>12.000000</td>\n",
       "      <td>2010.000000</td>\n",
       "      <td>755000.000000</td>\n",
       "    </tr>\n",
       "  </tbody>\n",
       "</table>\n",
       "<p>8 rows × 37 columns</p>\n",
       "</div>"
      ],
      "text/plain": [
       "        MSSubClass  LotFrontage        LotArea  OverallQual  OverallCond  \\\n",
       "count  2919.000000  2433.000000    2919.000000  2919.000000  2919.000000   \n",
       "mean     57.137718    69.305795   10168.114080     6.089072     5.564577   \n",
       "std      42.517628    23.344905    7886.996359     1.409947     1.113131   \n",
       "min      20.000000    21.000000    1300.000000     1.000000     1.000000   \n",
       "25%      20.000000    59.000000    7478.000000     5.000000     5.000000   \n",
       "50%      50.000000    68.000000    9453.000000     6.000000     5.000000   \n",
       "75%      70.000000    80.000000   11570.000000     7.000000     6.000000   \n",
       "max     190.000000   313.000000  215245.000000    10.000000     9.000000   \n",
       "\n",
       "         YearBuilt  YearRemodAdd   MasVnrArea   BsmtFinSF1   BsmtFinSF2  ...  \\\n",
       "count  2919.000000   2919.000000  2896.000000  2918.000000  2918.000000  ...   \n",
       "mean   1971.312778   1984.264474   102.201312   441.423235    49.582248  ...   \n",
       "std      30.291442     20.894344   179.334253   455.610826   169.205611  ...   \n",
       "min    1872.000000   1950.000000     0.000000     0.000000     0.000000  ...   \n",
       "25%    1953.500000   1965.000000     0.000000     0.000000     0.000000  ...   \n",
       "50%    1973.000000   1993.000000     0.000000   368.500000     0.000000  ...   \n",
       "75%    2001.000000   2004.000000   164.000000   733.000000     0.000000  ...   \n",
       "max    2010.000000   2010.000000  1600.000000  5644.000000  1526.000000  ...   \n",
       "\n",
       "        WoodDeckSF  OpenPorchSF  EnclosedPorch    3SsnPorch  ScreenPorch  \\\n",
       "count  2919.000000  2919.000000    2919.000000  2919.000000  2919.000000   \n",
       "mean     93.709832    47.486811      23.098321     2.602261    16.062350   \n",
       "std     126.526589    67.575493      64.244246    25.188169    56.184365   \n",
       "min       0.000000     0.000000       0.000000     0.000000     0.000000   \n",
       "25%       0.000000     0.000000       0.000000     0.000000     0.000000   \n",
       "50%       0.000000    26.000000       0.000000     0.000000     0.000000   \n",
       "75%     168.000000    70.000000       0.000000     0.000000     0.000000   \n",
       "max    1424.000000   742.000000    1012.000000   508.000000   576.000000   \n",
       "\n",
       "          PoolArea       MiscVal       MoSold       YrSold      SalePrice  \n",
       "count  2919.000000   2919.000000  2919.000000  2919.000000    1460.000000  \n",
       "mean      2.251799     50.825968     6.213087  2007.792737  180921.195890  \n",
       "std      35.663946    567.402211     2.714762     1.314964   79442.502883  \n",
       "min       0.000000      0.000000     1.000000  2006.000000   34900.000000  \n",
       "25%       0.000000      0.000000     4.000000  2007.000000  129975.000000  \n",
       "50%       0.000000      0.000000     6.000000  2008.000000  163000.000000  \n",
       "75%       0.000000      0.000000     8.000000  2009.000000  214000.000000  \n",
       "max     800.000000  17000.000000    12.000000  2010.000000  755000.000000  \n",
       "\n",
       "[8 rows x 37 columns]"
      ]
     },
     "execution_count": 10,
     "metadata": {},
     "output_type": "execute_result"
    }
   ],
   "source": [
    "df.describe()"
   ]
  },
  {
   "cell_type": "markdown",
   "id": "73d2f685",
   "metadata": {},
   "source": [
    "## find individuals features of the data type from this data."
   ]
  },
  {
   "cell_type": "code",
   "execution_count": 11,
   "id": "660ef24c",
   "metadata": {},
   "outputs": [
    {
     "name": "stdout",
     "output_type": "stream",
     "text": [
      "total numbers of integer featurs: 25\n",
      "integer featur name: ['MSSubClass', 'LotArea', 'OverallQual', 'OverallCond', 'YearBuilt', 'YearRemodAdd', '1stFlrSF', '2ndFlrSF', 'LowQualFinSF', 'GrLivArea', 'FullBath', 'HalfBath', 'BedroomAbvGr', 'KitchenAbvGr', 'TotRmsAbvGrd', 'Fireplaces', 'WoodDeckSF', 'OpenPorchSF', 'EnclosedPorch', '3SsnPorch', 'ScreenPorch', 'PoolArea', 'MiscVal', 'MoSold', 'YrSold']\n"
     ]
    }
   ],
   "source": [
    "int_features= df.select_dtypes(include=['int64']).columns\n",
    "print('total numbers of integer featurs:',int_features.shape[0])\n",
    "print('integer featur name:', int_features.tolist())\n"
   ]
  },
  {
   "cell_type": "code",
   "execution_count": 12,
   "id": "028cdf53",
   "metadata": {},
   "outputs": [
    {
     "name": "stdout",
     "output_type": "stream",
     "text": [
      "total numbers of float featurs: 12\n",
      "float featur name: ['LotFrontage', 'MasVnrArea', 'BsmtFinSF1', 'BsmtFinSF2', 'BsmtUnfSF', 'TotalBsmtSF', 'BsmtFullBath', 'BsmtHalfBath', 'GarageYrBlt', 'GarageCars', 'GarageArea', 'SalePrice']\n"
     ]
    }
   ],
   "source": [
    "float_features= df.select_dtypes(include=['float64']).columns\n",
    "print('total numbers of float featurs:',float_features.shape[0])\n",
    "print('float featur name:', float_features.tolist())"
   ]
  },
  {
   "cell_type": "code",
   "execution_count": 13,
   "id": "0459cd93",
   "metadata": {},
   "outputs": [
    {
     "name": "stdout",
     "output_type": "stream",
     "text": [
      "total numbers of cat featurs: 43\n",
      "cat featur name: ['MSZoning', 'Street', 'Alley', 'LotShape', 'LandContour', 'Utilities', 'LotConfig', 'LandSlope', 'Neighborhood', 'Condition1', 'Condition2', 'BldgType', 'HouseStyle', 'RoofStyle', 'RoofMatl', 'Exterior1st', 'Exterior2nd', 'MasVnrType', 'ExterQual', 'ExterCond', 'Foundation', 'BsmtQual', 'BsmtCond', 'BsmtExposure', 'BsmtFinType1', 'BsmtFinType2', 'Heating', 'HeatingQC', 'CentralAir', 'Electrical', 'KitchenQual', 'Functional', 'FireplaceQu', 'GarageType', 'GarageFinish', 'GarageQual', 'GarageCond', 'PavedDrive', 'PoolQC', 'Fence', 'MiscFeature', 'SaleType', 'SaleCondition']\n"
     ]
    }
   ],
   "source": [
    "cat_features= df.select_dtypes(include=['object']).columns\n",
    "print('total numbers of cat featurs:',cat_features.shape[0])\n",
    "print('cat featur name:', cat_features.tolist())"
   ]
  },
  {
   "cell_type": "markdown",
   "id": "d00d6261",
   "metadata": {},
   "source": [
    "## Get the statical information of the numerical features"
   ]
  },
  {
   "cell_type": "code",
   "execution_count": 14,
   "id": "90700fdb",
   "metadata": {},
   "outputs": [
    {
     "data": {
      "text/html": [
       "<div>\n",
       "<style scoped>\n",
       "    .dataframe tbody tr th:only-of-type {\n",
       "        vertical-align: middle;\n",
       "    }\n",
       "\n",
       "    .dataframe tbody tr th {\n",
       "        vertical-align: top;\n",
       "    }\n",
       "\n",
       "    .dataframe thead th {\n",
       "        text-align: right;\n",
       "    }\n",
       "</style>\n",
       "<table border=\"1\" class=\"dataframe\">\n",
       "  <thead>\n",
       "    <tr style=\"text-align: right;\">\n",
       "      <th></th>\n",
       "      <th>MSSubClass</th>\n",
       "      <th>LotFrontage</th>\n",
       "      <th>LotArea</th>\n",
       "      <th>OverallQual</th>\n",
       "      <th>OverallCond</th>\n",
       "      <th>YearBuilt</th>\n",
       "      <th>YearRemodAdd</th>\n",
       "      <th>MasVnrArea</th>\n",
       "      <th>BsmtFinSF1</th>\n",
       "      <th>BsmtFinSF2</th>\n",
       "      <th>...</th>\n",
       "      <th>WoodDeckSF</th>\n",
       "      <th>OpenPorchSF</th>\n",
       "      <th>EnclosedPorch</th>\n",
       "      <th>3SsnPorch</th>\n",
       "      <th>ScreenPorch</th>\n",
       "      <th>PoolArea</th>\n",
       "      <th>MiscVal</th>\n",
       "      <th>MoSold</th>\n",
       "      <th>YrSold</th>\n",
       "      <th>SalePrice</th>\n",
       "    </tr>\n",
       "  </thead>\n",
       "  <tbody>\n",
       "    <tr>\n",
       "      <th>count</th>\n",
       "      <td>2919.000000</td>\n",
       "      <td>2433.000000</td>\n",
       "      <td>2919.000000</td>\n",
       "      <td>2919.000000</td>\n",
       "      <td>2919.000000</td>\n",
       "      <td>2919.000000</td>\n",
       "      <td>2919.000000</td>\n",
       "      <td>2896.000000</td>\n",
       "      <td>2918.000000</td>\n",
       "      <td>2918.000000</td>\n",
       "      <td>...</td>\n",
       "      <td>2919.000000</td>\n",
       "      <td>2919.000000</td>\n",
       "      <td>2919.000000</td>\n",
       "      <td>2919.000000</td>\n",
       "      <td>2919.000000</td>\n",
       "      <td>2919.000000</td>\n",
       "      <td>2919.000000</td>\n",
       "      <td>2919.000000</td>\n",
       "      <td>2919.000000</td>\n",
       "      <td>1460.000000</td>\n",
       "    </tr>\n",
       "    <tr>\n",
       "      <th>mean</th>\n",
       "      <td>57.137718</td>\n",
       "      <td>69.305795</td>\n",
       "      <td>10168.114080</td>\n",
       "      <td>6.089072</td>\n",
       "      <td>5.564577</td>\n",
       "      <td>1971.312778</td>\n",
       "      <td>1984.264474</td>\n",
       "      <td>102.201312</td>\n",
       "      <td>441.423235</td>\n",
       "      <td>49.582248</td>\n",
       "      <td>...</td>\n",
       "      <td>93.709832</td>\n",
       "      <td>47.486811</td>\n",
       "      <td>23.098321</td>\n",
       "      <td>2.602261</td>\n",
       "      <td>16.062350</td>\n",
       "      <td>2.251799</td>\n",
       "      <td>50.825968</td>\n",
       "      <td>6.213087</td>\n",
       "      <td>2007.792737</td>\n",
       "      <td>180921.195890</td>\n",
       "    </tr>\n",
       "    <tr>\n",
       "      <th>std</th>\n",
       "      <td>42.517628</td>\n",
       "      <td>23.344905</td>\n",
       "      <td>7886.996359</td>\n",
       "      <td>1.409947</td>\n",
       "      <td>1.113131</td>\n",
       "      <td>30.291442</td>\n",
       "      <td>20.894344</td>\n",
       "      <td>179.334253</td>\n",
       "      <td>455.610826</td>\n",
       "      <td>169.205611</td>\n",
       "      <td>...</td>\n",
       "      <td>126.526589</td>\n",
       "      <td>67.575493</td>\n",
       "      <td>64.244246</td>\n",
       "      <td>25.188169</td>\n",
       "      <td>56.184365</td>\n",
       "      <td>35.663946</td>\n",
       "      <td>567.402211</td>\n",
       "      <td>2.714762</td>\n",
       "      <td>1.314964</td>\n",
       "      <td>79442.502883</td>\n",
       "    </tr>\n",
       "    <tr>\n",
       "      <th>min</th>\n",
       "      <td>20.000000</td>\n",
       "      <td>21.000000</td>\n",
       "      <td>1300.000000</td>\n",
       "      <td>1.000000</td>\n",
       "      <td>1.000000</td>\n",
       "      <td>1872.000000</td>\n",
       "      <td>1950.000000</td>\n",
       "      <td>0.000000</td>\n",
       "      <td>0.000000</td>\n",
       "      <td>0.000000</td>\n",
       "      <td>...</td>\n",
       "      <td>0.000000</td>\n",
       "      <td>0.000000</td>\n",
       "      <td>0.000000</td>\n",
       "      <td>0.000000</td>\n",
       "      <td>0.000000</td>\n",
       "      <td>0.000000</td>\n",
       "      <td>0.000000</td>\n",
       "      <td>1.000000</td>\n",
       "      <td>2006.000000</td>\n",
       "      <td>34900.000000</td>\n",
       "    </tr>\n",
       "    <tr>\n",
       "      <th>25%</th>\n",
       "      <td>20.000000</td>\n",
       "      <td>59.000000</td>\n",
       "      <td>7478.000000</td>\n",
       "      <td>5.000000</td>\n",
       "      <td>5.000000</td>\n",
       "      <td>1953.500000</td>\n",
       "      <td>1965.000000</td>\n",
       "      <td>0.000000</td>\n",
       "      <td>0.000000</td>\n",
       "      <td>0.000000</td>\n",
       "      <td>...</td>\n",
       "      <td>0.000000</td>\n",
       "      <td>0.000000</td>\n",
       "      <td>0.000000</td>\n",
       "      <td>0.000000</td>\n",
       "      <td>0.000000</td>\n",
       "      <td>0.000000</td>\n",
       "      <td>0.000000</td>\n",
       "      <td>4.000000</td>\n",
       "      <td>2007.000000</td>\n",
       "      <td>129975.000000</td>\n",
       "    </tr>\n",
       "    <tr>\n",
       "      <th>50%</th>\n",
       "      <td>50.000000</td>\n",
       "      <td>68.000000</td>\n",
       "      <td>9453.000000</td>\n",
       "      <td>6.000000</td>\n",
       "      <td>5.000000</td>\n",
       "      <td>1973.000000</td>\n",
       "      <td>1993.000000</td>\n",
       "      <td>0.000000</td>\n",
       "      <td>368.500000</td>\n",
       "      <td>0.000000</td>\n",
       "      <td>...</td>\n",
       "      <td>0.000000</td>\n",
       "      <td>26.000000</td>\n",
       "      <td>0.000000</td>\n",
       "      <td>0.000000</td>\n",
       "      <td>0.000000</td>\n",
       "      <td>0.000000</td>\n",
       "      <td>0.000000</td>\n",
       "      <td>6.000000</td>\n",
       "      <td>2008.000000</td>\n",
       "      <td>163000.000000</td>\n",
       "    </tr>\n",
       "    <tr>\n",
       "      <th>75%</th>\n",
       "      <td>70.000000</td>\n",
       "      <td>80.000000</td>\n",
       "      <td>11570.000000</td>\n",
       "      <td>7.000000</td>\n",
       "      <td>6.000000</td>\n",
       "      <td>2001.000000</td>\n",
       "      <td>2004.000000</td>\n",
       "      <td>164.000000</td>\n",
       "      <td>733.000000</td>\n",
       "      <td>0.000000</td>\n",
       "      <td>...</td>\n",
       "      <td>168.000000</td>\n",
       "      <td>70.000000</td>\n",
       "      <td>0.000000</td>\n",
       "      <td>0.000000</td>\n",
       "      <td>0.000000</td>\n",
       "      <td>0.000000</td>\n",
       "      <td>0.000000</td>\n",
       "      <td>8.000000</td>\n",
       "      <td>2009.000000</td>\n",
       "      <td>214000.000000</td>\n",
       "    </tr>\n",
       "    <tr>\n",
       "      <th>max</th>\n",
       "      <td>190.000000</td>\n",
       "      <td>313.000000</td>\n",
       "      <td>215245.000000</td>\n",
       "      <td>10.000000</td>\n",
       "      <td>9.000000</td>\n",
       "      <td>2010.000000</td>\n",
       "      <td>2010.000000</td>\n",
       "      <td>1600.000000</td>\n",
       "      <td>5644.000000</td>\n",
       "      <td>1526.000000</td>\n",
       "      <td>...</td>\n",
       "      <td>1424.000000</td>\n",
       "      <td>742.000000</td>\n",
       "      <td>1012.000000</td>\n",
       "      <td>508.000000</td>\n",
       "      <td>576.000000</td>\n",
       "      <td>800.000000</td>\n",
       "      <td>17000.000000</td>\n",
       "      <td>12.000000</td>\n",
       "      <td>2010.000000</td>\n",
       "      <td>755000.000000</td>\n",
       "    </tr>\n",
       "  </tbody>\n",
       "</table>\n",
       "<p>8 rows × 37 columns</p>\n",
       "</div>"
      ],
      "text/plain": [
       "        MSSubClass  LotFrontage        LotArea  OverallQual  OverallCond  \\\n",
       "count  2919.000000  2433.000000    2919.000000  2919.000000  2919.000000   \n",
       "mean     57.137718    69.305795   10168.114080     6.089072     5.564577   \n",
       "std      42.517628    23.344905    7886.996359     1.409947     1.113131   \n",
       "min      20.000000    21.000000    1300.000000     1.000000     1.000000   \n",
       "25%      20.000000    59.000000    7478.000000     5.000000     5.000000   \n",
       "50%      50.000000    68.000000    9453.000000     6.000000     5.000000   \n",
       "75%      70.000000    80.000000   11570.000000     7.000000     6.000000   \n",
       "max     190.000000   313.000000  215245.000000    10.000000     9.000000   \n",
       "\n",
       "         YearBuilt  YearRemodAdd   MasVnrArea   BsmtFinSF1   BsmtFinSF2  ...  \\\n",
       "count  2919.000000   2919.000000  2896.000000  2918.000000  2918.000000  ...   \n",
       "mean   1971.312778   1984.264474   102.201312   441.423235    49.582248  ...   \n",
       "std      30.291442     20.894344   179.334253   455.610826   169.205611  ...   \n",
       "min    1872.000000   1950.000000     0.000000     0.000000     0.000000  ...   \n",
       "25%    1953.500000   1965.000000     0.000000     0.000000     0.000000  ...   \n",
       "50%    1973.000000   1993.000000     0.000000   368.500000     0.000000  ...   \n",
       "75%    2001.000000   2004.000000   164.000000   733.000000     0.000000  ...   \n",
       "max    2010.000000   2010.000000  1600.000000  5644.000000  1526.000000  ...   \n",
       "\n",
       "        WoodDeckSF  OpenPorchSF  EnclosedPorch    3SsnPorch  ScreenPorch  \\\n",
       "count  2919.000000  2919.000000    2919.000000  2919.000000  2919.000000   \n",
       "mean     93.709832    47.486811      23.098321     2.602261    16.062350   \n",
       "std     126.526589    67.575493      64.244246    25.188169    56.184365   \n",
       "min       0.000000     0.000000       0.000000     0.000000     0.000000   \n",
       "25%       0.000000     0.000000       0.000000     0.000000     0.000000   \n",
       "50%       0.000000    26.000000       0.000000     0.000000     0.000000   \n",
       "75%     168.000000    70.000000       0.000000     0.000000     0.000000   \n",
       "max    1424.000000   742.000000    1012.000000   508.000000   576.000000   \n",
       "\n",
       "          PoolArea       MiscVal       MoSold       YrSold      SalePrice  \n",
       "count  2919.000000   2919.000000  2919.000000  2919.000000    1460.000000  \n",
       "mean      2.251799     50.825968     6.213087  2007.792737  180921.195890  \n",
       "std      35.663946    567.402211     2.714762     1.314964   79442.502883  \n",
       "min       0.000000      0.000000     1.000000  2006.000000   34900.000000  \n",
       "25%       0.000000      0.000000     4.000000  2007.000000  129975.000000  \n",
       "50%       0.000000      0.000000     6.000000  2008.000000  163000.000000  \n",
       "75%       0.000000      0.000000     8.000000  2009.000000  214000.000000  \n",
       "max     800.000000  17000.000000    12.000000  2010.000000  755000.000000  \n",
       "\n",
       "[8 rows x 37 columns]"
      ]
     },
     "execution_count": 14,
     "metadata": {},
     "output_type": "execute_result"
    }
   ],
   "source": [
    "df.describe()"
   ]
  },
  {
   "cell_type": "markdown",
   "id": "263d268a",
   "metadata": {},
   "source": [
    "## Visualize null/ missing values"
   ]
  },
  {
   "cell_type": "code",
   "execution_count": 15,
   "id": "e255994f",
   "metadata": {},
   "outputs": [
    {
     "data": {
      "image/png": "[encoded data removed]",
      "text/plain": [
       "<Figure size 1152x648 with 2 Axes>"
      ]
     },
     "metadata": {
      "needs_background": "light"
     },
     "output_type": "display_data"
    }
   ],
   "source": [
    "plt.figure(figsize=(16,9))\n",
    "sns.heatmap(df.isnull())\n",
    "plt.savefig('EDA_img/heatmap_DF_of_null_values.png')"
   ]
  },
  {
   "cell_type": "raw",
   "id": "0841f1c1",
   "metadata": {},
   "source": [
    "## Above fig indicate that on heatmap scale range o to 1 which means o values shows as a not null values and 1 indicates null values on fig."
   ]
  },
  {
   "cell_type": "markdown",
   "id": "f4ed68d2",
   "metadata": {},
   "source": [
    "## Now find the total null values in percentage of every features"
   ]
  },
  {
   "cell_type": "code",
   "execution_count": 16,
   "id": "0d97be56",
   "metadata": {},
   "outputs": [
    {
     "data": {
      "text/plain": [
       "MSSubClass        0.000000\n",
       "MSZoning          0.137033\n",
       "LotFrontage      16.649538\n",
       "LotArea           0.000000\n",
       "Street            0.000000\n",
       "                   ...    \n",
       "MoSold            0.000000\n",
       "YrSold            0.000000\n",
       "SaleType          0.034258\n",
       "SaleCondition     0.000000\n",
       "SalePrice        49.982871\n",
       "Length: 80, dtype: float64"
      ]
     },
     "execution_count": 16,
     "metadata": {},
     "output_type": "execute_result"
    }
   ],
   "source": [
    "null_percentage = df.isnull().sum()/df.shape[0]*100\n",
    "null_percentage"
   ]
  },
  {
   "cell_type": "code",
   "execution_count": 17,
   "id": "8f1f8abc",
   "metadata": {},
   "outputs": [
    {
     "data": {
      "text/plain": [
       "MSSubClass       0.000000\n",
       "MSZoning         0.137033\n",
       "LotFrontage     16.649538\n",
       "LotArea          0.000000\n",
       "Street           0.000000\n",
       "Alley           93.216855\n",
       "LotShape         0.000000\n",
       "LandContour      0.000000\n",
       "Utilities        0.068517\n",
       "LotConfig        0.000000\n",
       "LandSlope        0.000000\n",
       "Neighborhood     0.000000\n",
       "Condition1       0.000000\n",
       "Condition2       0.000000\n",
       "BldgType         0.000000\n",
       "HouseStyle       0.000000\n",
       "OverallQual      0.000000\n",
       "OverallCond      0.000000\n",
       "YearBuilt        0.000000\n",
       "YearRemodAdd     0.000000\n",
       "RoofStyle        0.000000\n",
       "RoofMatl         0.000000\n",
       "Exterior1st      0.034258\n",
       "Exterior2nd      0.034258\n",
       "MasVnrType       0.822199\n",
       "MasVnrArea       0.787941\n",
       "ExterQual        0.000000\n",
       "ExterCond        0.000000\n",
       "Foundation       0.000000\n",
       "BsmtQual         2.774923\n",
       "BsmtCond         2.809181\n",
       "BsmtExposure     2.809181\n",
       "BsmtFinType1     2.706406\n",
       "BsmtFinSF1       0.034258\n",
       "BsmtFinType2     2.740665\n",
       "BsmtFinSF2       0.034258\n",
       "BsmtUnfSF        0.034258\n",
       "TotalBsmtSF      0.034258\n",
       "Heating          0.000000\n",
       "HeatingQC        0.000000\n",
       "CentralAir       0.000000\n",
       "Electrical       0.034258\n",
       "1stFlrSF         0.000000\n",
       "2ndFlrSF         0.000000\n",
       "LowQualFinSF     0.000000\n",
       "GrLivArea        0.000000\n",
       "BsmtFullBath     0.068517\n",
       "BsmtHalfBath     0.068517\n",
       "FullBath         0.000000\n",
       "HalfBath         0.000000\n",
       "BedroomAbvGr     0.000000\n",
       "KitchenAbvGr     0.000000\n",
       "KitchenQual      0.034258\n",
       "TotRmsAbvGrd     0.000000\n",
       "Functional       0.068517\n",
       "Fireplaces       0.000000\n",
       "FireplaceQu     48.646797\n",
       "GarageType       5.378554\n",
       "GarageYrBlt      5.447071\n",
       "GarageFinish     5.447071\n",
       "dtype: float64"
      ]
     },
     "execution_count": 17,
     "metadata": {},
     "output_type": "execute_result"
    }
   ],
   "source": [
    "null_percentage.head(60)"
   ]
  },
  {
   "cell_type": "code",
   "execution_count": 18,
   "id": "93dc9cbd",
   "metadata": {},
   "outputs": [
    {
     "data": {
      "text/plain": [
       "GarageYrBlt       5.447071\n",
       "GarageFinish      5.447071\n",
       "GarageCars        0.034258\n",
       "GarageArea        0.034258\n",
       "GarageQual        5.447071\n",
       "GarageCond        5.447071\n",
       "PavedDrive        0.000000\n",
       "WoodDeckSF        0.000000\n",
       "OpenPorchSF       0.000000\n",
       "EnclosedPorch     0.000000\n",
       "3SsnPorch         0.000000\n",
       "ScreenPorch       0.000000\n",
       "PoolArea          0.000000\n",
       "PoolQC           99.657417\n",
       "Fence            80.438506\n",
       "MiscFeature      96.402878\n",
       "MiscVal           0.000000\n",
       "MoSold            0.000000\n",
       "YrSold            0.000000\n",
       "SaleType          0.034258\n",
       "SaleCondition     0.000000\n",
       "SalePrice        49.982871\n",
       "dtype: float64"
      ]
     },
     "execution_count": 18,
     "metadata": {},
     "output_type": "execute_result"
    }
   ],
   "source": [
    "null_percentage.tail(22)"
   ]
  },
  {
   "cell_type": "markdown",
   "id": "468e07bd",
   "metadata": {},
   "source": [
    "## Drop columns/features"
   ]
  },
  {
   "cell_type": "code",
   "execution_count": 19,
   "id": "49206de9",
   "metadata": {},
   "outputs": [
    {
     "data": {
      "text/plain": [
       "Alley          93.216855\n",
       "PoolQC         99.657417\n",
       "Fence          80.438506\n",
       "MiscFeature    96.402878\n",
       "dtype: float64"
      ]
     },
     "execution_count": 19,
     "metadata": {},
     "output_type": "execute_result"
    }
   ],
   "source": [
    "\"\"\"\" As per domain knowledge we will not drop these features instead will replace or add 'NA'\"\"\"\n",
    "missing_val_50percentage= null_percentage[null_percentage >50]\n",
    "missing_val_50percentage"
   ]
  },
  {
   "cell_type": "code",
   "execution_count": 20,
   "id": "1f2ccbfb",
   "metadata": {},
   "outputs": [
    {
     "data": {
      "text/plain": [
       "Ex    4\n",
       "Gd    4\n",
       "Fa    2\n",
       "Name: PoolQC, dtype: int64"
      ]
     },
     "execution_count": 20,
     "metadata": {},
     "output_type": "execute_result"
    }
   ],
   "source": [
    "df[\"PoolQC\"].value_counts()"
   ]
  },
  {
   "cell_type": "code",
   "execution_count": 21,
   "id": "67fb62b6",
   "metadata": {},
   "outputs": [
    {
     "data": {
      "text/plain": [
       "FireplaceQu    48.646797\n",
       "SalePrice      49.982871\n",
       "dtype: float64"
      ]
     },
     "execution_count": 21,
     "metadata": {},
     "output_type": "execute_result"
    }
   ],
   "source": [
    "\"\"\"\" As per domain knowledge we will not drop those FireplaceQu features instead will replace or add 'NA'\"\"\"\n",
    "missing_val_20_50_percentage = null_percentage[(null_percentage>20)&(null_percentage<51)]\n",
    "missing_val_20_50_percentage"
   ]
  },
  {
   "cell_type": "code",
   "execution_count": 22,
   "id": "858037d3",
   "metadata": {},
   "outputs": [
    {
     "data": {
      "text/plain": [
       "Gd    744\n",
       "TA    592\n",
       "Fa     74\n",
       "Po     46\n",
       "Ex     43\n",
       "Name: FireplaceQu, dtype: int64"
      ]
     },
     "execution_count": 22,
     "metadata": {},
     "output_type": "execute_result"
    }
   ],
   "source": [
    "df['FireplaceQu'].value_counts()"
   ]
  },
  {
   "cell_type": "code",
   "execution_count": 23,
   "id": "97631eee",
   "metadata": {},
   "outputs": [
    {
     "data": {
      "text/plain": [
       "LotFrontage     16.649538\n",
       "GarageType       5.378554\n",
       "GarageYrBlt      5.447071\n",
       "GarageFinish     5.447071\n",
       "GarageQual       5.447071\n",
       "GarageCond       5.447071\n",
       "dtype: float64"
      ]
     },
     "execution_count": 23,
     "metadata": {},
     "output_type": "execute_result"
    }
   ],
   "source": [
    "missing_val_5_20_percentage = null_percentage[(null_percentage>5)&(null_percentage<21)]\n",
    "missing_val_5_20_percentage"
   ]
  },
  {
   "cell_type": "code",
   "execution_count": 24,
   "id": "d147abe6",
   "metadata": {},
   "outputs": [
    {
     "data": {
      "text/plain": [
       "<AxesSubplot:ylabel='Id'>"
      ]
     },
     "execution_count": 24,
     "metadata": {},
     "output_type": "execute_result"
    },
    {
     "data": {
      "image/png": "[encoded data removed]",
      "text/plain": [
       "<Figure size 432x288 with 2 Axes>"
      ]
     },
     "metadata": {
      "needs_background": "light"
     },
     "output_type": "display_data"
    }
   ],
   "source": [
    "sns.heatmap(df[missing_val_5_20_percentage.keys()].isnull())"
   ]
  },
  {
   "cell_type": "markdown",
   "id": "dc0a14b2",
   "metadata": {},
   "source": [
    "## Missing value Imputation"
   ]
  },
  {
   "cell_type": "code",
   "execution_count": 25,
   "id": "ad3707dc",
   "metadata": {},
   "outputs": [
    {
     "name": "stdout",
     "output_type": "stream",
     "text": [
      "total missing value feature: 35\n"
     ]
    },
    {
     "data": {
      "text/plain": [
       "MSZoning         0.137033\n",
       "LotFrontage     16.649538\n",
       "Alley           93.216855\n",
       "Utilities        0.068517\n",
       "Exterior1st      0.034258\n",
       "Exterior2nd      0.034258\n",
       "MasVnrType       0.822199\n",
       "MasVnrArea       0.787941\n",
       "BsmtQual         2.774923\n",
       "BsmtCond         2.809181\n",
       "BsmtExposure     2.809181\n",
       "BsmtFinType1     2.706406\n",
       "BsmtFinSF1       0.034258\n",
       "BsmtFinType2     2.740665\n",
       "BsmtFinSF2       0.034258\n",
       "BsmtUnfSF        0.034258\n",
       "TotalBsmtSF      0.034258\n",
       "Electrical       0.034258\n",
       "BsmtFullBath     0.068517\n",
       "BsmtHalfBath     0.068517\n",
       "KitchenQual      0.034258\n",
       "Functional       0.068517\n",
       "FireplaceQu     48.646797\n",
       "GarageType       5.378554\n",
       "GarageYrBlt      5.447071\n",
       "GarageFinish     5.447071\n",
       "GarageCars       0.034258\n",
       "GarageArea       0.034258\n",
       "GarageQual       5.447071\n",
       "GarageCond       5.447071\n",
       "PoolQC          99.657417\n",
       "Fence           80.438506\n",
       "MiscFeature     96.402878\n",
       "SaleType         0.034258\n",
       "SalePrice       49.982871\n",
       "dtype: float64"
      ]
     },
     "execution_count": 25,
     "metadata": {},
     "output_type": "execute_result"
    }
   ],
   "source": [
    "missing_val_feature= null_percentage[null_percentage>0]\n",
    "print('total missing value feature:', len(missing_val_feature))\n",
    "missing_val_feature"
   ]
  },
  {
   "cell_type": "code",
   "execution_count": 26,
   "id": "3a0d5203",
   "metadata": {},
   "outputs": [
    {
     "name": "stdout",
     "output_type": "stream",
     "text": [
      "total number of missing categorical features: 23\n"
     ]
    },
    {
     "data": {
      "text/plain": [
       "MSZoning         0.137033\n",
       "Alley           93.216855\n",
       "Utilities        0.068517\n",
       "Exterior1st      0.034258\n",
       "Exterior2nd      0.034258\n",
       "MasVnrType       0.822199\n",
       "BsmtQual         2.774923\n",
       "BsmtCond         2.809181\n",
       "BsmtExposure     2.809181\n",
       "BsmtFinType1     2.706406\n",
       "BsmtFinType2     2.740665\n",
       "Electrical       0.034258\n",
       "KitchenQual      0.034258\n",
       "Functional       0.068517\n",
       "FireplaceQu     48.646797\n",
       "GarageType       5.378554\n",
       "GarageFinish     5.447071\n",
       "GarageQual       5.447071\n",
       "GarageCond       5.447071\n",
       "PoolQC          99.657417\n",
       "Fence           80.438506\n",
       "MiscFeature     96.402878\n",
       "SaleType         0.034258\n",
       "dtype: float64"
      ]
     },
     "execution_count": 26,
     "metadata": {},
     "output_type": "execute_result"
    }
   ],
   "source": [
    "cat_na_features= missing_val_feature[missing_val_feature.keys().isin(cat_features)]\n",
    "print('total number of missing categorical features:', len(cat_na_features))\n",
    "cat_na_features"
   ]
  },
  {
   "cell_type": "code",
   "execution_count": 27,
   "id": "972eb723",
   "metadata": {},
   "outputs": [
    {
     "name": "stdout",
     "output_type": "stream",
     "text": [
      "total number of missing int features: 0\n"
     ]
    },
    {
     "data": {
      "text/plain": [
       "Series([], dtype: float64)"
      ]
     },
     "execution_count": 27,
     "metadata": {},
     "output_type": "execute_result"
    }
   ],
   "source": [
    "int_na_features= missing_val_feature[missing_val_feature.keys().isin(int_features)]\n",
    "print('total number of missing int features:', len(int_na_features))\n",
    "int_na_features"
   ]
  },
  {
   "cell_type": "code",
   "execution_count": 28,
   "id": "cdf04b35",
   "metadata": {},
   "outputs": [
    {
     "name": "stdout",
     "output_type": "stream",
     "text": [
      "total number of missing float features: 12\n"
     ]
    },
    {
     "data": {
      "text/plain": [
       "LotFrontage     16.649538\n",
       "MasVnrArea       0.787941\n",
       "BsmtFinSF1       0.034258\n",
       "BsmtFinSF2       0.034258\n",
       "BsmtUnfSF        0.034258\n",
       "TotalBsmtSF      0.034258\n",
       "BsmtFullBath     0.068517\n",
       "BsmtHalfBath     0.068517\n",
       "GarageYrBlt      5.447071\n",
       "GarageCars       0.034258\n",
       "GarageArea       0.034258\n",
       "SalePrice       49.982871\n",
       "dtype: float64"
      ]
     },
     "execution_count": 28,
     "metadata": {},
     "output_type": "execute_result"
    }
   ],
   "source": [
    "float_na_features= missing_val_feature[missing_val_feature.keys().isin(float_features)]\n",
    "print('total number of missing float features:', len(float_na_features))\n",
    "float_na_features"
   ]
  },
  {
   "cell_type": "markdown",
   "id": "3e431787",
   "metadata": {},
   "source": [
    "## Handling MSZoning = 0.137033 "
   ]
  },
  {
   "cell_type": "code",
   "execution_count": 29,
   "id": "1ceaf923",
   "metadata": {},
   "outputs": [
    {
     "data": {
      "text/plain": [
       "RL         2265\n",
       "RM          460\n",
       "FV          139\n",
       "RH           26\n",
       "C (all)      25\n",
       "Name: MSZoning, dtype: int64"
      ]
     },
     "execution_count": 29,
     "metadata": {},
     "output_type": "execute_result"
    }
   ],
   "source": [
    "df[\"MSZoning\"].value_counts()"
   ]
  },
  {
   "cell_type": "code",
   "execution_count": 30,
   "id": "d9f06175",
   "metadata": {},
   "outputs": [
    {
     "name": "stderr",
     "output_type": "stream",
     "text": [
      "C:\\Users\\mobin\\anaconda3\\lib\\site-packages\\seaborn\\_decorators.py:36: FutureWarning: Pass the following variable as a keyword arg: x. From version 0.12, the only valid positional argument will be `data`, and passing other arguments without an explicit keyword will result in an error or misinterpretation.\n",
      "  warnings.warn(\n"
     ]
    },
    {
     "data": {
      "text/plain": [
       "<AxesSubplot:xlabel='MSZoning', ylabel='count'>"
      ]
     },
     "execution_count": 30,
     "metadata": {},
     "output_type": "execute_result"
    },
    {
     "data": {
      "image/png": "[encoded data removed]",
      "text/plain": [
       "<Figure size 432x288 with 1 Axes>"
      ]
     },
     "metadata": {
      "needs_background": "light"
     },
     "output_type": "display_data"
    }
   ],
   "source": [
    "sns.countplot(df['MSZoning'])"
   ]
  },
  {
   "cell_type": "code",
   "execution_count": 31,
   "id": "547892c5",
   "metadata": {},
   "outputs": [
    {
     "data": {
      "text/plain": [
       "(2919, 80)"
      ]
     },
     "execution_count": 31,
     "metadata": {},
     "output_type": "execute_result"
    }
   ],
   "source": [
    "### backup of original dataset ###\n",
    "df_mvi= df.copy()\n",
    "df_mvi.shape"
   ]
  },
  {
   "cell_type": "code",
   "execution_count": 32,
   "id": "256d2c45",
   "metadata": {},
   "outputs": [
    {
     "data": {
      "text/plain": [
       "0"
      ]
     },
     "execution_count": 32,
     "metadata": {},
     "output_type": "execute_result"
    }
   ],
   "source": [
    "## every time note that if value given dataset is categorical then replace with mode.##\n",
    "mszoning_mode = df['MSZoning'].mode()[0] \n",
    "df_mvi['MSZoning'].replace(np.nan, mszoning_mode, inplace= True)\n",
    "df_mvi['MSZoning'].isnull().sum()"
   ]
  },
  {
   "cell_type": "code",
   "execution_count": 33,
   "id": "0a170f44",
   "metadata": {},
   "outputs": [
    {
     "name": "stderr",
     "output_type": "stream",
     "text": [
      "C:\\Users\\mobin\\anaconda3\\lib\\site-packages\\seaborn\\_decorators.py:36: FutureWarning: Pass the following variable as a keyword arg: x. From version 0.12, the only valid positional argument will be `data`, and passing other arguments without an explicit keyword will result in an error or misinterpretation.\n",
      "  warnings.warn(\n"
     ]
    },
    {
     "data": {
      "text/plain": [
       "<AxesSubplot:xlabel='MSZoning', ylabel='count'>"
      ]
     },
     "execution_count": 33,
     "metadata": {},
     "output_type": "execute_result"
    },
    {
     "data": {
      "image/png": "[encoded data removed]",
      "text/plain": [
       "<Figure size 432x288 with 1 Axes>"
      ]
     },
     "metadata": {
      "needs_background": "light"
     },
     "output_type": "display_data"
    }
   ],
   "source": [
    "sns.countplot(df_mvi[\"MSZoning\"])"
   ]
  },
  {
   "cell_type": "code",
   "execution_count": 34,
   "id": "c317e806",
   "metadata": {},
   "outputs": [],
   "source": [
    "def oldnewcountplot(df, new_df, feature):\n",
    "    plt.subplot(1,2,1)\n",
    "    plt.title('old Data distribution')\n",
    "    sns.countplot(df[feature])\n",
    "    plt.subplot(1,2,2)\n",
    "    plt.title('new Data distribution')\n",
    "    sns.countplot(df_mvi[feature])\n",
    "    "
   ]
  },
  {
   "cell_type": "code",
   "execution_count": 35,
   "id": "76732f04",
   "metadata": {},
   "outputs": [
    {
     "name": "stderr",
     "output_type": "stream",
     "text": [
      "C:\\Users\\mobin\\anaconda3\\lib\\site-packages\\seaborn\\_decorators.py:36: FutureWarning: Pass the following variable as a keyword arg: x. From version 0.12, the only valid positional argument will be `data`, and passing other arguments without an explicit keyword will result in an error or misinterpretation.\n",
      "  warnings.warn(\n",
      "C:\\Users\\mobin\\anaconda3\\lib\\site-packages\\seaborn\\_decorators.py:36: FutureWarning: Pass the following variable as a keyword arg: x. From version 0.12, the only valid positional argument will be `data`, and passing other arguments without an explicit keyword will result in an error or misinterpretation.\n",
      "  warnings.warn(\n"
     ]
    },
    {
     "data": {
      "image/png": "[encoded data removed]",
      "text/plain": [
       "<Figure size 432x288 with 2 Axes>"
      ]
     },
     "metadata": {
      "needs_background": "light"
     },
     "output_type": "display_data"
    }
   ],
   "source": [
    "oldnewcountplot(df,df_mvi, \"MSZoning\" )"
   ]
  },
  {
   "cell_type": "markdown",
   "id": "4b20a80a",
   "metadata": {},
   "source": [
    "## Handling LotFrontage = 16.649538"
   ]
  },
  {
   "cell_type": "raw",
   "id": "f7a4d0e3",
   "metadata": {},
   "source": [
    "## LotFrontage is a float/numerical category data hence imputation happen on basis of distribution plot"
   ]
  },
  {
   "cell_type": "code",
   "execution_count": 36,
   "id": "a7a308da",
   "metadata": {},
   "outputs": [
    {
     "data": {
      "text/plain": [
       "486"
      ]
     },
     "execution_count": 36,
     "metadata": {},
     "output_type": "execute_result"
    }
   ],
   "source": [
    "df['LotFrontage'].isnull().sum()"
   ]
  },
  {
   "cell_type": "code",
   "execution_count": 37,
   "id": "883ea874",
   "metadata": {},
   "outputs": [],
   "source": [
    "def boxhistplot(df, figsize=(16,5)):\n",
    "    plt.figure(figsize=figsize)\n",
    "    plt.subplot(1,2,1)\n",
    "    sns.boxplot(df)\n",
    "    plt.subplot(1,2,2)\n",
    "    sns.distplot(df)"
   ]
  },
  {
   "cell_type": "code",
   "execution_count": 38,
   "id": "9e90c684",
   "metadata": {},
   "outputs": [
    {
     "name": "stderr",
     "output_type": "stream",
     "text": [
      "C:\\Users\\mobin\\anaconda3\\lib\\site-packages\\seaborn\\_decorators.py:36: FutureWarning: Pass the following variable as a keyword arg: x. From version 0.12, the only valid positional argument will be `data`, and passing other arguments without an explicit keyword will result in an error or misinterpretation.\n",
      "  warnings.warn(\n",
      "C:\\Users\\mobin\\anaconda3\\lib\\site-packages\\seaborn\\distributions.py:2619: FutureWarning: `distplot` is a deprecated function and will be removed in a future version. Please adapt your code to use either `displot` (a figure-level function with similar flexibility) or `histplot` (an axes-level function for histograms).\n",
      "  warnings.warn(msg, FutureWarning)\n"
     ]
    },
    {
     "data": {
      "image/png": "[encoded data removed]",
      "text/plain": [
       "<Figure size 1152x360 with 2 Axes>"
      ]
     },
     "metadata": {
      "needs_background": "light"
     },
     "output_type": "display_data"
    }
   ],
   "source": [
    "boxhistplot(df[\"LotFrontage\"])"
   ]
  },
  {
   "cell_type": "raw",
   "id": "ff5bc122",
   "metadata": {},
   "source": [
    "## note if distplot distributed in right skewed or left skewed then take median value in this case "
   ]
  },
  {
   "cell_type": "code",
   "execution_count": 39,
   "id": "9150f048",
   "metadata": {},
   "outputs": [
    {
     "data": {
      "text/plain": [
       "0"
      ]
     },
     "execution_count": 39,
     "metadata": {},
     "output_type": "execute_result"
    }
   ],
   "source": [
    "lotfrontage_median = df['LotFrontage'].median()\n",
    "df_mvi['LotFrontage'].replace(np.nan,lotfrontage_median, inplace= True)\n",
    "df_mvi['LotFrontage'].isnull().sum()"
   ]
  },
  {
   "cell_type": "code",
   "execution_count": 40,
   "id": "214365d3",
   "metadata": {},
   "outputs": [],
   "source": [
    "def boxhistplot(df,df_new,feature, figsize=(15,12)):\n",
    "    plt.figure(figsize=figsize)\n",
    "    plt.subplot(2,2,1)\n",
    "    plt.title(\"old Data distribution\" )\n",
    "    sns.boxplot(df['LotFrontage'])\n",
    "    plt.subplot(2,2,2)\n",
    "    plt.title('old Data distributin')\n",
    "    sns.distplot(df[\"LotFrontage\"])\n",
    "    \n",
    "    plt.subplot(2,2,3)\n",
    "    sns.boxplot(df_mvi[\"LotFrontage\"])\n",
    "    plt.title(\"new Data distribution\" )\n",
    "    plt.subplot(2,2,4)\n",
    "    sns.distplot(df_mvi[\"LotFrontage\"])\n",
    "    plt.title(\"new Data distribution\" )"
   ]
  },
  {
   "cell_type": "code",
   "execution_count": 41,
   "id": "79674d4d",
   "metadata": {},
   "outputs": [
    {
     "name": "stderr",
     "output_type": "stream",
     "text": [
      "C:\\Users\\mobin\\anaconda3\\lib\\site-packages\\seaborn\\_decorators.py:36: FutureWarning: Pass the following variable as a keyword arg: x. From version 0.12, the only valid positional argument will be `data`, and passing other arguments without an explicit keyword will result in an error or misinterpretation.\n",
      "  warnings.warn(\n",
      "C:\\Users\\mobin\\anaconda3\\lib\\site-packages\\seaborn\\distributions.py:2619: FutureWarning: `distplot` is a deprecated function and will be removed in a future version. Please adapt your code to use either `displot` (a figure-level function with similar flexibility) or `histplot` (an axes-level function for histograms).\n",
      "  warnings.warn(msg, FutureWarning)\n",
      "C:\\Users\\mobin\\anaconda3\\lib\\site-packages\\seaborn\\_decorators.py:36: FutureWarning: Pass the following variable as a keyword arg: x. From version 0.12, the only valid positional argument will be `data`, and passing other arguments without an explicit keyword will result in an error or misinterpretation.\n",
      "  warnings.warn(\n",
      "C:\\Users\\mobin\\anaconda3\\lib\\site-packages\\seaborn\\distributions.py:2619: FutureWarning: `distplot` is a deprecated function and will be removed in a future version. Please adapt your code to use either `displot` (a figure-level function with similar flexibility) or `histplot` (an axes-level function for histograms).\n",
      "  warnings.warn(msg, FutureWarning)\n"
     ]
    },
    {
     "data": {
      "image/png": "[encoded data removed]",
      "text/plain": [
       "<Figure size 1080x864 with 4 Axes>"
      ]
     },
     "metadata": {
      "needs_background": "light"
     },
     "output_type": "display_data"
    }
   ],
   "source": [
    "boxhistplot(df,df_mvi,\"LotFrontage\")"
   ]
  },
  {
   "cell_type": "markdown",
   "id": "094f608c",
   "metadata": {},
   "source": [
    "## Handling Alley= 93.216855"
   ]
  },
  {
   "cell_type": "code",
   "execution_count": 42,
   "id": "572aa07d",
   "metadata": {},
   "outputs": [
    {
     "data": {
      "text/plain": [
       "Grvl    120\n",
       "Pave     78\n",
       "Name: Alley, dtype: int64"
      ]
     },
     "execution_count": 42,
     "metadata": {},
     "output_type": "execute_result"
    }
   ],
   "source": [
    "df_mvi[\"Alley\"].value_counts()"
   ]
  },
  {
   "cell_type": "code",
   "execution_count": 43,
   "id": "6ab4e448",
   "metadata": {},
   "outputs": [
    {
     "data": {
      "text/plain": [
       "0"
      ]
     },
     "execution_count": 43,
     "metadata": {},
     "output_type": "execute_result"
    }
   ],
   "source": [
    "### note that Alley is type of categorical value hence replace with \"NA\" value \n",
    "alley_cont = \"NA\"\n",
    "df_mvi[\"Alley\"].replace(np.nan, alley_cont, inplace=True)\n",
    "df_mvi[\"Alley\"].isnull().sum()"
   ]
  },
  {
   "cell_type": "code",
   "execution_count": 44,
   "id": "b2f3a6d9",
   "metadata": {},
   "outputs": [
    {
     "name": "stderr",
     "output_type": "stream",
     "text": [
      "C:\\Users\\mobin\\anaconda3\\lib\\site-packages\\seaborn\\_decorators.py:36: FutureWarning: Pass the following variable as a keyword arg: x. From version 0.12, the only valid positional argument will be `data`, and passing other arguments without an explicit keyword will result in an error or misinterpretation.\n",
      "  warnings.warn(\n",
      "C:\\Users\\mobin\\anaconda3\\lib\\site-packages\\seaborn\\_decorators.py:36: FutureWarning: Pass the following variable as a keyword arg: x. From version 0.12, the only valid positional argument will be `data`, and passing other arguments without an explicit keyword will result in an error or misinterpretation.\n",
      "  warnings.warn(\n"
     ]
    },
    {
     "data": {
      "image/png": "[encoded data removed]",
      "text/plain": [
       "<Figure size 432x288 with 2 Axes>"
      ]
     },
     "metadata": {
      "needs_background": "light"
     },
     "output_type": "display_data"
    }
   ],
   "source": [
    "oldnewcountplot(df,df_mvi, \"Alley\" )"
   ]
  },
  {
   "cell_type": "markdown",
   "id": "ee0abf96",
   "metadata": {},
   "source": [
    "## handling Utilities = 0.068517"
   ]
  },
  {
   "cell_type": "code",
   "execution_count": 45,
   "id": "c46c88b0",
   "metadata": {},
   "outputs": [
    {
     "data": {
      "text/plain": [
       "AllPub    2916\n",
       "NoSeWa       1\n",
       "Name: Utilities, dtype: int64"
      ]
     },
     "execution_count": 45,
     "metadata": {},
     "output_type": "execute_result"
    }
   ],
   "source": [
    "df[\"Utilities\"].value_counts()"
   ]
  },
  {
   "cell_type": "code",
   "execution_count": 46,
   "id": "b30d010a",
   "metadata": {},
   "outputs": [
    {
     "data": {
      "text/plain": [
       "0"
      ]
     },
     "execution_count": 46,
     "metadata": {},
     "output_type": "execute_result"
    }
   ],
   "source": [
    "utilities_mode= df[\"Utilities\"].mode()[0]\n",
    "df_mvi[\"Utilities\"].replace(np.nan, utilities_mode, inplace= True)\n",
    "df_mvi[\"Utilities\"].isnull().sum()"
   ]
  },
  {
   "cell_type": "markdown",
   "id": "8067514d",
   "metadata": {},
   "source": [
    "## handling Exterior1st = 0.034258 & Exterior2nd = 0.034258"
   ]
  },
  {
   "cell_type": "code",
   "execution_count": 47,
   "id": "87276cd7",
   "metadata": {},
   "outputs": [
    {
     "data": {
      "text/plain": [
       "VinylSd    1025\n",
       "MetalSd     450\n",
       "HdBoard     442\n",
       "Wd Sdng     411\n",
       "Plywood     221\n",
       "CemntBd     126\n",
       "BrkFace      87\n",
       "WdShing      56\n",
       "AsbShng      44\n",
       "Stucco       43\n",
       "BrkComm       6\n",
       "AsphShn       2\n",
       "CBlock        2\n",
       "Stone         2\n",
       "ImStucc       1\n",
       "Name: Exterior1st, dtype: int64"
      ]
     },
     "execution_count": 47,
     "metadata": {},
     "output_type": "execute_result"
    }
   ],
   "source": [
    "df[\"Exterior1st\"].value_counts()"
   ]
  },
  {
   "cell_type": "code",
   "execution_count": 48,
   "id": "e8e00940",
   "metadata": {},
   "outputs": [
    {
     "data": {
      "text/plain": [
       "VinylSd    1014\n",
       "MetalSd     447\n",
       "HdBoard     406\n",
       "Wd Sdng     391\n",
       "Plywood     270\n",
       "CmentBd     126\n",
       "Wd Shng      81\n",
       "Stucco       47\n",
       "BrkFace      47\n",
       "AsbShng      38\n",
       "Brk Cmn      22\n",
       "ImStucc      15\n",
       "Stone         6\n",
       "AsphShn       4\n",
       "CBlock        3\n",
       "Other         1\n",
       "Name: Exterior2nd, dtype: int64"
      ]
     },
     "execution_count": 48,
     "metadata": {},
     "output_type": "execute_result"
    }
   ],
   "source": [
    "df[\"Exterior2nd\"].value_counts()"
   ]
  },
  {
   "cell_type": "code",
   "execution_count": 49,
   "id": "f8f6adb9",
   "metadata": {},
   "outputs": [
    {
     "data": {
      "text/plain": [
       "TA    1798\n",
       "Gd     979\n",
       "Ex     107\n",
       "Fa      35\n",
       "Name: ExterQual, dtype: int64"
      ]
     },
     "execution_count": 49,
     "metadata": {},
     "output_type": "execute_result"
    }
   ],
   "source": [
    "df[\"ExterQual\"].value_counts()"
   ]
  },
  {
   "cell_type": "code",
   "execution_count": 50,
   "id": "0e7e746b",
   "metadata": {},
   "outputs": [
    {
     "name": "stdout",
     "output_type": "stream",
     "text": [
      "Ext1 is null: 0\n",
      "Ext2 is null: 0\n"
     ]
    }
   ],
   "source": [
    "exterior1st_mode= df[\"Exterior1st\"].mode()[0]\n",
    "exterior2nd_mode= df[\"Exterior2nd\"].mode()[0]\n",
    "df_mvi[\"Exterior1st\"].replace(np.nan, exterior1st_mode, inplace= True)\n",
    "df_mvi[\"Exterior2nd\"].replace(np.nan, exterior2nd_mode, inplace= True)\n",
    "print(\"Ext1 is null:\" , df_mvi[\"Exterior1st\"].isnull().sum())\n",
    "print(\"Ext2 is null:\" , df_mvi[\"Exterior2nd\"].isnull().sum())"
   ]
  },
  {
   "cell_type": "markdown",
   "id": "7c9631c9",
   "metadata": {},
   "source": [
    "## handling MasVnrType = 0.822199 & MasVnrArea = 0.787941"
   ]
  },
  {
   "cell_type": "code",
   "execution_count": 51,
   "id": "56a89d53",
   "metadata": {},
   "outputs": [
    {
     "data": {
      "text/plain": [
       "None       1742\n",
       "BrkFace     879\n",
       "Stone       249\n",
       "BrkCmn       25\n",
       "Name: MasVnrType, dtype: int64"
      ]
     },
     "execution_count": 51,
     "metadata": {},
     "output_type": "execute_result"
    }
   ],
   "source": [
    " df[\"MasVnrType\"].value_counts()\n"
   ]
  },
  {
   "cell_type": "code",
   "execution_count": 52,
   "id": "3519ffa3",
   "metadata": {},
   "outputs": [
    {
     "data": {
      "text/plain": [
       "0.0      1738\n",
       "120.0      15\n",
       "200.0      13\n",
       "176.0      13\n",
       "216.0      12\n",
       "         ... \n",
       "141.0       1\n",
       "640.0       1\n",
       "121.0       1\n",
       "412.0       1\n",
       "438.0       1\n",
       "Name: MasVnrArea, Length: 444, dtype: int64"
      ]
     },
     "execution_count": 52,
     "metadata": {},
     "output_type": "execute_result"
    }
   ],
   "source": [
    "df[\"MasVnrArea\"].value_counts()"
   ]
  },
  {
   "cell_type": "code",
   "execution_count": 53,
   "id": "71914b59",
   "metadata": {},
   "outputs": [
    {
     "data": {
      "text/plain": [
       "<AxesSubplot:ylabel='Id'>"
      ]
     },
     "execution_count": 53,
     "metadata": {},
     "output_type": "execute_result"
    },
    {
     "data": {
      "image/png": "[encoded data removed]",
      "text/plain": [
       "<Figure size 432x288 with 2 Axes>"
      ]
     },
     "metadata": {
      "needs_background": "light"
     },
     "output_type": "display_data"
    }
   ],
   "source": [
    "sns.heatmap(df[[\"MasVnrType\",\"MasVnrArea\"]].isnull())"
   ]
  },
  {
   "cell_type": "code",
   "execution_count": 54,
   "id": "7156a6d0",
   "metadata": {},
   "outputs": [
    {
     "data": {
      "text/plain": [
       "0"
      ]
     },
     "execution_count": 54,
     "metadata": {},
     "output_type": "execute_result"
    }
   ],
   "source": [
    "masvnrtype_mode= df[\"MasVnrType\"].mode()[0]\n",
    "df_mvi[\"MasVnrType\"].replace(np.nan, masvnrtype_mode, inplace= True)\n",
    "df_mvi[\"MasVnrType\"].isnull().sum()"
   ]
  },
  {
   "cell_type": "code",
   "execution_count": 55,
   "id": "5037b84a",
   "metadata": {},
   "outputs": [
    {
     "data": {
      "text/plain": [
       "0"
      ]
     },
     "execution_count": 55,
     "metadata": {},
     "output_type": "execute_result"
    }
   ],
   "source": [
    "masvnrtype_const= 0\n",
    "df_mvi[\"MasVnrArea\"].replace(np.nan, masvnrtype_const, inplace= True)\n",
    "df_mvi[\"MasVnrArea\"].isnull().sum()"
   ]
  },
  {
   "cell_type": "markdown",
   "id": "a81e1d72",
   "metadata": {},
   "source": [
    "## Handling BSMT feature"
   ]
  },
  {
   "cell_type": "code",
   "execution_count": 56,
   "id": "4db67b0c",
   "metadata": {},
   "outputs": [],
   "source": [
    "# cat_bsmt_feat\n",
    "# BsmtQual         2.774923\n",
    "# BsmtCond         2.809181\n",
    "# BsmtExposure     2.809181\n",
    "# BsmtFinType1     2.706406\n",
    "# BsmtFinType2     2.740665\n",
    "\n",
    "# num_bsmt_feat\n",
    "# BsmtFinSF1       0.034258\n",
    "# BsmtFinSF2       0.034258\n",
    "# BsmtUnfSF        0.034258\n",
    "# TotalBsmtSF      0.034258\n",
    "# BsmtFullBath     0.068517\n",
    "# BsmtHalfBath     0.068517\n",
    "\n",
    "cat_bsmt_feat=[\"BsmtQual\",\n",
    "\"BsmtCond\",\n",
    "\"BsmtExposure\",\n",
    "\"BsmtFinType1\",\n",
    "\"BsmtFinType2\"]\n",
    "\n",
    "num_bsmt_feat=[\"BsmtFinSF1\",\n",
    "\"BsmtFinSF2\",\n",
    "\"BsmtUnfSF\" ,\n",
    "\"TotalBsmtSF\",\n",
    "\"BsmtFullBath\",\n",
    "\"BsmtHalfBath\"]"
   ]
  },
  {
   "cell_type": "code",
   "execution_count": 57,
   "id": "230a6027",
   "metadata": {},
   "outputs": [
    {
     "data": {
      "text/plain": [
       "<AxesSubplot:ylabel='Id'>"
      ]
     },
     "execution_count": 57,
     "metadata": {},
     "output_type": "execute_result"
    },
    {
     "data": {
      "image/png": "[encoded data removed]",
      "text/plain": [
       "<Figure size 432x288 with 2 Axes>"
      ]
     },
     "metadata": {
      "needs_background": "light"
     },
     "output_type": "display_data"
    }
   ],
   "source": [
    "sns.heatmap(df[cat_bsmt_feat].isnull())"
   ]
  },
  {
   "cell_type": "code",
   "execution_count": 58,
   "id": "d354a863",
   "metadata": {},
   "outputs": [
    {
     "data": {
      "text/plain": [
       "<AxesSubplot:ylabel='Id'>"
      ]
     },
     "execution_count": 58,
     "metadata": {},
     "output_type": "execute_result"
    },
    {
     "data": {
      "image/png": "[encoded data removed]",
      "text/plain": [
       "<Figure size 432x288 with 2 Axes>"
      ]
     },
     "metadata": {
      "needs_background": "light"
     },
     "output_type": "display_data"
    }
   ],
   "source": [
    "sns.heatmap(df[num_bsmt_feat].isnull())"
   ]
  },
  {
   "cell_type": "code",
   "execution_count": 59,
   "id": "7993a9b4",
   "metadata": {},
   "outputs": [
    {
     "name": "stdout",
     "output_type": "stream",
     "text": [
      "value count of BsmtQual:,TA    1283\n",
      "Gd    1209\n",
      "Ex     258\n",
      "Fa      88\n",
      "Name: BsmtQual, dtype: int64\n",
      "value count of BsmtCond:,TA    2606\n",
      "Gd     122\n",
      "Fa     104\n",
      "Po       5\n",
      "Name: BsmtCond, dtype: int64\n",
      "value count of BsmtExposure:,No    1904\n",
      "Av     418\n",
      "Gd     276\n",
      "Mn     239\n",
      "Name: BsmtExposure, dtype: int64\n",
      "value count of BsmtFinType1:,Unf    851\n",
      "GLQ    849\n",
      "ALQ    429\n",
      "Rec    288\n",
      "BLQ    269\n",
      "LwQ    154\n",
      "Name: BsmtFinType1, dtype: int64\n",
      "value count of BsmtFinType2:,Unf    2493\n",
      "Rec     105\n",
      "LwQ      87\n",
      "BLQ      68\n",
      "ALQ      52\n",
      "GLQ      34\n",
      "Name: BsmtFinType2, dtype: int64\n"
     ]
    }
   ],
   "source": [
    "for feat in cat_bsmt_feat:\n",
    "    print(f\"value count of {feat}:,{df[feat].value_counts()}\")"
   ]
  },
  {
   "cell_type": "code",
   "execution_count": 60,
   "id": "97673671",
   "metadata": {},
   "outputs": [],
   "source": [
    "## let replace with \"NA\"\n",
    "bsmt_const=\"NA\"\n",
    "for feat in cat_bsmt_feat:\n",
    "    df_mvi[feat].replace(np.nan, bsmt_const, inplace=True)"
   ]
  },
  {
   "cell_type": "code",
   "execution_count": 61,
   "id": "c0e117ab",
   "metadata": {},
   "outputs": [
    {
     "data": {
      "text/plain": [
       "BsmtQual        0\n",
       "BsmtCond        0\n",
       "BsmtExposure    0\n",
       "BsmtFinType1    0\n",
       "BsmtFinType2    0\n",
       "dtype: int64"
      ]
     },
     "execution_count": 61,
     "metadata": {},
     "output_type": "execute_result"
    }
   ],
   "source": [
    "df_mvi[cat_bsmt_feat].isnull().sum()"
   ]
  },
  {
   "cell_type": "code",
   "execution_count": 62,
   "id": "a4a14a28",
   "metadata": {},
   "outputs": [
    {
     "data": {
      "text/html": [
       "<div>\n",
       "<style scoped>\n",
       "    .dataframe tbody tr th:only-of-type {\n",
       "        vertical-align: middle;\n",
       "    }\n",
       "\n",
       "    .dataframe tbody tr th {\n",
       "        vertical-align: top;\n",
       "    }\n",
       "\n",
       "    .dataframe thead th {\n",
       "        text-align: right;\n",
       "    }\n",
       "</style>\n",
       "<table border=\"1\" class=\"dataframe\">\n",
       "  <thead>\n",
       "    <tr style=\"text-align: right;\">\n",
       "      <th></th>\n",
       "      <th>BsmtQual</th>\n",
       "      <th>BsmtCond</th>\n",
       "      <th>BsmtExposure</th>\n",
       "      <th>BsmtFinType1</th>\n",
       "      <th>BsmtFinType2</th>\n",
       "      <th>BsmtFinSF1</th>\n",
       "      <th>BsmtFinSF2</th>\n",
       "      <th>BsmtUnfSF</th>\n",
       "      <th>TotalBsmtSF</th>\n",
       "      <th>BsmtFullBath</th>\n",
       "      <th>BsmtHalfBath</th>\n",
       "    </tr>\n",
       "    <tr>\n",
       "      <th>Id</th>\n",
       "      <th></th>\n",
       "      <th></th>\n",
       "      <th></th>\n",
       "      <th></th>\n",
       "      <th></th>\n",
       "      <th></th>\n",
       "      <th></th>\n",
       "      <th></th>\n",
       "      <th></th>\n",
       "      <th></th>\n",
       "      <th></th>\n",
       "    </tr>\n",
       "  </thead>\n",
       "  <tbody>\n",
       "    <tr>\n",
       "      <th>1488</th>\n",
       "      <td>Gd</td>\n",
       "      <td>TA</td>\n",
       "      <td>NaN</td>\n",
       "      <td>Unf</td>\n",
       "      <td>Unf</td>\n",
       "      <td>0.0</td>\n",
       "      <td>0.0</td>\n",
       "      <td>1595.0</td>\n",
       "      <td>1595.0</td>\n",
       "      <td>0.0</td>\n",
       "      <td>0.0</td>\n",
       "    </tr>\n",
       "    <tr>\n",
       "      <th>1586</th>\n",
       "      <td>NaN</td>\n",
       "      <td>NaN</td>\n",
       "      <td>NaN</td>\n",
       "      <td>NaN</td>\n",
       "      <td>NaN</td>\n",
       "      <td>0.0</td>\n",
       "      <td>0.0</td>\n",
       "      <td>0.0</td>\n",
       "      <td>0.0</td>\n",
       "      <td>0.0</td>\n",
       "      <td>0.0</td>\n",
       "    </tr>\n",
       "    <tr>\n",
       "      <th>1594</th>\n",
       "      <td>NaN</td>\n",
       "      <td>NaN</td>\n",
       "      <td>NaN</td>\n",
       "      <td>NaN</td>\n",
       "      <td>NaN</td>\n",
       "      <td>0.0</td>\n",
       "      <td>0.0</td>\n",
       "      <td>0.0</td>\n",
       "      <td>0.0</td>\n",
       "      <td>0.0</td>\n",
       "      <td>0.0</td>\n",
       "    </tr>\n",
       "    <tr>\n",
       "      <th>1730</th>\n",
       "      <td>NaN</td>\n",
       "      <td>NaN</td>\n",
       "      <td>NaN</td>\n",
       "      <td>NaN</td>\n",
       "      <td>NaN</td>\n",
       "      <td>0.0</td>\n",
       "      <td>0.0</td>\n",
       "      <td>0.0</td>\n",
       "      <td>0.0</td>\n",
       "      <td>0.0</td>\n",
       "      <td>0.0</td>\n",
       "    </tr>\n",
       "    <tr>\n",
       "      <th>1779</th>\n",
       "      <td>NaN</td>\n",
       "      <td>NaN</td>\n",
       "      <td>NaN</td>\n",
       "      <td>NaN</td>\n",
       "      <td>NaN</td>\n",
       "      <td>0.0</td>\n",
       "      <td>0.0</td>\n",
       "      <td>0.0</td>\n",
       "      <td>0.0</td>\n",
       "      <td>0.0</td>\n",
       "      <td>0.0</td>\n",
       "    </tr>\n",
       "    <tr>\n",
       "      <th>...</th>\n",
       "      <td>...</td>\n",
       "      <td>...</td>\n",
       "      <td>...</td>\n",
       "      <td>...</td>\n",
       "      <td>...</td>\n",
       "      <td>...</td>\n",
       "      <td>...</td>\n",
       "      <td>...</td>\n",
       "      <td>...</td>\n",
       "      <td>...</td>\n",
       "      <td>...</td>\n",
       "    </tr>\n",
       "    <tr>\n",
       "      <th>1217</th>\n",
       "      <td>NaN</td>\n",
       "      <td>NaN</td>\n",
       "      <td>NaN</td>\n",
       "      <td>NaN</td>\n",
       "      <td>NaN</td>\n",
       "      <td>0.0</td>\n",
       "      <td>0.0</td>\n",
       "      <td>0.0</td>\n",
       "      <td>0.0</td>\n",
       "      <td>0.0</td>\n",
       "      <td>0.0</td>\n",
       "    </tr>\n",
       "    <tr>\n",
       "      <th>1219</th>\n",
       "      <td>NaN</td>\n",
       "      <td>NaN</td>\n",
       "      <td>NaN</td>\n",
       "      <td>NaN</td>\n",
       "      <td>NaN</td>\n",
       "      <td>0.0</td>\n",
       "      <td>0.0</td>\n",
       "      <td>0.0</td>\n",
       "      <td>0.0</td>\n",
       "      <td>0.0</td>\n",
       "      <td>0.0</td>\n",
       "    </tr>\n",
       "    <tr>\n",
       "      <th>1233</th>\n",
       "      <td>NaN</td>\n",
       "      <td>NaN</td>\n",
       "      <td>NaN</td>\n",
       "      <td>NaN</td>\n",
       "      <td>NaN</td>\n",
       "      <td>0.0</td>\n",
       "      <td>0.0</td>\n",
       "      <td>0.0</td>\n",
       "      <td>0.0</td>\n",
       "      <td>0.0</td>\n",
       "      <td>0.0</td>\n",
       "    </tr>\n",
       "    <tr>\n",
       "      <th>1322</th>\n",
       "      <td>NaN</td>\n",
       "      <td>NaN</td>\n",
       "      <td>NaN</td>\n",
       "      <td>NaN</td>\n",
       "      <td>NaN</td>\n",
       "      <td>0.0</td>\n",
       "      <td>0.0</td>\n",
       "      <td>0.0</td>\n",
       "      <td>0.0</td>\n",
       "      <td>0.0</td>\n",
       "      <td>0.0</td>\n",
       "    </tr>\n",
       "    <tr>\n",
       "      <th>1413</th>\n",
       "      <td>NaN</td>\n",
       "      <td>NaN</td>\n",
       "      <td>NaN</td>\n",
       "      <td>NaN</td>\n",
       "      <td>NaN</td>\n",
       "      <td>0.0</td>\n",
       "      <td>0.0</td>\n",
       "      <td>0.0</td>\n",
       "      <td>0.0</td>\n",
       "      <td>0.0</td>\n",
       "      <td>0.0</td>\n",
       "    </tr>\n",
       "  </tbody>\n",
       "</table>\n",
       "<p>88 rows × 11 columns</p>\n",
       "</div>"
      ],
      "text/plain": [
       "     BsmtQual BsmtCond BsmtExposure BsmtFinType1 BsmtFinType2  BsmtFinSF1  \\\n",
       "Id                                                                          \n",
       "1488       Gd       TA          NaN          Unf          Unf         0.0   \n",
       "1586      NaN      NaN          NaN          NaN          NaN         0.0   \n",
       "1594      NaN      NaN          NaN          NaN          NaN         0.0   \n",
       "1730      NaN      NaN          NaN          NaN          NaN         0.0   \n",
       "1779      NaN      NaN          NaN          NaN          NaN         0.0   \n",
       "...       ...      ...          ...          ...          ...         ...   \n",
       "1217      NaN      NaN          NaN          NaN          NaN         0.0   \n",
       "1219      NaN      NaN          NaN          NaN          NaN         0.0   \n",
       "1233      NaN      NaN          NaN          NaN          NaN         0.0   \n",
       "1322      NaN      NaN          NaN          NaN          NaN         0.0   \n",
       "1413      NaN      NaN          NaN          NaN          NaN         0.0   \n",
       "\n",
       "      BsmtFinSF2  BsmtUnfSF  TotalBsmtSF  BsmtFullBath  BsmtHalfBath  \n",
       "Id                                                                    \n",
       "1488         0.0     1595.0       1595.0           0.0           0.0  \n",
       "1586         0.0        0.0          0.0           0.0           0.0  \n",
       "1594         0.0        0.0          0.0           0.0           0.0  \n",
       "1730         0.0        0.0          0.0           0.0           0.0  \n",
       "1779         0.0        0.0          0.0           0.0           0.0  \n",
       "...          ...        ...          ...           ...           ...  \n",
       "1217         0.0        0.0          0.0           0.0           0.0  \n",
       "1219         0.0        0.0          0.0           0.0           0.0  \n",
       "1233         0.0        0.0          0.0           0.0           0.0  \n",
       "1322         0.0        0.0          0.0           0.0           0.0  \n",
       "1413         0.0        0.0          0.0           0.0           0.0  \n",
       "\n",
       "[88 rows x 11 columns]"
      ]
     },
     "execution_count": 62,
     "metadata": {},
     "output_type": "execute_result"
    }
   ],
   "source": [
    "df_bsmt=df[cat_bsmt_feat+num_bsmt_feat]\n",
    "df_bsmt[df_bsmt.isnull().any(axis=1)]"
   ]
  },
  {
   "cell_type": "code",
   "execution_count": 63,
   "id": "5916a444",
   "metadata": {},
   "outputs": [],
   "source": [
    "## replace with 0 value in this feature ## \n",
    "bsmt_num= 0\n",
    "for feat in num_bsmt_feat:\n",
    "    df_mvi[feat].replace(np.nan, bsmt_num, inplace=True)"
   ]
  },
  {
   "cell_type": "code",
   "execution_count": 64,
   "id": "f94b7016",
   "metadata": {},
   "outputs": [
    {
     "data": {
      "text/plain": [
       "BsmtFinSF1      0\n",
       "BsmtFinSF2      0\n",
       "BsmtUnfSF       0\n",
       "TotalBsmtSF     0\n",
       "BsmtFullBath    0\n",
       "BsmtHalfBath    0\n",
       "dtype: int64"
      ]
     },
     "execution_count": 64,
     "metadata": {},
     "output_type": "execute_result"
    }
   ],
   "source": [
    "df_mvi[num_bsmt_feat].isnull().sum()"
   ]
  },
  {
   "cell_type": "markdown",
   "id": "2a67be78",
   "metadata": {},
   "source": [
    "## handling Electrical= 0.034258 & KitchenQual=0.034258"
   ]
  },
  {
   "cell_type": "code",
   "execution_count": 65,
   "id": "1a63d2bb",
   "metadata": {},
   "outputs": [
    {
     "data": {
      "text/plain": [
       "SBrkr    2671\n",
       "FuseA     188\n",
       "FuseF      50\n",
       "FuseP       8\n",
       "Mix         1\n",
       "Name: Electrical, dtype: int64"
      ]
     },
     "execution_count": 65,
     "metadata": {},
     "output_type": "execute_result"
    }
   ],
   "source": [
    "df[\"Electrical\"].value_counts()"
   ]
  },
  {
   "cell_type": "code",
   "execution_count": 66,
   "id": "f667b434",
   "metadata": {},
   "outputs": [
    {
     "data": {
      "text/plain": [
       "TA    1492\n",
       "Gd    1151\n",
       "Ex     205\n",
       "Fa      70\n",
       "Name: KitchenQual, dtype: int64"
      ]
     },
     "execution_count": 66,
     "metadata": {},
     "output_type": "execute_result"
    }
   ],
   "source": [
    "df[\"KitchenQual\"].value_counts()"
   ]
  },
  {
   "cell_type": "code",
   "execution_count": 67,
   "id": "5f8d8f83",
   "metadata": {},
   "outputs": [
    {
     "data": {
      "text/html": [
       "<div>\n",
       "<style scoped>\n",
       "    .dataframe tbody tr th:only-of-type {\n",
       "        vertical-align: middle;\n",
       "    }\n",
       "\n",
       "    .dataframe tbody tr th {\n",
       "        vertical-align: top;\n",
       "    }\n",
       "\n",
       "    .dataframe thead th {\n",
       "        text-align: right;\n",
       "    }\n",
       "</style>\n",
       "<table border=\"1\" class=\"dataframe\">\n",
       "  <thead>\n",
       "    <tr style=\"text-align: right;\">\n",
       "      <th></th>\n",
       "      <th>Electrical</th>\n",
       "      <th>KitchenQual</th>\n",
       "      <th>KitchenAbvGr</th>\n",
       "    </tr>\n",
       "    <tr>\n",
       "      <th>Id</th>\n",
       "      <th></th>\n",
       "      <th></th>\n",
       "      <th></th>\n",
       "    </tr>\n",
       "  </thead>\n",
       "  <tbody>\n",
       "    <tr>\n",
       "      <th>1556</th>\n",
       "      <td>SBrkr</td>\n",
       "      <td>NaN</td>\n",
       "      <td>1</td>\n",
       "    </tr>\n",
       "    <tr>\n",
       "      <th>1380</th>\n",
       "      <td>NaN</td>\n",
       "      <td>Gd</td>\n",
       "      <td>1</td>\n",
       "    </tr>\n",
       "  </tbody>\n",
       "</table>\n",
       "</div>"
      ],
      "text/plain": [
       "     Electrical KitchenQual  KitchenAbvGr\n",
       "Id                                       \n",
       "1556      SBrkr         NaN             1\n",
       "1380        NaN          Gd             1"
      ]
     },
     "execution_count": 67,
     "metadata": {},
     "output_type": "execute_result"
    }
   ],
   "source": [
    "df_ekk=df[[\"Electrical\",\"KitchenQual\",\"KitchenAbvGr\"]]\n",
    "df_ekk[df_ekk.isnull().any(axis=1)]"
   ]
  },
  {
   "cell_type": "code",
   "execution_count": 68,
   "id": "557d1a6c",
   "metadata": {},
   "outputs": [
    {
     "data": {
      "text/plain": [
       "0"
      ]
     },
     "execution_count": 68,
     "metadata": {},
     "output_type": "execute_result"
    }
   ],
   "source": [
    "electrical_mode= df[\"Electrical\"].mode()[0]\n",
    "df_mvi[\"Electrical\"].replace(np.nan, electrical_mode, inplace= True)\n",
    "df_mvi[\"Electrical\"].isnull().sum()"
   ]
  },
  {
   "cell_type": "code",
   "execution_count": 69,
   "id": "7de20b34",
   "metadata": {},
   "outputs": [
    {
     "data": {
      "text/plain": [
       "0"
      ]
     },
     "execution_count": 69,
     "metadata": {},
     "output_type": "execute_result"
    }
   ],
   "source": [
    "kitchenQual_mode= df[\"KitchenQual\"].mode()[0]\n",
    "df_mvi[\"KitchenQual\"].replace(np.nan, kitchenQual_mode, inplace= True)\n",
    "df_mvi[\"KitchenQual\"].isnull().sum()"
   ]
  },
  {
   "cell_type": "markdown",
   "id": "b3fdfb1d",
   "metadata": {},
   "source": [
    "## Handling remaining cat features\n"
   ]
  },
  {
   "cell_type": "raw",
   "id": "e61b809b",
   "metadata": {},
   "source": [
    "# GarageType       5.378554\n",
    "# GarageFinish     5.447071\n",
    "# GarageQual       5.447071\n",
    "# GarageCond       5.447071\n",
    "\n",
    "Functional       0.068517  MODE\n",
    "FireplaceQu     48.646797  NA\n",
    "PoolQC          99.657417  NA\n",
    "Fence           80.438506  NA\n",
    "MiscFeature     96.402878  NA\n",
    "SaleType         0.034258  MODE"
   ]
  },
  {
   "cell_type": "code",
   "execution_count": 70,
   "id": "524330fd",
   "metadata": {},
   "outputs": [
    {
     "data": {
      "text/plain": [
       "Typ     2717\n",
       "Min2      70\n",
       "Min1      65\n",
       "Mod       35\n",
       "Maj1      19\n",
       "Maj2       9\n",
       "Sev        2\n",
       "Name: Functional, dtype: int64"
      ]
     },
     "execution_count": 70,
     "metadata": {},
     "output_type": "execute_result"
    }
   ],
   "source": [
    "df[\"Functional\"].value_counts()"
   ]
  },
  {
   "cell_type": "code",
   "execution_count": 71,
   "id": "c735fcb1",
   "metadata": {},
   "outputs": [
    {
     "data": {
      "text/plain": [
       "WD       2525\n",
       "New       239\n",
       "COD        87\n",
       "ConLD      26\n",
       "CWD        12\n",
       "ConLI       9\n",
       "ConLw       8\n",
       "Oth         7\n",
       "Con         5\n",
       "Name: SaleType, dtype: int64"
      ]
     },
     "execution_count": 71,
     "metadata": {},
     "output_type": "execute_result"
    }
   ],
   "source": [
    "df[\"SaleType\"].value_counts()"
   ]
  },
  {
   "cell_type": "code",
   "execution_count": 72,
   "id": "5b80cb6c",
   "metadata": {},
   "outputs": [
    {
     "data": {
      "text/plain": [
       "0"
      ]
     },
     "execution_count": 72,
     "metadata": {},
     "output_type": "execute_result"
    }
   ],
   "source": [
    "functional_mode= df[\"Functional\"].mode()[0]\n",
    "df_mvi[\"Functional\"].replace(np.nan, functional_mode, inplace= True)\n",
    "df_mvi[\"Functional\"].isnull().sum()"
   ]
  },
  {
   "cell_type": "code",
   "execution_count": 73,
   "id": "31ecff75",
   "metadata": {},
   "outputs": [
    {
     "data": {
      "text/plain": [
       "0"
      ]
     },
     "execution_count": 73,
     "metadata": {},
     "output_type": "execute_result"
    }
   ],
   "source": [
    "saleType_mode= df[\"SaleType\"].mode()[0]\n",
    "df_mvi[\"SaleType\"].replace(np.nan, saleType_mode, inplace= True)\n",
    "df_mvi[\"SaleType\"].isnull().sum()"
   ]
  },
  {
   "cell_type": "code",
   "execution_count": 74,
   "id": "1e4d0b00",
   "metadata": {},
   "outputs": [
    {
     "name": "stdout",
     "output_type": "stream",
     "text": [
      "value count of FireplaceQu:Gd    744\n",
      "TA    592\n",
      "Fa     74\n",
      "Po     46\n",
      "Ex     43\n",
      "Name: FireplaceQu, dtype: int64\n",
      "value count of PoolQC:Ex    4\n",
      "Gd    4\n",
      "Fa    2\n",
      "Name: PoolQC, dtype: int64\n",
      "value count of Fence:MnPrv    329\n",
      "GdPrv    118\n",
      "GdWo     112\n",
      "MnWw      12\n",
      "Name: Fence, dtype: int64\n",
      "value count of MiscFeature:Shed    95\n",
      "Gar2     5\n",
      "Othr     4\n",
      "TenC     1\n",
      "Name: MiscFeature, dtype: int64\n"
     ]
    }
   ],
   "source": [
    "other_cat_feat=[\"FireplaceQu\",\n",
    "\"PoolQC\",\n",
    "\"Fence\",\n",
    "\"MiscFeature\"]\n",
    "\n",
    "for feat in other_cat_feat:\n",
    "    print(f\"value count of {feat}:{df[feat].value_counts()}\")"
   ]
  },
  {
   "cell_type": "code",
   "execution_count": 75,
   "id": "2902b2c9",
   "metadata": {},
   "outputs": [],
   "source": [
    "bsmt_const=\"NA\"\n",
    "for feat in other_cat_feat:\n",
    "    df_mvi[feat].replace(np.nan, bsmt_const, inplace=True)"
   ]
  },
  {
   "cell_type": "code",
   "execution_count": 76,
   "id": "1d2605da",
   "metadata": {},
   "outputs": [
    {
     "data": {
      "text/plain": [
       "0"
      ]
     },
     "execution_count": 76,
     "metadata": {},
     "output_type": "execute_result"
    }
   ],
   "source": [
    "df_mvi[\"FireplaceQu\"].isnull().sum()"
   ]
  },
  {
   "cell_type": "code",
   "execution_count": 77,
   "id": "e94f674a",
   "metadata": {},
   "outputs": [
    {
     "data": {
      "text/plain": [
       "0"
      ]
     },
     "execution_count": 77,
     "metadata": {},
     "output_type": "execute_result"
    }
   ],
   "source": [
    "df_mvi[\"PoolQC\"].isnull().sum()"
   ]
  },
  {
   "cell_type": "code",
   "execution_count": 78,
   "id": "f76b294f",
   "metadata": {},
   "outputs": [
    {
     "data": {
      "text/plain": [
       "0"
      ]
     },
     "execution_count": 78,
     "metadata": {},
     "output_type": "execute_result"
    }
   ],
   "source": [
    "df_mvi[\"Fence\"].isnull().sum()"
   ]
  },
  {
   "cell_type": "code",
   "execution_count": 79,
   "id": "d309f4af",
   "metadata": {},
   "outputs": [
    {
     "data": {
      "text/plain": [
       "0"
      ]
     },
     "execution_count": 79,
     "metadata": {},
     "output_type": "execute_result"
    }
   ],
   "source": [
    "df_mvi[\"MiscFeature\"].isnull().sum()"
   ]
  },
  {
   "cell_type": "markdown",
   "id": "e3cde9ea",
   "metadata": {},
   "source": [
    "## Handling Garage feat"
   ]
  },
  {
   "cell_type": "raw",
   "id": "27c2b231",
   "metadata": {},
   "source": [
    "## cat missing feat\n",
    "GarageType       5.378554\n",
    "GarageFinish     5.447071\n",
    "GarageQual       5.447071\n",
    "GarageCond       5.447071\n",
    "\n",
    "## num missing feat\n",
    "GarageYrBlt      5.447071\n",
    "GarageCars       0.034258\n",
    "GarageArea       0.034258"
   ]
  },
  {
   "cell_type": "code",
   "execution_count": 80,
   "id": "951d78a8",
   "metadata": {},
   "outputs": [
    {
     "data": {
      "text/html": [
       "<div>\n",
       "<style scoped>\n",
       "    .dataframe tbody tr th:only-of-type {\n",
       "        vertical-align: middle;\n",
       "    }\n",
       "\n",
       "    .dataframe tbody tr th {\n",
       "        vertical-align: top;\n",
       "    }\n",
       "\n",
       "    .dataframe thead th {\n",
       "        text-align: right;\n",
       "    }\n",
       "</style>\n",
       "<table border=\"1\" class=\"dataframe\">\n",
       "  <thead>\n",
       "    <tr style=\"text-align: right;\">\n",
       "      <th></th>\n",
       "      <th>GarageType</th>\n",
       "      <th>GarageFinish</th>\n",
       "      <th>GarageQual</th>\n",
       "      <th>GarageCond</th>\n",
       "      <th>GarageYrBlt</th>\n",
       "      <th>GarageCars</th>\n",
       "      <th>GarageArea</th>\n",
       "    </tr>\n",
       "    <tr>\n",
       "      <th>Id</th>\n",
       "      <th></th>\n",
       "      <th></th>\n",
       "      <th></th>\n",
       "      <th></th>\n",
       "      <th></th>\n",
       "      <th></th>\n",
       "      <th></th>\n",
       "    </tr>\n",
       "  </thead>\n",
       "  <tbody>\n",
       "    <tr>\n",
       "      <th>1514</th>\n",
       "      <td>NaN</td>\n",
       "      <td>NaN</td>\n",
       "      <td>NaN</td>\n",
       "      <td>NaN</td>\n",
       "      <td>NaN</td>\n",
       "      <td>0.0</td>\n",
       "      <td>0.0</td>\n",
       "    </tr>\n",
       "    <tr>\n",
       "      <th>1532</th>\n",
       "      <td>NaN</td>\n",
       "      <td>NaN</td>\n",
       "      <td>NaN</td>\n",
       "      <td>NaN</td>\n",
       "      <td>NaN</td>\n",
       "      <td>0.0</td>\n",
       "      <td>0.0</td>\n",
       "    </tr>\n",
       "    <tr>\n",
       "      <th>1540</th>\n",
       "      <td>NaN</td>\n",
       "      <td>NaN</td>\n",
       "      <td>NaN</td>\n",
       "      <td>NaN</td>\n",
       "      <td>NaN</td>\n",
       "      <td>0.0</td>\n",
       "      <td>0.0</td>\n",
       "    </tr>\n",
       "    <tr>\n",
       "      <th>1553</th>\n",
       "      <td>NaN</td>\n",
       "      <td>NaN</td>\n",
       "      <td>NaN</td>\n",
       "      <td>NaN</td>\n",
       "      <td>NaN</td>\n",
       "      <td>0.0</td>\n",
       "      <td>0.0</td>\n",
       "    </tr>\n",
       "    <tr>\n",
       "      <th>1557</th>\n",
       "      <td>NaN</td>\n",
       "      <td>NaN</td>\n",
       "      <td>NaN</td>\n",
       "      <td>NaN</td>\n",
       "      <td>NaN</td>\n",
       "      <td>0.0</td>\n",
       "      <td>0.0</td>\n",
       "    </tr>\n",
       "    <tr>\n",
       "      <th>...</th>\n",
       "      <td>...</td>\n",
       "      <td>...</td>\n",
       "      <td>...</td>\n",
       "      <td>...</td>\n",
       "      <td>...</td>\n",
       "      <td>...</td>\n",
       "      <td>...</td>\n",
       "    </tr>\n",
       "    <tr>\n",
       "      <th>1350</th>\n",
       "      <td>NaN</td>\n",
       "      <td>NaN</td>\n",
       "      <td>NaN</td>\n",
       "      <td>NaN</td>\n",
       "      <td>NaN</td>\n",
       "      <td>0.0</td>\n",
       "      <td>0.0</td>\n",
       "    </tr>\n",
       "    <tr>\n",
       "      <th>1408</th>\n",
       "      <td>NaN</td>\n",
       "      <td>NaN</td>\n",
       "      <td>NaN</td>\n",
       "      <td>NaN</td>\n",
       "      <td>NaN</td>\n",
       "      <td>0.0</td>\n",
       "      <td>0.0</td>\n",
       "    </tr>\n",
       "    <tr>\n",
       "      <th>1450</th>\n",
       "      <td>NaN</td>\n",
       "      <td>NaN</td>\n",
       "      <td>NaN</td>\n",
       "      <td>NaN</td>\n",
       "      <td>NaN</td>\n",
       "      <td>0.0</td>\n",
       "      <td>0.0</td>\n",
       "    </tr>\n",
       "    <tr>\n",
       "      <th>1451</th>\n",
       "      <td>NaN</td>\n",
       "      <td>NaN</td>\n",
       "      <td>NaN</td>\n",
       "      <td>NaN</td>\n",
       "      <td>NaN</td>\n",
       "      <td>0.0</td>\n",
       "      <td>0.0</td>\n",
       "    </tr>\n",
       "    <tr>\n",
       "      <th>1454</th>\n",
       "      <td>NaN</td>\n",
       "      <td>NaN</td>\n",
       "      <td>NaN</td>\n",
       "      <td>NaN</td>\n",
       "      <td>NaN</td>\n",
       "      <td>0.0</td>\n",
       "      <td>0.0</td>\n",
       "    </tr>\n",
       "  </tbody>\n",
       "</table>\n",
       "<p>159 rows × 7 columns</p>\n",
       "</div>"
      ],
      "text/plain": [
       "     GarageType GarageFinish GarageQual GarageCond  GarageYrBlt  GarageCars  \\\n",
       "Id                                                                            \n",
       "1514        NaN          NaN        NaN        NaN          NaN         0.0   \n",
       "1532        NaN          NaN        NaN        NaN          NaN         0.0   \n",
       "1540        NaN          NaN        NaN        NaN          NaN         0.0   \n",
       "1553        NaN          NaN        NaN        NaN          NaN         0.0   \n",
       "1557        NaN          NaN        NaN        NaN          NaN         0.0   \n",
       "...         ...          ...        ...        ...          ...         ...   \n",
       "1350        NaN          NaN        NaN        NaN          NaN         0.0   \n",
       "1408        NaN          NaN        NaN        NaN          NaN         0.0   \n",
       "1450        NaN          NaN        NaN        NaN          NaN         0.0   \n",
       "1451        NaN          NaN        NaN        NaN          NaN         0.0   \n",
       "1454        NaN          NaN        NaN        NaN          NaN         0.0   \n",
       "\n",
       "      GarageArea  \n",
       "Id                \n",
       "1514         0.0  \n",
       "1532         0.0  \n",
       "1540         0.0  \n",
       "1553         0.0  \n",
       "1557         0.0  \n",
       "...          ...  \n",
       "1350         0.0  \n",
       "1408         0.0  \n",
       "1450         0.0  \n",
       "1451         0.0  \n",
       "1454         0.0  \n",
       "\n",
       "[159 rows x 7 columns]"
      ]
     },
     "execution_count": 80,
     "metadata": {},
     "output_type": "execute_result"
    }
   ],
   "source": [
    "cat_garage_feat=[\"GarageType\",\"GarageFinish\",\"GarageQual\",\"GarageCond\"]\n",
    "num_garage_feat=[\"GarageYrBlt\",\"GarageCars\",\"GarageArea\"]\n",
    "\n",
    "df_garage= df[cat_garage_feat + num_garage_feat ]\n",
    "df_garage[df_garage.isnull().any(axis=1)]\n"
   ]
  },
  {
   "cell_type": "code",
   "execution_count": 81,
   "id": "85725c69",
   "metadata": {},
   "outputs": [],
   "source": [
    "cat_grg_const=\"NA\"\n",
    "for feat in cat_garage_feat:\n",
    "    df_mvi[feat].replace(np.nan,cat_grg_const,inplace=True)"
   ]
  },
  {
   "cell_type": "code",
   "execution_count": 82,
   "id": "96d57166",
   "metadata": {},
   "outputs": [
    {
     "data": {
      "text/plain": [
       "GarageType      0\n",
       "GarageFinish    0\n",
       "GarageQual      0\n",
       "GarageCond      0\n",
       "dtype: int64"
      ]
     },
     "execution_count": 82,
     "metadata": {},
     "output_type": "execute_result"
    }
   ],
   "source": [
    "df_mvi[cat_garage_feat].isnull().sum()"
   ]
  },
  {
   "cell_type": "code",
   "execution_count": 83,
   "id": "2d1f6247",
   "metadata": {},
   "outputs": [
    {
     "data": {
      "text/plain": [
       "GarageYrBlt    0\n",
       "GarageCars     0\n",
       "GarageArea     0\n",
       "dtype: int64"
      ]
     },
     "execution_count": 83,
     "metadata": {},
     "output_type": "execute_result"
    }
   ],
   "source": [
    "garage_num=0\n",
    "for feat in num_garage_feat:\n",
    "    df_mvi[feat].replace(np.nan,garage_num,inplace=True )\n",
    "    \n",
    "df_mvi[num_garage_feat].isnull().sum()"
   ]
  },
  {
   "cell_type": "code",
   "execution_count": 84,
   "id": "0be6c539",
   "metadata": {},
   "outputs": [
    {
     "data": {
      "text/plain": [
       "1459"
      ]
     },
     "execution_count": 84,
     "metadata": {},
     "output_type": "execute_result"
    }
   ],
   "source": [
    "## now find any left missing value in dataset\n",
    "df_mvi.isnull().any(axis=1).sum()"
   ]
  },
  {
   "cell_type": "markdown",
   "id": "a2bfbbb4",
   "metadata": {},
   "source": [
    "## Feature Transformation :\n",
    "## Convert numerical feature to categorical feature"
   ]
  },
  {
   "cell_type": "code",
   "execution_count": 85,
   "id": "d0455210",
   "metadata": {},
   "outputs": [
    {
     "name": "stdout",
     "output_type": "stream",
     "text": [
      "MSSubClass:data type=int64\n",
      "YearBuilt:data type=int64\n",
      "YearRemodAdd:data type=int64\n",
      "GarageYrBlt:data type=float64\n",
      "MoSold:data type=int64\n",
      "YrSold:data type=int64\n"
     ]
    }
   ],
   "source": [
    "for_num_conv = [\"MSSubClass\",\"YearBuilt\", \"YearRemodAdd\", \"GarageYrBlt\", \"MoSold\",\"YrSold\"]\n",
    "for feat in for_num_conv:\n",
    "    print(f\"{feat}:data type={df_mvi[feat].dtype}\")"
   ]
  },
  {
   "cell_type": "code",
   "execution_count": 86,
   "id": "9303e0ef",
   "metadata": {},
   "outputs": [
    {
     "data": {
      "text/html": [
       "<div>\n",
       "<style scoped>\n",
       "    .dataframe tbody tr th:only-of-type {\n",
       "        vertical-align: middle;\n",
       "    }\n",
       "\n",
       "    .dataframe tbody tr th {\n",
       "        vertical-align: top;\n",
       "    }\n",
       "\n",
       "    .dataframe thead th {\n",
       "        text-align: right;\n",
       "    }\n",
       "</style>\n",
       "<table border=\"1\" class=\"dataframe\">\n",
       "  <thead>\n",
       "    <tr style=\"text-align: right;\">\n",
       "      <th></th>\n",
       "      <th>MSSubClass</th>\n",
       "      <th>YearBuilt</th>\n",
       "      <th>YearRemodAdd</th>\n",
       "      <th>GarageYrBlt</th>\n",
       "      <th>MoSold</th>\n",
       "      <th>YrSold</th>\n",
       "    </tr>\n",
       "    <tr>\n",
       "      <th>Id</th>\n",
       "      <th></th>\n",
       "      <th></th>\n",
       "      <th></th>\n",
       "      <th></th>\n",
       "      <th></th>\n",
       "      <th></th>\n",
       "    </tr>\n",
       "  </thead>\n",
       "  <tbody>\n",
       "    <tr>\n",
       "      <th>1461</th>\n",
       "      <td>20</td>\n",
       "      <td>1961</td>\n",
       "      <td>1961</td>\n",
       "      <td>1961.0</td>\n",
       "      <td>6</td>\n",
       "      <td>2010</td>\n",
       "    </tr>\n",
       "    <tr>\n",
       "      <th>1462</th>\n",
       "      <td>20</td>\n",
       "      <td>1958</td>\n",
       "      <td>1958</td>\n",
       "      <td>1958.0</td>\n",
       "      <td>6</td>\n",
       "      <td>2010</td>\n",
       "    </tr>\n",
       "    <tr>\n",
       "      <th>1463</th>\n",
       "      <td>60</td>\n",
       "      <td>1997</td>\n",
       "      <td>1998</td>\n",
       "      <td>1997.0</td>\n",
       "      <td>3</td>\n",
       "      <td>2010</td>\n",
       "    </tr>\n",
       "    <tr>\n",
       "      <th>1464</th>\n",
       "      <td>60</td>\n",
       "      <td>1998</td>\n",
       "      <td>1998</td>\n",
       "      <td>1998.0</td>\n",
       "      <td>6</td>\n",
       "      <td>2010</td>\n",
       "    </tr>\n",
       "    <tr>\n",
       "      <th>1465</th>\n",
       "      <td>120</td>\n",
       "      <td>1992</td>\n",
       "      <td>1992</td>\n",
       "      <td>1992.0</td>\n",
       "      <td>1</td>\n",
       "      <td>2010</td>\n",
       "    </tr>\n",
       "    <tr>\n",
       "      <th>1466</th>\n",
       "      <td>60</td>\n",
       "      <td>1993</td>\n",
       "      <td>1994</td>\n",
       "      <td>1993.0</td>\n",
       "      <td>4</td>\n",
       "      <td>2010</td>\n",
       "    </tr>\n",
       "    <tr>\n",
       "      <th>1467</th>\n",
       "      <td>20</td>\n",
       "      <td>1992</td>\n",
       "      <td>2007</td>\n",
       "      <td>1992.0</td>\n",
       "      <td>3</td>\n",
       "      <td>2010</td>\n",
       "    </tr>\n",
       "    <tr>\n",
       "      <th>1468</th>\n",
       "      <td>60</td>\n",
       "      <td>1998</td>\n",
       "      <td>1998</td>\n",
       "      <td>1998.0</td>\n",
       "      <td>5</td>\n",
       "      <td>2010</td>\n",
       "    </tr>\n",
       "    <tr>\n",
       "      <th>1469</th>\n",
       "      <td>20</td>\n",
       "      <td>1990</td>\n",
       "      <td>1990</td>\n",
       "      <td>1990.0</td>\n",
       "      <td>2</td>\n",
       "      <td>2010</td>\n",
       "    </tr>\n",
       "    <tr>\n",
       "      <th>1470</th>\n",
       "      <td>20</td>\n",
       "      <td>1970</td>\n",
       "      <td>1970</td>\n",
       "      <td>1970.0</td>\n",
       "      <td>4</td>\n",
       "      <td>2010</td>\n",
       "    </tr>\n",
       "  </tbody>\n",
       "</table>\n",
       "</div>"
      ],
      "text/plain": [
       "      MSSubClass  YearBuilt  YearRemodAdd  GarageYrBlt  MoSold  YrSold\n",
       "Id                                                                    \n",
       "1461          20       1961          1961       1961.0       6    2010\n",
       "1462          20       1958          1958       1958.0       6    2010\n",
       "1463          60       1997          1998       1997.0       3    2010\n",
       "1464          60       1998          1998       1998.0       6    2010\n",
       "1465         120       1992          1992       1992.0       1    2010\n",
       "1466          60       1993          1994       1993.0       4    2010\n",
       "1467          20       1992          2007       1992.0       3    2010\n",
       "1468          60       1998          1998       1998.0       5    2010\n",
       "1469          20       1990          1990       1990.0       2    2010\n",
       "1470          20       1970          1970       1970.0       4    2010"
      ]
     },
     "execution_count": 86,
     "metadata": {},
     "output_type": "execute_result"
    }
   ],
   "source": [
    "df_mvi[for_num_conv].head(10)"
   ]
  },
  {
   "cell_type": "code",
   "execution_count": 87,
   "id": "73f166ce",
   "metadata": {},
   "outputs": [
    {
     "data": {
      "text/plain": [
       "array([ 6,  3,  1,  4,  5,  2,  7, 10,  8, 11,  9, 12], dtype=int64)"
      ]
     },
     "execution_count": 87,
     "metadata": {},
     "output_type": "execute_result"
    }
   ],
   "source": [
    "## above dataframe MoSold is months no. in column. first we have to solve and conver these no. to str(jan, feb, mar,......).\n",
    "## we have function Calendar which convert no. of months to name of months.\n",
    "\n",
    "df_mvi[\"MoSold\"].unique()"
   ]
  },
  {
   "cell_type": "code",
   "execution_count": null,
   "id": "2129b60d",
   "metadata": {},
   "outputs": [],
   "source": []
  },
  {
   "cell_type": "code",
   "execution_count": 88,
   "id": "e021b876",
   "metadata": {},
   "outputs": [
    {
     "data": {
      "text/plain": [
       "'Dec'"
      ]
     },
     "execution_count": 88,
     "metadata": {},
     "output_type": "execute_result"
    }
   ],
   "source": [
    "calendar.month_abbr[12]\n",
    "# df_mvi[\"MoSold\"].unique()"
   ]
  },
  {
   "cell_type": "code",
   "execution_count": 89,
   "id": "5b40623b",
   "metadata": {},
   "outputs": [
    {
     "data": {
      "text/plain": [
       "array(['Jun', 'Mar', 'Jan', 'Apr', 'May', 'Feb', 'Jul', 'Oct', 'Aug',\n",
       "       'Nov', 'Sep', 'Dec'], dtype=object)"
      ]
     },
     "execution_count": 89,
     "metadata": {},
     "output_type": "execute_result"
    }
   ],
   "source": [
    "df_mvi[\"MoSold\"]=df_mvi[\"MoSold\"].apply(lambda x: calendar.month_abbr[x])\n",
    "df_mvi[\"MoSold\"].unique()"
   ]
  },
  {
   "cell_type": "code",
   "execution_count": 90,
   "id": "8e1feb74",
   "metadata": {},
   "outputs": [],
   "source": [
    "for feat in for_num_conv:\n",
    "    df_mvi[feat]=df_mvi[feat].astype(str)"
   ]
  },
  {
   "cell_type": "code",
   "execution_count": 91,
   "id": "5deec220",
   "metadata": {},
   "outputs": [
    {
     "name": "stdout",
     "output_type": "stream",
     "text": [
      "MSSubClass:data type=object\n",
      "YearBuilt:data type=object\n",
      "YearRemodAdd:data type=object\n",
      "GarageYrBlt:data type=object\n",
      "MoSold:data type=object\n",
      "YrSold:data type=object\n"
     ]
    }
   ],
   "source": [
    "for feat in for_num_conv:\n",
    "    print(f\"{feat}:data type={df_mvi[feat].dtype}\")"
   ]
  },
  {
   "cell_type": "markdown",
   "id": "7c89c8f1",
   "metadata": {},
   "source": [
    "## Convert categorical feature to numerical feature\n",
    "## Ordinal Encoding (convert rating to num value)"
   ]
  },
  {
   "cell_type": "code",
   "execution_count": 92,
   "id": "9f2d76f1",
   "metadata": {},
   "outputs": [
    {
     "name": "stdout",
     "output_type": "stream",
     "text": [
      "total no of features to convert ordinal numerical format: 18\n"
     ]
    }
   ],
   "source": [
    "ordinal_end_var= [\"ExterQual\", \"ExterCond\", \"BsmtQual\" , \"BsmtCond\", \"BsmtExposure\", \"BsmtFinType1\",\n",
    "\"BsmtFinSF1\", \"BsmtFinType1\", \"HeatingQC\", \"KitchenQual\", \"FireplaceQu\", \"GarageQual\", \"GarageCond\", \"PoolQC\", \"Functional\", \"GarageFinish\", \"PavedDrive\",\n",
    "\"Utilities\"]\n",
    "\n",
    "print(\"total no of features to convert ordinal numerical format:\", len(ordinal_end_var))"
   ]
  },
  {
   "cell_type": "code",
   "execution_count": 93,
   "id": "81eb1ed8",
   "metadata": {},
   "outputs": [
    {
     "data": {
      "text/plain": [
       "TA    1798\n",
       "Gd     979\n",
       "Ex     107\n",
       "Fa      35\n",
       "Name: ExterQual, dtype: int64"
      ]
     },
     "execution_count": 93,
     "metadata": {},
     "output_type": "execute_result"
    }
   ],
   "source": [
    "df_mvi[\"ExterQual\"].value_counts()"
   ]
  },
  {
   "cell_type": "code",
   "execution_count": 94,
   "id": "d788f287",
   "metadata": {},
   "outputs": [
    {
     "data": {
      "text/plain": [
       "Id\n",
       "1461    2\n",
       "1462    2\n",
       "1463    2\n",
       "1464    2\n",
       "1465    3\n",
       "       ..\n",
       "1456    2\n",
       "1457    2\n",
       "1458    4\n",
       "1459    2\n",
       "1460    3\n",
       "Name: ExterQual, Length: 2919, dtype: int8"
      ]
     },
     "execution_count": 94,
     "metadata": {},
     "output_type": "execute_result"
    }
   ],
   "source": [
    "df_mvi[\"ExterQual\"]=df_mvi[\"ExterQual\"].astype(CategoricalDtype(categories=[\"Po\",\"Fa\",\"TA\",\"Gd\",\"Ex\"],ordered=True)).cat.codes\n",
    "df_mvi[\"ExterQual\"]"
   ]
  },
  {
   "cell_type": "code",
   "execution_count": 95,
   "id": "18523bb1",
   "metadata": {},
   "outputs": [
    {
     "data": {
      "text/plain": [
       "2    1798\n",
       "3     979\n",
       "4     107\n",
       "1      35\n",
       "Name: ExterQual, dtype: int64"
      ]
     },
     "execution_count": 95,
     "metadata": {},
     "output_type": "execute_result"
    }
   ],
   "source": [
    "df_mvi[\"ExterQual\"].value_counts()"
   ]
  },
  {
   "cell_type": "code",
   "execution_count": 96,
   "id": "ebf976c7",
   "metadata": {},
   "outputs": [
    {
     "data": {
      "text/plain": [
       "No    1904\n",
       "Av     418\n",
       "Gd     276\n",
       "Mn     239\n",
       "NA      82\n",
       "Name: BsmtExposure, dtype: int64"
      ]
     },
     "execution_count": 96,
     "metadata": {},
     "output_type": "execute_result"
    }
   ],
   "source": [
    "df_mvi[\"BsmtExposure\"].value_counts()"
   ]
  },
  {
   "cell_type": "code",
   "execution_count": 97,
   "id": "196d83aa",
   "metadata": {},
   "outputs": [],
   "source": [
    "df_mvi[\"BsmtExposure\"]=df_mvi[\"BsmtExposure\"].astype(CategoricalDtype(categories=[\"NA\",\"No\",\"Mn\",\"Av\",\"Gd\"],ordered=True)).cat.codes"
   ]
  },
  {
   "cell_type": "code",
   "execution_count": 98,
   "id": "a5472b81",
   "metadata": {},
   "outputs": [
    {
     "data": {
      "text/plain": [
       "1    1904\n",
       "3     418\n",
       "4     276\n",
       "2     239\n",
       "0      82\n",
       "Name: BsmtExposure, dtype: int64"
      ]
     },
     "execution_count": 98,
     "metadata": {},
     "output_type": "execute_result"
    }
   ],
   "source": [
    "df_mvi[\"BsmtExposure\"].value_counts()"
   ]
  },
  {
   "cell_type": "code",
   "execution_count": 99,
   "id": "649f0373",
   "metadata": {},
   "outputs": [
    {
     "data": {
      "text/plain": [
       "['ExterQual',\n",
       " 'ExterCond',\n",
       " 'BsmtQual',\n",
       " 'BsmtCond',\n",
       " 'BsmtExposure',\n",
       " 'BsmtFinType1',\n",
       " 'BsmtFinType2',\n",
       " 'HeatingQC',\n",
       " 'KitchenQual',\n",
       " 'FireplaceQu',\n",
       " 'GarageQual',\n",
       " 'GarageCond',\n",
       " 'PoolQC',\n",
       " 'Functional',\n",
       " 'GarageFinish',\n",
       " 'PavedDrive',\n",
       " 'Utilities']"
      ]
     },
     "execution_count": 99,
     "metadata": {},
     "output_type": "execute_result"
    }
   ],
   "source": [
    "[\"ExterQual\", \"ExterCond\", \"BsmtQual\" , \"BsmtCond\", \"BsmtExposure\", \"BsmtFinType1\",\n",
    "\"BsmtFinType2\", \"HeatingQC\", \"KitchenQual\", \"FireplaceQu\", \"GarageQual\", \"GarageCond\", \"PoolQC\", \"Functional\", \"GarageFinish\", \"PavedDrive\",\n",
    "\"Utilities\"]"
   ]
  },
  {
   "cell_type": "code",
   "execution_count": 100,
   "id": "ec3c77ff",
   "metadata": {},
   "outputs": [],
   "source": [
    "df_mvi[\"ExterCond\"]=df_mvi[\"ExterCond\"].astype(CategoricalDtype(categories=[\"Po\",\"Fa\",\"TA\",\"Gs\",\"Ex\"],ordered=True)).cat.codes\n",
    "df_mvi[\"BsmtQual\"]=df_mvi[\"BsmtQual\"].astype(CategoricalDtype(categories=[\"NA\",\"Po\",\"Fa\",\"TA\",\"Gd\",\"Ex\"],ordered=True)).cat.codes\n",
    "df_mvi[\"BsmtCond\"]=df_mvi[\"BsmtCond\"].astype(CategoricalDtype(categories=[\"NA\",\"Po\",\"Fa\",\"TA\",\"Gd\",\"Ex\"],ordered=True)).cat.codes\n",
    "df_mvi[\"BsmtFinType1\"]=df_mvi[\"BsmtFinType1\"].astype(CategoricalDtype(categories=[\"NA\",\"Unf\",\"LwQ\",\"Rec\",\"BLQ\",\"ALQ\",\"GLQ\"],ordered=True)).cat.codes\n",
    "df_mvi[\"BsmtFinType2\"]=df_mvi[\"BsmtFinType2\"].astype(CategoricalDtype(categories=[\"NA\",\"Unf\",\"LwQ\",\"Rec\",\"BLQ\",\"ALQ\",\"GLQ\"],ordered=True)).cat.codes\n",
    "df_mvi[\"HeatingQC\"]=df_mvi[\"HeatingQC\"].astype(CategoricalDtype(categories=[\"Po\",\"Fa\",\"TA\",\"Gd\",\"Ex\"],ordered=True)).cat.codes\n",
    "df_mvi[\"KitchenQual\"]=df_mvi[\"KitchenQual\"].astype(CategoricalDtype(categories=[\"Po\",\"Fa\",\"TA\",\"Gd\",\"Ex\"],ordered=True)).cat.codes\n",
    "df_mvi[\"FireplaceQu\"]=df_mvi[\"FireplaceQu\"].astype(CategoricalDtype(categories=[\"NA\",\"Po\",\"Fa\",\"TA\",\"Gd\",\"Ex\"],ordered=True)).cat.codes\n",
    "df_mvi[\"GarageQual\"]=df_mvi[\"GarageQual\"].astype(CategoricalDtype(categories=[\"NA\",\"Po\",\"Fa\",\"TA\",\"Gd\",\"Ex\"],ordered=True)).cat.codes\n",
    "df_mvi[\"GarageCond\"]=df_mvi[\"GarageCond\"].astype(CategoricalDtype(categories=[\"NA\",\"Po\",\"Fa\",\"TA\",\"Gd\",\"Ex\"],ordered=True)).cat.codes\n",
    "df_mvi[\"PoolQC\"]=df_mvi[\"PoolQC\"].astype(CategoricalDtype(categories=[\"NA\",\"Fa\",\"TA\",\"Gd\",\"Ex\"],ordered=True)).cat.codes\n",
    "df_mvi[\"Functional\"]=df_mvi[\"Functional\"].astype(CategoricalDtype(categories=[\"Sal\",\"Sev\",\"Maj2\",\"Maj1\",\"Mod\",\"Min2\",\"Min1\",\"Typ\"],ordered=True)).cat.codes\n",
    "df_mvi[\"GarageFinish\"]=df_mvi[\"GarageFinish\"].astype(CategoricalDtype(categories=[\"NA\",\"Unf\",\"RFn\",\"Fin\"],ordered=True)).cat.codes\n",
    "df_mvi[\"PavedDrive\"]=df_mvi[\"PavedDrive\"].astype(CategoricalDtype(categories=[\"N\",\"P\",\"MY\"],ordered=True)).cat.codes\n",
    "df_mvi[\"Utilities\"]=df_mvi[\"Utilities\"].astype(CategoricalDtype(categories=[\"ELO\",\"NoSeWa\",\"NoSewr\",\"AllPub\"],ordered=True)).cat.codes\n"
   ]
  },
  {
   "cell_type": "code",
   "execution_count": 101,
   "id": "de24048e",
   "metadata": {},
   "outputs": [
    {
     "name": "stdout",
     "output_type": "stream",
     "text": [
      "<class 'pandas.core.frame.DataFrame'>\n",
      "Int64Index: 2919 entries, 1461 to 1460\n",
      "Data columns (total 80 columns):\n",
      " #   Column         Non-Null Count  Dtype  \n",
      "---  ------         --------------  -----  \n",
      " 0   MSSubClass     2919 non-null   object \n",
      " 1   MSZoning       2919 non-null   object \n",
      " 2   LotFrontage    2919 non-null   float64\n",
      " 3   LotArea        2919 non-null   int64  \n",
      " 4   Street         2919 non-null   object \n",
      " 5   Alley          2919 non-null   object \n",
      " 6   LotShape       2919 non-null   object \n",
      " 7   LandContour    2919 non-null   object \n",
      " 8   Utilities      2919 non-null   int8   \n",
      " 9   LotConfig      2919 non-null   object \n",
      " 10  LandSlope      2919 non-null   object \n",
      " 11  Neighborhood   2919 non-null   object \n",
      " 12  Condition1     2919 non-null   object \n",
      " 13  Condition2     2919 non-null   object \n",
      " 14  BldgType       2919 non-null   object \n",
      " 15  HouseStyle     2919 non-null   object \n",
      " 16  OverallQual    2919 non-null   int64  \n",
      " 17  OverallCond    2919 non-null   int64  \n",
      " 18  YearBuilt      2919 non-null   object \n",
      " 19  YearRemodAdd   2919 non-null   object \n",
      " 20  RoofStyle      2919 non-null   object \n",
      " 21  RoofMatl       2919 non-null   object \n",
      " 22  Exterior1st    2919 non-null   object \n",
      " 23  Exterior2nd    2919 non-null   object \n",
      " 24  MasVnrType     2919 non-null   object \n",
      " 25  MasVnrArea     2919 non-null   float64\n",
      " 26  ExterQual      2919 non-null   int8   \n",
      " 27  ExterCond      2919 non-null   int8   \n",
      " 28  Foundation     2919 non-null   object \n",
      " 29  BsmtQual       2919 non-null   int8   \n",
      " 30  BsmtCond       2919 non-null   int8   \n",
      " 31  BsmtExposure   2919 non-null   int8   \n",
      " 32  BsmtFinType1   2919 non-null   int8   \n",
      " 33  BsmtFinSF1     2919 non-null   float64\n",
      " 34  BsmtFinType2   2919 non-null   int8   \n",
      " 35  BsmtFinSF2     2919 non-null   float64\n",
      " 36  BsmtUnfSF      2919 non-null   float64\n",
      " 37  TotalBsmtSF    2919 non-null   float64\n",
      " 38  Heating        2919 non-null   object \n",
      " 39  HeatingQC      2919 non-null   int8   \n",
      " 40  CentralAir     2919 non-null   object \n",
      " 41  Electrical     2919 non-null   object \n",
      " 42  1stFlrSF       2919 non-null   int64  \n",
      " 43  2ndFlrSF       2919 non-null   int64  \n",
      " 44  LowQualFinSF   2919 non-null   int64  \n",
      " 45  GrLivArea      2919 non-null   int64  \n",
      " 46  BsmtFullBath   2919 non-null   float64\n",
      " 47  BsmtHalfBath   2919 non-null   float64\n",
      " 48  FullBath       2919 non-null   int64  \n",
      " 49  HalfBath       2919 non-null   int64  \n",
      " 50  BedroomAbvGr   2919 non-null   int64  \n",
      " 51  KitchenAbvGr   2919 non-null   int64  \n",
      " 52  KitchenQual    2919 non-null   int8   \n",
      " 53  TotRmsAbvGrd   2919 non-null   int64  \n",
      " 54  Functional     2919 non-null   int8   \n",
      " 55  Fireplaces     2919 non-null   int64  \n",
      " 56  FireplaceQu    2919 non-null   int8   \n",
      " 57  GarageType     2919 non-null   object \n",
      " 58  GarageYrBlt    2919 non-null   object \n",
      " 59  GarageFinish   2919 non-null   int8   \n",
      " 60  GarageCars     2919 non-null   float64\n",
      " 61  GarageArea     2919 non-null   float64\n",
      " 62  GarageQual     2919 non-null   int8   \n",
      " 63  GarageCond     2919 non-null   int8   \n",
      " 64  PavedDrive     2919 non-null   int8   \n",
      " 65  WoodDeckSF     2919 non-null   int64  \n",
      " 66  OpenPorchSF    2919 non-null   int64  \n",
      " 67  EnclosedPorch  2919 non-null   int64  \n",
      " 68  3SsnPorch      2919 non-null   int64  \n",
      " 69  ScreenPorch    2919 non-null   int64  \n",
      " 70  PoolArea       2919 non-null   int64  \n",
      " 71  PoolQC         2919 non-null   int8   \n",
      " 72  Fence          2919 non-null   object \n",
      " 73  MiscFeature    2919 non-null   object \n",
      " 74  MiscVal        2919 non-null   int64  \n",
      " 75  MoSold         2919 non-null   object \n",
      " 76  YrSold         2919 non-null   object \n",
      " 77  SaleType       2919 non-null   object \n",
      " 78  SaleCondition  2919 non-null   object \n",
      " 79  SalePrice      1460 non-null   float64\n",
      "dtypes: float64(11), int64(20), int8(17), object(32)\n",
      "memory usage: 1.5+ MB\n"
     ]
    }
   ],
   "source": [
    "df_mvi.info()"
   ]
  },
  {
   "cell_type": "markdown",
   "id": "3a5d325a",
   "metadata": {},
   "source": [
    "## One Hot encoding for nominal categorical data"
   ]
  },
  {
   "cell_type": "code",
   "execution_count": 102,
   "id": "7a65959f",
   "metadata": {},
   "outputs": [
    {
     "name": "stdout",
     "output_type": "stream",
     "text": [
      "total object data type feature: \n",
      " 32\n",
      "feature: ['MSSubClass', 'MSZoning', 'Street', 'Alley', 'LotShape', 'LandContour', 'LotConfig', 'LandSlope', 'Neighborhood', 'Condition1', 'Condition2', 'BldgType', 'HouseStyle', 'YearBuilt', 'YearRemodAdd', 'RoofStyle', 'RoofMatl', 'Exterior1st', 'Exterior2nd', 'MasVnrType', 'Foundation', 'Heating', 'CentralAir', 'Electrical', 'GarageType', 'GarageYrBlt', 'Fence', 'MiscFeature', 'MoSold', 'YrSold', 'SaleType', 'SaleCondition']\n"
     ]
    }
   ],
   "source": [
    "df_encod = df_mvi.copy()\n",
    "object_feat_encod = df_encod.select_dtypes(include=\"object\").columns.tolist()\n",
    "\n",
    "print (\"total object data type feature: \\n\", len(object_feat_encod))\n",
    "\n",
    "print(\"feature:\",object_feat_encod)\n"
   ]
  },
  {
   "cell_type": "code",
   "execution_count": 103,
   "id": "eec15e92",
   "metadata": {},
   "outputs": [
    {
     "data": {
      "text/html": [
       "<div>\n",
       "<style scoped>\n",
       "    .dataframe tbody tr th:only-of-type {\n",
       "        vertical-align: middle;\n",
       "    }\n",
       "\n",
       "    .dataframe tbody tr th {\n",
       "        vertical-align: top;\n",
       "    }\n",
       "\n",
       "    .dataframe thead th {\n",
       "        text-align: right;\n",
       "    }\n",
       "</style>\n",
       "<table border=\"1\" class=\"dataframe\">\n",
       "  <thead>\n",
       "    <tr style=\"text-align: right;\">\n",
       "      <th></th>\n",
       "      <th>MSSubClass</th>\n",
       "      <th>MSZoning</th>\n",
       "      <th>Street</th>\n",
       "      <th>Alley</th>\n",
       "      <th>LotShape</th>\n",
       "      <th>LandContour</th>\n",
       "      <th>LotConfig</th>\n",
       "      <th>LandSlope</th>\n",
       "      <th>Neighborhood</th>\n",
       "      <th>Condition1</th>\n",
       "      <th>...</th>\n",
       "      <th>CentralAir</th>\n",
       "      <th>Electrical</th>\n",
       "      <th>GarageType</th>\n",
       "      <th>GarageYrBlt</th>\n",
       "      <th>Fence</th>\n",
       "      <th>MiscFeature</th>\n",
       "      <th>MoSold</th>\n",
       "      <th>YrSold</th>\n",
       "      <th>SaleType</th>\n",
       "      <th>SaleCondition</th>\n",
       "    </tr>\n",
       "    <tr>\n",
       "      <th>Id</th>\n",
       "      <th></th>\n",
       "      <th></th>\n",
       "      <th></th>\n",
       "      <th></th>\n",
       "      <th></th>\n",
       "      <th></th>\n",
       "      <th></th>\n",
       "      <th></th>\n",
       "      <th></th>\n",
       "      <th></th>\n",
       "      <th></th>\n",
       "      <th></th>\n",
       "      <th></th>\n",
       "      <th></th>\n",
       "      <th></th>\n",
       "      <th></th>\n",
       "      <th></th>\n",
       "      <th></th>\n",
       "      <th></th>\n",
       "      <th></th>\n",
       "      <th></th>\n",
       "    </tr>\n",
       "  </thead>\n",
       "  <tbody>\n",
       "    <tr>\n",
       "      <th>1461</th>\n",
       "      <td>20</td>\n",
       "      <td>RH</td>\n",
       "      <td>Pave</td>\n",
       "      <td>NA</td>\n",
       "      <td>Reg</td>\n",
       "      <td>Lvl</td>\n",
       "      <td>Inside</td>\n",
       "      <td>Gtl</td>\n",
       "      <td>NAmes</td>\n",
       "      <td>Feedr</td>\n",
       "      <td>...</td>\n",
       "      <td>Y</td>\n",
       "      <td>SBrkr</td>\n",
       "      <td>Attchd</td>\n",
       "      <td>1961.0</td>\n",
       "      <td>MnPrv</td>\n",
       "      <td>NA</td>\n",
       "      <td>Jun</td>\n",
       "      <td>2010</td>\n",
       "      <td>WD</td>\n",
       "      <td>Normal</td>\n",
       "    </tr>\n",
       "    <tr>\n",
       "      <th>1462</th>\n",
       "      <td>20</td>\n",
       "      <td>RL</td>\n",
       "      <td>Pave</td>\n",
       "      <td>NA</td>\n",
       "      <td>IR1</td>\n",
       "      <td>Lvl</td>\n",
       "      <td>Corner</td>\n",
       "      <td>Gtl</td>\n",
       "      <td>NAmes</td>\n",
       "      <td>Norm</td>\n",
       "      <td>...</td>\n",
       "      <td>Y</td>\n",
       "      <td>SBrkr</td>\n",
       "      <td>Attchd</td>\n",
       "      <td>1958.0</td>\n",
       "      <td>NA</td>\n",
       "      <td>Gar2</td>\n",
       "      <td>Jun</td>\n",
       "      <td>2010</td>\n",
       "      <td>WD</td>\n",
       "      <td>Normal</td>\n",
       "    </tr>\n",
       "    <tr>\n",
       "      <th>1463</th>\n",
       "      <td>60</td>\n",
       "      <td>RL</td>\n",
       "      <td>Pave</td>\n",
       "      <td>NA</td>\n",
       "      <td>IR1</td>\n",
       "      <td>Lvl</td>\n",
       "      <td>Inside</td>\n",
       "      <td>Gtl</td>\n",
       "      <td>Gilbert</td>\n",
       "      <td>Norm</td>\n",
       "      <td>...</td>\n",
       "      <td>Y</td>\n",
       "      <td>SBrkr</td>\n",
       "      <td>Attchd</td>\n",
       "      <td>1997.0</td>\n",
       "      <td>MnPrv</td>\n",
       "      <td>NA</td>\n",
       "      <td>Mar</td>\n",
       "      <td>2010</td>\n",
       "      <td>WD</td>\n",
       "      <td>Normal</td>\n",
       "    </tr>\n",
       "    <tr>\n",
       "      <th>1464</th>\n",
       "      <td>60</td>\n",
       "      <td>RL</td>\n",
       "      <td>Pave</td>\n",
       "      <td>NA</td>\n",
       "      <td>IR1</td>\n",
       "      <td>Lvl</td>\n",
       "      <td>Inside</td>\n",
       "      <td>Gtl</td>\n",
       "      <td>Gilbert</td>\n",
       "      <td>Norm</td>\n",
       "      <td>...</td>\n",
       "      <td>Y</td>\n",
       "      <td>SBrkr</td>\n",
       "      <td>Attchd</td>\n",
       "      <td>1998.0</td>\n",
       "      <td>NA</td>\n",
       "      <td>NA</td>\n",
       "      <td>Jun</td>\n",
       "      <td>2010</td>\n",
       "      <td>WD</td>\n",
       "      <td>Normal</td>\n",
       "    </tr>\n",
       "    <tr>\n",
       "      <th>1465</th>\n",
       "      <td>120</td>\n",
       "      <td>RL</td>\n",
       "      <td>Pave</td>\n",
       "      <td>NA</td>\n",
       "      <td>IR1</td>\n",
       "      <td>HLS</td>\n",
       "      <td>Inside</td>\n",
       "      <td>Gtl</td>\n",
       "      <td>StoneBr</td>\n",
       "      <td>Norm</td>\n",
       "      <td>...</td>\n",
       "      <td>Y</td>\n",
       "      <td>SBrkr</td>\n",
       "      <td>Attchd</td>\n",
       "      <td>1992.0</td>\n",
       "      <td>NA</td>\n",
       "      <td>NA</td>\n",
       "      <td>Jan</td>\n",
       "      <td>2010</td>\n",
       "      <td>WD</td>\n",
       "      <td>Normal</td>\n",
       "    </tr>\n",
       "  </tbody>\n",
       "</table>\n",
       "<p>5 rows × 32 columns</p>\n",
       "</div>"
      ],
      "text/plain": [
       "     MSSubClass MSZoning Street Alley LotShape LandContour LotConfig  \\\n",
       "Id                                                                     \n",
       "1461         20       RH   Pave    NA      Reg         Lvl    Inside   \n",
       "1462         20       RL   Pave    NA      IR1         Lvl    Corner   \n",
       "1463         60       RL   Pave    NA      IR1         Lvl    Inside   \n",
       "1464         60       RL   Pave    NA      IR1         Lvl    Inside   \n",
       "1465        120       RL   Pave    NA      IR1         HLS    Inside   \n",
       "\n",
       "     LandSlope Neighborhood Condition1  ... CentralAir Electrical GarageType  \\\n",
       "Id                                      ...                                    \n",
       "1461       Gtl        NAmes      Feedr  ...          Y      SBrkr     Attchd   \n",
       "1462       Gtl        NAmes       Norm  ...          Y      SBrkr     Attchd   \n",
       "1463       Gtl      Gilbert       Norm  ...          Y      SBrkr     Attchd   \n",
       "1464       Gtl      Gilbert       Norm  ...          Y      SBrkr     Attchd   \n",
       "1465       Gtl      StoneBr       Norm  ...          Y      SBrkr     Attchd   \n",
       "\n",
       "     GarageYrBlt  Fence MiscFeature MoSold YrSold SaleType SaleCondition  \n",
       "Id                                                                        \n",
       "1461      1961.0  MnPrv          NA    Jun   2010       WD        Normal  \n",
       "1462      1958.0     NA        Gar2    Jun   2010       WD        Normal  \n",
       "1463      1997.0  MnPrv          NA    Mar   2010       WD        Normal  \n",
       "1464      1998.0     NA          NA    Jun   2010       WD        Normal  \n",
       "1465      1992.0     NA          NA    Jan   2010       WD        Normal  \n",
       "\n",
       "[5 rows x 32 columns]"
      ]
     },
     "execution_count": 103,
     "metadata": {},
     "output_type": "execute_result"
    }
   ],
   "source": [
    "df_encod[object_feat_encod].head(5)"
   ]
  },
  {
   "cell_type": "markdown",
   "id": "6ae141e1",
   "metadata": {},
   "source": [
    "## Apply One-hot encoding"
   ]
  },
  {
   "cell_type": "code",
   "execution_count": 104,
   "id": "d5a6830f",
   "metadata": {},
   "outputs": [
    {
     "name": "stdout",
     "output_type": "stream",
     "text": [
      "Shape of DF befor encoding: (2919, 80)\n",
      "Shape of DF after encoding: (2919, 513)\n"
     ]
    }
   ],
   "source": [
    "print(\"Shape of DF befor encoding:\" , df_encod.shape)\n",
    "df_encod= pd.get_dummies(df_encod,\n",
    "                         columns= object_feat_encod,\n",
    "                         prefix=object_feat_encod,\n",
    "                         drop_first=True)\n",
    "print(\"Shape of DF after encoding:\" , df_encod.shape)"
   ]
  },
  {
   "cell_type": "code",
   "execution_count": 105,
   "id": "05ed4e52",
   "metadata": {},
   "outputs": [
    {
     "data": {
      "text/plain": [
       "[]"
      ]
     },
     "execution_count": 105,
     "metadata": {},
     "output_type": "execute_result"
    }
   ],
   "source": [
    "df_encod.select_dtypes(include=\"object\").columns.tolist() ##output null indicate that there is not object left in data type ##"
   ]
  },
  {
   "cell_type": "markdown",
   "id": "921eaa1f",
   "metadata": {},
   "source": [
    "## Spilit data into training and testing"
   ]
  },
  {
   "cell_type": "code",
   "execution_count": 106,
   "id": "9e762478",
   "metadata": {},
   "outputs": [
    {
     "data": {
      "text/plain": [
       "(2919, 513)"
      ]
     },
     "execution_count": 106,
     "metadata": {},
     "output_type": "execute_result"
    }
   ],
   "source": [
    "df_encod.shape"
   ]
  },
  {
   "cell_type": "code",
   "execution_count": 107,
   "id": "5d561e84",
   "metadata": {},
   "outputs": [
    {
     "data": {
      "text/plain": [
       "1460"
      ]
     },
     "execution_count": 107,
     "metadata": {},
     "output_type": "execute_result"
    }
   ],
   "source": [
    "len_train=df_train.shape[0]\n",
    "len_train"
   ]
  },
  {
   "cell_type": "code",
   "execution_count": 108,
   "id": "e751b259",
   "metadata": {},
   "outputs": [
    {
     "name": "stdout",
     "output_type": "stream",
     "text": [
      "Shape of x_train data: (1460, 512)\n",
      "Shape of y_train data: (1460,)\n",
      "Shape of X_test data: (1459, 512)\n"
     ]
    }
   ],
   "source": [
    "X_train = df_encod[:len_train].drop(\"SalePrice\", axis=1)\n",
    "y_train = df_encod[\"SalePrice\"][:len_train]\n",
    "\n",
    "X_test = df_encod[len_train:].drop(\"SalePrice\", axis=1)\n",
    "\n",
    "print(\"Shape of x_train data:\", X_train.shape)\n",
    "print(\"Shape of y_train data:\", y_train.shape)\n",
    "print(\"Shape of X_test data:\", X_test.shape)"
   ]
  },
  {
   "cell_type": "markdown",
   "id": "1b378f0d",
   "metadata": {},
   "source": [
    "### Feature scaling"
   ]
  },
  {
   "cell_type": "markdown",
   "id": "14d80f77",
   "metadata": {},
   "source": [
    "# Others alternative scaler i)robust scaler ii)MinMax Scaler iii)Standard Scaler iv)Power Transformer Scaler v)Unit Vector Scaler/Normalizer vi)StandardScaler"
   ]
  },
  {
   "cell_type": "code",
   "execution_count": 109,
   "id": "06436beb",
   "metadata": {},
   "outputs": [],
   "source": [
    "sc = StandardScaler()         \n",
    "sc.fit(X_train)\n",
    "## formula(z score) = z = (x-u/s) ##\n",
    "\n",
    "X_train = sc.transform(X_train)\n",
    "X_test = sc.transform(X_test)"
   ]
  },
  {
   "cell_type": "code",
   "execution_count": 110,
   "id": "70d48dab",
   "metadata": {},
   "outputs": [
    {
     "data": {
      "text/plain": [
       "array([[ 0.56025375,  0.36423366,  0.        , ..., -0.13465178,\n",
       "         0.46001984, -0.2992528 ],\n",
       "       [ 0.6089193 ,  0.89833416,  0.        , ..., -0.13465178,\n",
       "         0.46001984, -0.2992528 ],\n",
       "       [ 0.26826048,  0.81009147,  0.        , ..., -0.13465178,\n",
       "         0.46001984, -0.2992528 ]])"
      ]
     },
     "execution_count": 110,
     "metadata": {},
     "output_type": "execute_result"
    }
   ],
   "source": [
    "X_train[:3,:]"
   ]
  },
  {
   "cell_type": "code",
   "execution_count": 111,
   "id": "3f791c63",
   "metadata": {},
   "outputs": [
    {
     "data": {
      "text/plain": [
       "array([[ 0.56025375, -0.04406547,  0.        , ..., -0.13465178,\n",
       "         0.46001984, -0.2992528 ],\n",
       "       [-0.02373279,  0.28911632,  0.        , ..., -0.13465178,\n",
       "         0.46001984, -0.2992528 ],\n",
       "       [-0.41305714, -0.05416189,  0.        , ..., -0.13465178,\n",
       "        -2.17381926, -0.2992528 ]])"
      ]
     },
     "execution_count": 111,
     "metadata": {},
     "output_type": "execute_result"
    }
   ],
   "source": [
    "X_test[:3,:]"
   ]
  },
  {
   "cell_type": "code",
   "execution_count": 112,
   "id": "c399e139",
   "metadata": {},
   "outputs": [
    {
     "data": {
      "text/plain": [
       "array([ 6.84876712e+01,  9.81822329e+03,  3.00000000e+00,  6.07945205e+00,\n",
       "        5.55342466e+00,  9.97397260e+01,  2.39794521e+00,  1.66849315e+00,\n",
       "        3.46643836e+00,  2.90205479e+00,  1.61712329e+00,  3.53904110e+00,\n",
       "        4.39085616e+02,  1.30000000e+00,  5.25472603e+01,  5.53638356e+02,\n",
       "        1.04527123e+03,  3.15890411e+00,  1.15632877e+03,  3.26329452e+02,\n",
       "        3.54109589e+00,  1.48619932e+03,  4.34246575e-01,  6.50684932e-02,\n",
       "        1.57123288e+00,  3.78082192e-01,  2.85410959e+00,  1.04246575e+00,\n",
       "        2.51027397e+00,  6.38630137e+00,  6.85479452e+00,  5.80821918e-01,\n",
       "        1.70958904e+00,  1.71643836e+00,  1.76506849e+00,  4.72496575e+02,\n",
       "        2.79178082e+00,  2.80890411e+00, -8.69863014e-01,  9.31109589e+01,\n",
       "        4.83226027e+01,  2.42267123e+01,  1.79315068e+00,  1.70527397e+01,\n",
       "        1.74315068e+00,  7.53424658e-03,  5.81280822e+01,  6.84931507e-04,\n",
       "        4.45205479e-02,  4.79452055e-03,  2.12328767e-02,  3.71917808e-01,\n",
       "        4.79452055e-02,  1.36986301e-03,  4.10958904e-03,  9.79452055e-02,\n",
       "        1.89726027e-01,  4.65753425e-02,  4.79452055e-03,  4.10958904e-02,\n",
       "        1.91780822e-02,  3.90410959e-02,  5.06849315e-02,  6.84931507e-03,\n",
       "        7.66438356e-01,  1.65753425e-01,  9.95890411e-01,  9.26712329e-01,\n",
       "        2.53424658e-02,  2.39726027e-02,  4.10958904e-03,  6.40410959e-01,\n",
       "        4.79452055e-02,  1.64383562e-02,  8.98630137e-01,  5.61643836e-02,\n",
       "        2.60273973e-02,  6.84931507e-03,  7.41095890e-01,  4.10958904e-02,\n",
       "        2.05479452e-03,  5.47945205e-03,  9.58904110e-03,  3.42465753e-02,\n",
       "        1.09589041e-02,  8.08219178e-02,  3.56164384e-02,  6.43835616e-02,\n",
       "        5.89041096e-02,  3.83561644e-02,  1.36986301e-02,  4.45205479e-02,\n",
       "        1.49315068e-01,  9.58904110e-03,  3.97260274e-02,  2.05479452e-02,\n",
       "        6.09589041e-02,  8.63013699e-02,  1.57534247e-02,  5.27397260e-02,\n",
       "        4.52054795e-02,  6.57534247e-02,  1.78082192e-02,  2.32876712e-02,\n",
       "        8.90410959e-03,  5.68493151e-02,  8.57534247e-01,  8.21917808e-03,\n",
       "        1.36986301e-02,  1.16438356e-02,  1.64383562e-02,  2.73972603e-03,\n",
       "        2.73972603e-03,  4.79452055e-03,  9.89726027e-01,  2.05479452e-03,\n",
       "        1.36986301e-03,  0.00000000e+00,  0.00000000e+00,  0.00000000e+00,\n",
       "        2.12328767e-02,  3.90410959e-02,  3.63013699e-02,  7.73972603e-02,\n",
       "        3.42465753e-03,  5.10273973e-01,  0.00000000e+00,  8.90410959e-03,\n",
       "        2.93150685e-01,  3.15068493e-02,  4.31506849e-02,  0.00000000e+00,\n",
       "        6.84931507e-04,  6.84931507e-04,  0.00000000e+00,  0.00000000e+00,\n",
       "        3.42465753e-03,  0.00000000e+00,  0.00000000e+00,  2.05479452e-03,\n",
       "        6.84931507e-04,  0.00000000e+00,  1.30136986e-02,  1.36986301e-03,\n",
       "        6.84931507e-04,  0.00000000e+00,  1.36986301e-03,  0.00000000e+00,\n",
       "        6.84931507e-04,  0.00000000e+00,  1.78082192e-02,  0.00000000e+00,\n",
       "        1.36986301e-03,  0.00000000e+00,  6.84931507e-04,  9.58904110e-03,\n",
       "        1.36986301e-03,  1.36986301e-03,  2.05479452e-03,  1.36986301e-03,\n",
       "        1.84931507e-02,  3.42465753e-03,  5.47945205e-03,  6.84931507e-03,\n",
       "        6.16438356e-03,  1.23287671e-02,  6.84931507e-03,  4.10958904e-03,\n",
       "        1.36986301e-03,  2.73972603e-03,  1.16438356e-02,  6.84931507e-04,\n",
       "        6.84931507e-04,  1.36986301e-03,  4.79452055e-03,  1.36986301e-03,\n",
       "        2.73972603e-03,  6.16438356e-03,  8.21917808e-03,  1.23287671e-02,\n",
       "        5.47945205e-03,  2.73972603e-03,  6.16438356e-03,  5.47945205e-03,\n",
       "        4.10958904e-03,  8.90410959e-03,  4.10958904e-03,  1.23287671e-02,\n",
       "        8.21917808e-03,  8.90410959e-03,  8.21917808e-03,  1.30136986e-02,\n",
       "        1.23287671e-02,  1.71232877e-02,  1.02739726e-02,  1.64383562e-02,\n",
       "        1.16438356e-02,  1.36986301e-02,  1.36986301e-02,  1.09589041e-02,\n",
       "        1.30136986e-02,  1.23287671e-02,  6.84931507e-03,  1.16438356e-02,\n",
       "        1.71232877e-02,  1.57534247e-02,  9.58904110e-03,  1.23287671e-02,\n",
       "        1.16438356e-02,  1.16438356e-02,  6.84931507e-03,  8.90410959e-03,\n",
       "        1.16438356e-02,  1.43835616e-02,  1.71232877e-02,  1.57534247e-02,\n",
       "        8.21917808e-03,  8.90410959e-03,  2.73972603e-03,  6.84931507e-04,\n",
       "        2.73972603e-03,  6.84931507e-03,  1.36986301e-03,  3.42465753e-03,\n",
       "        3.42465753e-03,  2.73972603e-03,  3.42465753e-03,  4.79452055e-03,\n",
       "        4.79452055e-03,  9.58904110e-03,  1.50684932e-02,  1.23287671e-02,\n",
       "        8.90410959e-03,  1.30136986e-02,  1.43835616e-02,  1.43835616e-02,\n",
       "        1.84931507e-02,  1.64383562e-02,  1.02739726e-02,  1.64383562e-02,\n",
       "        3.01369863e-02,  3.08219178e-02,  5.34246575e-02,  4.86301370e-02,\n",
       "        4.10958904e-02,  1.78082192e-02,  4.79452055e-03,  1.36986301e-03,\n",
       "        6.84931507e-03,  6.84931507e-03,  6.84931507e-03,  9.58904110e-03,\n",
       "        1.09589041e-02,  1.36986301e-02,  7.53424658e-03,  1.30136986e-02,\n",
       "        8.21917808e-03,  1.16438356e-02,  1.09589041e-02,  8.21917808e-03,\n",
       "        1.16438356e-02,  1.02739726e-02,  6.16438356e-03,  8.21917808e-03,\n",
       "        1.50684932e-02,  1.50684932e-02,  8.21917808e-03,  1.23287671e-02,\n",
       "        8.90410959e-03,  1.02739726e-02,  6.84931507e-03,  8.21917808e-03,\n",
       "        1.36986301e-02,  1.23287671e-02,  1.43835616e-02,  1.36986301e-02,\n",
       "        9.58904110e-03,  9.58904110e-03,  2.73972603e-03,  1.36986301e-03,\n",
       "        4.10958904e-03,  8.21917808e-03,  3.42465753e-03,  4.79452055e-03,\n",
       "        4.10958904e-03,  4.10958904e-03,  4.79452055e-03,  9.58904110e-03,\n",
       "        1.02739726e-02,  1.02739726e-02,  1.64383562e-02,  2.12328767e-02,\n",
       "        1.71232877e-02,  1.57534247e-02,  1.64383562e-02,  2.80821918e-02,\n",
       "        2.05479452e-02,  3.35616438e-02,  1.91780822e-02,  2.32876712e-02,\n",
       "        3.35616438e-02,  3.35616438e-02,  4.65753425e-02,  7.19178082e-02,\n",
       "        6.02739726e-02,  2.80821918e-02,  7.53424658e-03,  4.79452055e-03,\n",
       "        8.01369863e-01,  7.53424658e-03,  1.81506849e-01,  2.73972603e-03,\n",
       "        2.05479452e-03,  9.88356164e-01,  0.00000000e+00,  0.00000000e+00,\n",
       "        0.00000000e+00,  8.21917808e-03,  2.73972603e-03,  6.84931507e-04,\n",
       "        6.84931507e-04,  2.73972603e-03,  2.53424658e-02,  6.84931507e-04,\n",
       "        4.45205479e-02,  1.50684932e-01,  0.00000000e+00,  1.57534247e-01,\n",
       "        7.73972603e-02,  0.00000000e+00,  1.23287671e-02,  3.50684932e-01,\n",
       "        1.40410959e-01,  2.05479452e-02,  6.84931507e-04,  1.02739726e-02,\n",
       "        1.50684932e-02,  1.36986301e-03,  4.52054795e-02,  1.36301370e-01,\n",
       "        3.42465753e-03,  1.59589041e-01,  0.00000000e+00,  8.76712329e-02,\n",
       "        6.84931507e-04,  1.43835616e-02,  3.50684932e-01,  1.32876712e-01,\n",
       "        2.94520548e-02,  2.97945205e-01,  6.12328767e-01,  8.28767123e-02,\n",
       "        4.11643836e-01,  4.53424658e-01,  1.71232877e-02,  3.42465753e-03,\n",
       "        1.36986301e-03,  9.91095890e-01,  6.16438356e-03,  1.36986301e-03,\n",
       "        0.00000000e+00,  1.36986301e-03,  9.30821918e-01,  1.57534247e-02,\n",
       "        3.42465753e-03,  0.00000000e+00,  9.16438356e-01,  5.84931507e-01,\n",
       "        1.16438356e-02,  6.71232877e-02,  4.10958904e-03,  2.68493151e-01,\n",
       "        5.20547945e-02,  6.84931507e-04,  6.84931507e-04,  3.42465753e-03,\n",
       "        0.00000000e+00,  0.00000000e+00,  4.79452055e-03,  0.00000000e+00,\n",
       "        3.42465753e-03,  6.84931507e-04,  1.36986301e-03,  6.84931507e-04,\n",
       "        6.84931507e-04,  1.30136986e-02,  1.36986301e-03,  2.05479452e-03,\n",
       "        2.05479452e-03,  3.42465753e-03,  3.42465753e-03,  6.16438356e-03,\n",
       "        2.73972603e-03,  2.05479452e-03,  0.00000000e+00,  1.30136986e-02,\n",
       "        0.00000000e+00,  6.84931507e-04,  0.00000000e+00,  1.36986301e-03,\n",
       "        2.73972603e-03,  1.36986301e-03,  2.73972603e-03,  5.47945205e-03,\n",
       "        8.21917808e-03,  7.53424658e-03,  2.73972603e-03,  2.73972603e-03,\n",
       "        6.84931507e-04,  4.10958904e-03,  3.42465753e-03,  2.05479452e-03,\n",
       "        5.47945205e-03,  4.10958904e-03,  1.84931507e-02,  7.53424658e-03,\n",
       "        8.90410959e-03,  7.53424658e-03,  1.23287671e-02,  7.53424658e-03,\n",
       "        1.71232877e-02,  9.58904110e-03,  1.43835616e-02,  1.30136986e-02,\n",
       "        1.23287671e-02,  1.23287671e-02,  9.58904110e-03,  1.23287671e-02,\n",
       "        1.16438356e-02,  8.90410959e-03,  1.23287671e-02,  1.43835616e-02,\n",
       "        1.50684932e-02,  1.16438356e-02,  8.21917808e-03,  7.53424658e-03,\n",
       "        8.90410959e-03,  1.02739726e-02,  1.16438356e-02,  1.30136986e-02,\n",
       "        1.43835616e-02,  2.12328767e-02,  1.50684932e-02,  1.36986301e-02,\n",
       "        1.16438356e-02,  3.42465753e-03,  3.42465753e-03,  2.73972603e-03,\n",
       "        7.53424658e-03,  5.47945205e-03,  4.10958904e-03,  4.79452055e-03,\n",
       "        4.10958904e-03,  6.16438356e-03,  6.84931507e-03,  5.47945205e-03,\n",
       "        9.58904110e-03,  1.84931507e-02,  1.43835616e-02,  1.16438356e-02,\n",
       "        1.36986301e-02,  1.71232877e-02,  1.84931507e-02,  1.64383562e-02,\n",
       "        1.91780822e-02,  1.43835616e-02,  1.84931507e-02,  2.94520548e-02,\n",
       "        3.15068493e-02,  5.27397260e-02,  3.83561644e-02,  4.52054795e-02,\n",
       "        2.19178082e-02,  5.47945205e-03,  1.36986301e-03,  6.84931507e-04,\n",
       "        3.97260274e-02,  1.17808219e-01,  6.84931507e-04,  8.01369863e-01,\n",
       "        9.65068493e-01,  1.36986301e-03,  3.15068493e-02,  0.00000000e+00,\n",
       "        7.60273973e-02,  3.08219178e-02,  5.61643836e-02,  4.38356164e-02,\n",
       "        1.45205479e-01,  1.71232877e-01,  8.63013699e-02,  1.30136986e-01,\n",
       "        4.31506849e-02,  5.75342466e-02,  6.50684932e-02,  2.48630137e-01,\n",
       "        2.18493151e-01,  2.11643836e-01,  1.12328767e-01,  5.47945205e-03,\n",
       "        2.05479452e-03,  1.16438356e-02,  2.73972603e-03,  2.05479452e-03,\n",
       "        8.01369863e-02,  2.73972603e-03,  8.63013699e-01,  5.47945205e-03,\n",
       "        8.21917808e-03,  1.78082192e-02,  8.25342466e-01,  8.21917808e-02])"
      ]
     },
     "execution_count": 112,
     "metadata": {},
     "output_type": "execute_result"
    }
   ],
   "source": [
    "sc.mean_"
   ]
  },
  {
   "cell_type": "code",
   "execution_count": 113,
   "id": "79859495",
   "metadata": {},
   "outputs": [
    {
     "data": {
      "text/plain": [
       "(512,)"
      ]
     },
     "execution_count": 113,
     "metadata": {},
     "output_type": "execute_result"
    }
   ],
   "source": [
    "sc.mean_.shape"
   ]
  },
  {
   "cell_type": "code",
   "execution_count": 114,
   "id": "aec92e42",
   "metadata": {},
   "outputs": [
    {
     "data": {
      "text/plain": [
       "array(['LotFrontage', 'LotArea', 'Utilities', 'OverallQual',\n",
       "       'OverallCond', 'MasVnrArea', 'ExterQual', 'ExterCond', 'BsmtQual',\n",
       "       'BsmtCond', 'BsmtExposure', 'BsmtFinType1', 'BsmtFinSF1',\n",
       "       'BsmtFinType2', 'BsmtFinSF2', 'BsmtUnfSF', 'TotalBsmtSF',\n",
       "       'HeatingQC', '1stFlrSF', '2ndFlrSF', 'LowQualFinSF', 'GrLivArea',\n",
       "       'BsmtFullBath', 'BsmtHalfBath', 'FullBath', 'HalfBath',\n",
       "       'BedroomAbvGr', 'KitchenAbvGr', 'KitchenQual', 'TotRmsAbvGrd',\n",
       "       'Functional', 'Fireplaces', 'FireplaceQu', 'GarageFinish',\n",
       "       'GarageCars', 'GarageArea', 'GarageQual', 'GarageCond',\n",
       "       'PavedDrive', 'WoodDeckSF', 'OpenPorchSF', 'EnclosedPorch',\n",
       "       '3SsnPorch', 'ScreenPorch', 'PoolArea', 'PoolQC', 'MiscVal',\n",
       "       'MSSubClass_150', 'MSSubClass_160', 'MSSubClass_180',\n",
       "       'MSSubClass_190', 'MSSubClass_20', 'MSSubClass_30',\n",
       "       'MSSubClass_40', 'MSSubClass_45', 'MSSubClass_50', 'MSSubClass_60',\n",
       "       'MSSubClass_70', 'MSSubClass_75', 'MSSubClass_80', 'MSSubClass_85',\n",
       "       'MSSubClass_90', 'MSZoning_FV', 'MSZoning_RH', 'MSZoning_RL',\n",
       "       'MSZoning_RM', 'Street_Pave', 'Alley_NA', 'Alley_Pave',\n",
       "       'LotShape_IR2', 'LotShape_IR3', 'LotShape_Reg', 'LandContour_HLS',\n",
       "       'LandContour_Low', 'LandContour_Lvl', 'LotConfig_CulDSac',\n",
       "       'LotConfig_FR2', 'LotConfig_FR3', 'LotConfig_Inside',\n",
       "       'LandSlope_Mod', 'LandSlope_Sev', 'Neighborhood_Blueste',\n",
       "       'Neighborhood_BrDale', 'Neighborhood_BrkSide',\n",
       "       'Neighborhood_ClearCr', 'Neighborhood_CollgCr',\n",
       "       'Neighborhood_Crawfor', 'Neighborhood_Edwards',\n",
       "       'Neighborhood_Gilbert', 'Neighborhood_IDOTRR',\n",
       "       'Neighborhood_MeadowV', 'Neighborhood_Mitchel',\n",
       "       'Neighborhood_NAmes', 'Neighborhood_NPkVill',\n",
       "       'Neighborhood_NWAmes', 'Neighborhood_NoRidge',\n",
       "       'Neighborhood_NridgHt', 'Neighborhood_OldTown',\n",
       "       'Neighborhood_SWISU', 'Neighborhood_Sawyer',\n",
       "       'Neighborhood_SawyerW', 'Neighborhood_Somerst',\n",
       "       'Neighborhood_StoneBr', 'Neighborhood_Timber',\n",
       "       'Neighborhood_Veenker', 'Condition1_Feedr', 'Condition1_Norm',\n",
       "       'Condition1_PosA', 'Condition1_PosN', 'Condition1_RRAe',\n",
       "       'Condition1_RRAn', 'Condition1_RRNe', 'Condition1_RRNn',\n",
       "       'Condition2_Feedr', 'Condition2_Norm', 'Condition2_PosA',\n",
       "       'Condition2_PosN', 'Condition2_RRAe', 'Condition2_RRAn',\n",
       "       'Condition2_RRNn', 'BldgType_2fmCon', 'BldgType_Duplex',\n",
       "       'BldgType_Twnhs', 'BldgType_TwnhsE', 'HouseStyle_1.5Unf',\n",
       "       'HouseStyle_1Story', 'HouseStyle_2.5Fin', 'HouseStyle_2.5Unf',\n",
       "       'HouseStyle_2Story', 'HouseStyle_SFoyer', 'HouseStyle_SLvl',\n",
       "       'YearBuilt_1875', 'YearBuilt_1879', 'YearBuilt_1880',\n",
       "       'YearBuilt_1882', 'YearBuilt_1885', 'YearBuilt_1890',\n",
       "       'YearBuilt_1892', 'YearBuilt_1893', 'YearBuilt_1895',\n",
       "       'YearBuilt_1896', 'YearBuilt_1898', 'YearBuilt_1900',\n",
       "       'YearBuilt_1901', 'YearBuilt_1902', 'YearBuilt_1904',\n",
       "       'YearBuilt_1905', 'YearBuilt_1906', 'YearBuilt_1907',\n",
       "       'YearBuilt_1908', 'YearBuilt_1910', 'YearBuilt_1911',\n",
       "       'YearBuilt_1912', 'YearBuilt_1913', 'YearBuilt_1914',\n",
       "       'YearBuilt_1915', 'YearBuilt_1916', 'YearBuilt_1917',\n",
       "       'YearBuilt_1918', 'YearBuilt_1919', 'YearBuilt_1920',\n",
       "       'YearBuilt_1921', 'YearBuilt_1922', 'YearBuilt_1923',\n",
       "       'YearBuilt_1924', 'YearBuilt_1925', 'YearBuilt_1926',\n",
       "       'YearBuilt_1927', 'YearBuilt_1928', 'YearBuilt_1929',\n",
       "       'YearBuilt_1930', 'YearBuilt_1931', 'YearBuilt_1932',\n",
       "       'YearBuilt_1934', 'YearBuilt_1935', 'YearBuilt_1936',\n",
       "       'YearBuilt_1937', 'YearBuilt_1938', 'YearBuilt_1939',\n",
       "       'YearBuilt_1940', 'YearBuilt_1941', 'YearBuilt_1942',\n",
       "       'YearBuilt_1945', 'YearBuilt_1946', 'YearBuilt_1947',\n",
       "       'YearBuilt_1948', 'YearBuilt_1949', 'YearBuilt_1950',\n",
       "       'YearBuilt_1951', 'YearBuilt_1952', 'YearBuilt_1953',\n",
       "       'YearBuilt_1954', 'YearBuilt_1955', 'YearBuilt_1956',\n",
       "       'YearBuilt_1957', 'YearBuilt_1958', 'YearBuilt_1959',\n",
       "       'YearBuilt_1960', 'YearBuilt_1961', 'YearBuilt_1962',\n",
       "       'YearBuilt_1963', 'YearBuilt_1964', 'YearBuilt_1965',\n",
       "       'YearBuilt_1966', 'YearBuilt_1967', 'YearBuilt_1968',\n",
       "       'YearBuilt_1969', 'YearBuilt_1970', 'YearBuilt_1971',\n",
       "       'YearBuilt_1972', 'YearBuilt_1973', 'YearBuilt_1974',\n",
       "       'YearBuilt_1975', 'YearBuilt_1976', 'YearBuilt_1977',\n",
       "       'YearBuilt_1978', 'YearBuilt_1979', 'YearBuilt_1980',\n",
       "       'YearBuilt_1981', 'YearBuilt_1982', 'YearBuilt_1983',\n",
       "       'YearBuilt_1984', 'YearBuilt_1985', 'YearBuilt_1986',\n",
       "       'YearBuilt_1987', 'YearBuilt_1988', 'YearBuilt_1989',\n",
       "       'YearBuilt_1990', 'YearBuilt_1991', 'YearBuilt_1992',\n",
       "       'YearBuilt_1993', 'YearBuilt_1994', 'YearBuilt_1995',\n",
       "       'YearBuilt_1996', 'YearBuilt_1997', 'YearBuilt_1998',\n",
       "       'YearBuilt_1999', 'YearBuilt_2000', 'YearBuilt_2001',\n",
       "       'YearBuilt_2002', 'YearBuilt_2003', 'YearBuilt_2004',\n",
       "       'YearBuilt_2005', 'YearBuilt_2006', 'YearBuilt_2007',\n",
       "       'YearBuilt_2008', 'YearBuilt_2009', 'YearBuilt_2010',\n",
       "       'YearRemodAdd_1951', 'YearRemodAdd_1952', 'YearRemodAdd_1953',\n",
       "       'YearRemodAdd_1954', 'YearRemodAdd_1955', 'YearRemodAdd_1956',\n",
       "       'YearRemodAdd_1957', 'YearRemodAdd_1958', 'YearRemodAdd_1959',\n",
       "       'YearRemodAdd_1960', 'YearRemodAdd_1961', 'YearRemodAdd_1962',\n",
       "       'YearRemodAdd_1963', 'YearRemodAdd_1964', 'YearRemodAdd_1965',\n",
       "       'YearRemodAdd_1966', 'YearRemodAdd_1967', 'YearRemodAdd_1968',\n",
       "       'YearRemodAdd_1969', 'YearRemodAdd_1970', 'YearRemodAdd_1971',\n",
       "       'YearRemodAdd_1972', 'YearRemodAdd_1973', 'YearRemodAdd_1974',\n",
       "       'YearRemodAdd_1975', 'YearRemodAdd_1976', 'YearRemodAdd_1977',\n",
       "       'YearRemodAdd_1978', 'YearRemodAdd_1979', 'YearRemodAdd_1980',\n",
       "       'YearRemodAdd_1981', 'YearRemodAdd_1982', 'YearRemodAdd_1983',\n",
       "       'YearRemodAdd_1984', 'YearRemodAdd_1985', 'YearRemodAdd_1986',\n",
       "       'YearRemodAdd_1987', 'YearRemodAdd_1988', 'YearRemodAdd_1989',\n",
       "       'YearRemodAdd_1990', 'YearRemodAdd_1991', 'YearRemodAdd_1992',\n",
       "       'YearRemodAdd_1993', 'YearRemodAdd_1994', 'YearRemodAdd_1995',\n",
       "       'YearRemodAdd_1996', 'YearRemodAdd_1997', 'YearRemodAdd_1998',\n",
       "       'YearRemodAdd_1999', 'YearRemodAdd_2000', 'YearRemodAdd_2001',\n",
       "       'YearRemodAdd_2002', 'YearRemodAdd_2003', 'YearRemodAdd_2004',\n",
       "       'YearRemodAdd_2005', 'YearRemodAdd_2006', 'YearRemodAdd_2007',\n",
       "       'YearRemodAdd_2008', 'YearRemodAdd_2009', 'YearRemodAdd_2010',\n",
       "       'RoofStyle_Gable', 'RoofStyle_Gambrel', 'RoofStyle_Hip',\n",
       "       'RoofStyle_Mansard', 'RoofStyle_Shed', 'RoofMatl_CompShg',\n",
       "       'RoofMatl_Membran', 'RoofMatl_Metal', 'RoofMatl_Roll',\n",
       "       'RoofMatl_Tar&Grv', 'RoofMatl_WdShake', 'RoofMatl_WdShngl',\n",
       "       'Exterior1st_AsphShn', 'Exterior1st_BrkComm',\n",
       "       'Exterior1st_BrkFace', 'Exterior1st_CBlock', 'Exterior1st_CemntBd',\n",
       "       'Exterior1st_HdBoard', 'Exterior1st_ImStucc',\n",
       "       'Exterior1st_MetalSd', 'Exterior1st_Plywood', 'Exterior1st_Stone',\n",
       "       'Exterior1st_Stucco', 'Exterior1st_VinylSd', 'Exterior1st_Wd Sdng',\n",
       "       'Exterior1st_WdShing', 'Exterior2nd_AsphShn',\n",
       "       'Exterior2nd_Brk Cmn', 'Exterior2nd_BrkFace', 'Exterior2nd_CBlock',\n",
       "       'Exterior2nd_CmentBd', 'Exterior2nd_HdBoard',\n",
       "       'Exterior2nd_ImStucc', 'Exterior2nd_MetalSd', 'Exterior2nd_Other',\n",
       "       'Exterior2nd_Plywood', 'Exterior2nd_Stone', 'Exterior2nd_Stucco',\n",
       "       'Exterior2nd_VinylSd', 'Exterior2nd_Wd Sdng',\n",
       "       'Exterior2nd_Wd Shng', 'MasVnrType_BrkFace', 'MasVnrType_None',\n",
       "       'MasVnrType_Stone', 'Foundation_CBlock', 'Foundation_PConc',\n",
       "       'Foundation_Slab', 'Foundation_Stone', 'Foundation_Wood',\n",
       "       'Heating_GasA', 'Heating_GasW', 'Heating_Grav', 'Heating_OthW',\n",
       "       'Heating_Wall', 'CentralAir_Y', 'Electrical_FuseF',\n",
       "       'Electrical_FuseP', 'Electrical_Mix', 'Electrical_SBrkr',\n",
       "       'GarageType_Attchd', 'GarageType_Basment', 'GarageType_BuiltIn',\n",
       "       'GarageType_CarPort', 'GarageType_Detchd', 'GarageType_NA',\n",
       "       'GarageYrBlt_1895.0', 'GarageYrBlt_1896.0', 'GarageYrBlt_1900.0',\n",
       "       'GarageYrBlt_1906.0', 'GarageYrBlt_1908.0', 'GarageYrBlt_1910.0',\n",
       "       'GarageYrBlt_1914.0', 'GarageYrBlt_1915.0', 'GarageYrBlt_1916.0',\n",
       "       'GarageYrBlt_1917.0', 'GarageYrBlt_1918.0', 'GarageYrBlt_1919.0',\n",
       "       'GarageYrBlt_1920.0', 'GarageYrBlt_1921.0', 'GarageYrBlt_1922.0',\n",
       "       'GarageYrBlt_1923.0', 'GarageYrBlt_1924.0', 'GarageYrBlt_1925.0',\n",
       "       'GarageYrBlt_1926.0', 'GarageYrBlt_1927.0', 'GarageYrBlt_1928.0',\n",
       "       'GarageYrBlt_1929.0', 'GarageYrBlt_1930.0', 'GarageYrBlt_1931.0',\n",
       "       'GarageYrBlt_1932.0', 'GarageYrBlt_1933.0', 'GarageYrBlt_1934.0',\n",
       "       'GarageYrBlt_1935.0', 'GarageYrBlt_1936.0', 'GarageYrBlt_1937.0',\n",
       "       'GarageYrBlt_1938.0', 'GarageYrBlt_1939.0', 'GarageYrBlt_1940.0',\n",
       "       'GarageYrBlt_1941.0', 'GarageYrBlt_1942.0', 'GarageYrBlt_1943.0',\n",
       "       'GarageYrBlt_1945.0', 'GarageYrBlt_1946.0', 'GarageYrBlt_1947.0',\n",
       "       'GarageYrBlt_1948.0', 'GarageYrBlt_1949.0', 'GarageYrBlt_1950.0',\n",
       "       'GarageYrBlt_1951.0', 'GarageYrBlt_1952.0', 'GarageYrBlt_1953.0',\n",
       "       'GarageYrBlt_1954.0', 'GarageYrBlt_1955.0', 'GarageYrBlt_1956.0',\n",
       "       'GarageYrBlt_1957.0', 'GarageYrBlt_1958.0', 'GarageYrBlt_1959.0',\n",
       "       'GarageYrBlt_1960.0', 'GarageYrBlt_1961.0', 'GarageYrBlt_1962.0',\n",
       "       'GarageYrBlt_1963.0', 'GarageYrBlt_1964.0', 'GarageYrBlt_1965.0',\n",
       "       'GarageYrBlt_1966.0', 'GarageYrBlt_1967.0', 'GarageYrBlt_1968.0',\n",
       "       'GarageYrBlt_1969.0', 'GarageYrBlt_1970.0', 'GarageYrBlt_1971.0',\n",
       "       'GarageYrBlt_1972.0', 'GarageYrBlt_1973.0', 'GarageYrBlt_1974.0',\n",
       "       'GarageYrBlt_1975.0', 'GarageYrBlt_1976.0', 'GarageYrBlt_1977.0',\n",
       "       'GarageYrBlt_1978.0', 'GarageYrBlt_1979.0', 'GarageYrBlt_1980.0',\n",
       "       'GarageYrBlt_1981.0', 'GarageYrBlt_1982.0', 'GarageYrBlt_1983.0',\n",
       "       'GarageYrBlt_1984.0', 'GarageYrBlt_1985.0', 'GarageYrBlt_1986.0',\n",
       "       'GarageYrBlt_1987.0', 'GarageYrBlt_1988.0', 'GarageYrBlt_1989.0',\n",
       "       'GarageYrBlt_1990.0', 'GarageYrBlt_1991.0', 'GarageYrBlt_1992.0',\n",
       "       'GarageYrBlt_1993.0', 'GarageYrBlt_1994.0', 'GarageYrBlt_1995.0',\n",
       "       'GarageYrBlt_1996.0', 'GarageYrBlt_1997.0', 'GarageYrBlt_1998.0',\n",
       "       'GarageYrBlt_1999.0', 'GarageYrBlt_2000.0', 'GarageYrBlt_2001.0',\n",
       "       'GarageYrBlt_2002.0', 'GarageYrBlt_2003.0', 'GarageYrBlt_2004.0',\n",
       "       'GarageYrBlt_2005.0', 'GarageYrBlt_2006.0', 'GarageYrBlt_2007.0',\n",
       "       'GarageYrBlt_2008.0', 'GarageYrBlt_2009.0', 'GarageYrBlt_2010.0',\n",
       "       'GarageYrBlt_2207.0', 'Fence_GdWo', 'Fence_MnPrv', 'Fence_MnWw',\n",
       "       'Fence_NA', 'MiscFeature_NA', 'MiscFeature_Othr',\n",
       "       'MiscFeature_Shed', 'MiscFeature_TenC', 'MoSold_Aug', 'MoSold_Dec',\n",
       "       'MoSold_Feb', 'MoSold_Jan', 'MoSold_Jul', 'MoSold_Jun',\n",
       "       'MoSold_Mar', 'MoSold_May', 'MoSold_Nov', 'MoSold_Oct',\n",
       "       'MoSold_Sep', 'YrSold_2007', 'YrSold_2008', 'YrSold_2009',\n",
       "       'YrSold_2010', 'SaleType_CWD', 'SaleType_Con', 'SaleType_ConLD',\n",
       "       'SaleType_ConLI', 'SaleType_ConLw', 'SaleType_New', 'SaleType_Oth',\n",
       "       'SaleType_WD', 'SaleCondition_AdjLand', 'SaleCondition_Alloca',\n",
       "       'SaleCondition_Family', 'SaleCondition_Normal',\n",
       "       'SaleCondition_Partial'], dtype=object)"
      ]
     },
     "execution_count": 114,
     "metadata": {},
     "output_type": "execute_result"
    }
   ],
   "source": [
    "sc.feature_names_in_"
   ]
  },
  {
   "cell_type": "code",
   "execution_count": 115,
   "id": "09e29d95",
   "metadata": {},
   "outputs": [],
   "source": [
    "# carry forward for deployment\n",
    "\n",
    "# sc.n_features_in_\n",
    "# sc.n_samples_seen_\n",
    "# sc.with_mean\n",
    "# sc.with_std\n",
    "# sc.scale_\n",
    "# sc.var_"
   ]
  },
  {
   "cell_type": "markdown",
   "id": "31d8875e",
   "metadata": {},
   "source": [
    "## Import Models for Training and Testing"
   ]
  },
  {
   "cell_type": "code",
   "execution_count": null,
   "id": "0c8c713e",
   "metadata": {},
   "outputs": [],
   "source": [
    "!pip install xgboost"
   ]
  },
  {
   "cell_type": "code",
   "execution_count": 127,
   "id": "21512859",
   "metadata": {},
   "outputs": [
    {
     "ename": "ModuleNotFoundError",
     "evalue": "No module named 'xgboost'",
     "output_type": "error",
     "traceback": [
      "\u001b[1;31m---------------------------------------------------------------------------\u001b[0m",
      "\u001b[1;31mModuleNotFoundError\u001b[0m                       Traceback (most recent call last)",
      "Input \u001b[1;32mIn [127]\u001b[0m, in \u001b[0;36m<cell line: 13>\u001b[1;34m()\u001b[0m\n\u001b[0;32m     10\u001b[0m \u001b[38;5;28;01mfrom\u001b[39;00m \u001b[38;5;21;01msklearn\u001b[39;00m\u001b[38;5;21;01m.\u001b[39;00m\u001b[38;5;21;01misotonic\u001b[39;00m \u001b[38;5;28;01mimport\u001b[39;00m IsotonicRegression\n\u001b[0;32m     12\u001b[0m \u001b[38;5;28;01mfrom\u001b[39;00m \u001b[38;5;21;01msklearn\u001b[39;00m\u001b[38;5;21;01m.\u001b[39;00m\u001b[38;5;21;01mneural_network\u001b[39;00m \u001b[38;5;28;01mimport\u001b[39;00m MLPRegressor\n\u001b[1;32m---> 13\u001b[0m \u001b[38;5;28;01mfrom\u001b[39;00m \u001b[38;5;21;01mxgboost\u001b[39;00m \u001b[38;5;28;01mimport\u001b[39;00m XGBRegression\n\u001b[0;32m     14\u001b[0m \u001b[38;5;28;01mfrom\u001b[39;00m \u001b[38;5;21;01msklearn\u001b[39;00m\u001b[38;5;21;01m.\u001b[39;00m\u001b[38;5;21;01msvr\u001b[39;00m \u001b[38;5;28;01mimport\u001b[39;00m SVR\n",
      "\u001b[1;31mModuleNotFoundError\u001b[0m: No module named 'xgboost'"
     ]
    }
   ],
   "source": [
    "from sklearn.svm import SVR\n",
    "from sklearn.linear_model import LinearRegression\n",
    "from sklearn.linear_model import SGDRegressor\n",
    "from sklearn.neighbors import KNeighborsRegressor\n",
    "from sklearn.gaussian_process import GaussianProcessRegressor\n",
    "from sklearn.tree import DecisionTreeRegressor\n",
    "\n",
    "from sklearn.ensemble import GradientBoostingRegressor\n",
    "from sklearn.ensemble import RandomForestRegressor\n",
    "from sklearn.isotonic import IsotonicRegression\n",
    "\n",
    "from sklearn.neural_network import MLPRegressor\n",
    "from xgboost import XGBRegression\n"
   ]
  },
  {
   "cell_type": "code",
   "execution_count": null,
   "id": "dc527f3f",
   "metadata": {},
   "outputs": [],
   "source": [
    "svr=SVR()\n",
    "lr = LinearRegressor()\n",
    "sgdl=  SGDLinearRegressor()\n",
    "knr = KNeighborsRegressor()\n",
    "gpr = GaussianProcessRegressor()\n",
    "dtr = DecisionTreeRegressor()\n",
    "\n",
    "gbr = GradientBoostingRegressor()\n",
    "rfr = RandomForestRegressor()\n",
    "ir = IsotonicRegression()\n",
    "\n",
    "mlpr = MLPRegressor()\n",
    "xgbr = XGBRegressor()\n"
   ]
  },
  {
   "cell_type": "code",
   "execution_count": null,
   "id": "eba694cf",
   "metadata": {},
   "outputs": [],
   "source": [
    "models= {\"a\":[\"SVR\", svr],\n",
    "         \"b\":[\"LinearRegressor\", lr],\n",
    "         \"c\":[\"SGDLinearRegressor\", sgdl],\n",
    "         \"d\":[\"KNeighborsRegressor\", knr],\n",
    "         \"e\":[\"GaussianProcessRegressor\", gpr],\n",
    "         \"f\":[\"DecisionTreeRegressor\", dtr],\n",
    "         \"g\":[\"GradientBoostingRegressor\",gbr],\n",
    "         \"h\":[\"RandomForestRegressor\", rfr],\n",
    "         \"i\":[\"IsotonicRegression\", ir],\n",
    "         \"j\":[\"MLPRegressor\", mlpr],\n",
    "         \"k\":[\"XGBRegressor\", xgbr]       \n",
    "        \n",
    "        }"
   ]
  },
  {
   "cell_type": "code",
   "execution_count": null,
   "id": "be607943",
   "metadata": {},
   "outputs": [],
   "source": []
  },
  {
   "cell_type": "code",
   "execution_count": null,
   "id": "9c1710ef",
   "metadata": {},
   "outputs": [],
   "source": []
  }
 ],
 "metadata": {
  "kernelspec": {
   "display_name": "Python 3 (ipykernel)",
   "language": "python",
   "name": "python3"
  },
  "language_info": {
   "codemirror_mode": {
    "name": "ipython",
    "version": 3
   },
   "file_extension": ".py",
   "mimetype": "text/x-python",
   "name": "python",
   "nbconvert_exporter": "python",
   "pygments_lexer": "ipython3",
   "version": "3.9.12"
  }
 },
 "nbformat": 4,
 "nbformat_minor": 5
}
